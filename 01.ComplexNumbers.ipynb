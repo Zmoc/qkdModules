{
 "cells": [
  {
   "cell_type": "code",
   "execution_count": 30,
   "metadata": {},
   "outputs": [],
   "source": [
    "from PIL import Image\n",
    "import IPython.display as display\n",
    "from QKDResources.pyfiles.saquiz1_1 import SAQuiz1_1\n",
    "from QKDResources.pyfiles.saquiz1_2 import SAQuiz1_2\n",
    "\n",
    "drive = \"QKDResources/images/01/\"\n",
    "\n",
    "img1 = Image.open(drive + \"nanomod3-fig1.png\")\n",
    "img2 = Image.open(drive + \"nanomod3-fig2.png\")"
   ]
  },
  {
   "cell_type": "markdown",
   "metadata": {},
   "source": [
    "# 01 Complex Numbers"
   ]
  },
  {
   "cell_type": "markdown",
   "metadata": {
    "jp-MarkdownHeadingCollapsed": true
   },
   "source": [
    "## Learning Goals"
   ]
  },
  {
   "cell_type": "markdown",
   "metadata": {},
   "source": [
    "1. Students will master the concept of complex number representations.\n",
    "\n",
    "2. Students will be able to perform basic additive and multiplicative operations on complex numbers.\n",
    "\n",
    "3. Students will be able to implement Python programs that perform basic operations of addition and multiplication on complex numbers.\n",
    "\n",
    "4. Students will be able to represent complex numbers as ordered pairs.\n",
    "\n",
    "5. Students will know some of the basic properties of complex numbers and operations on them.\n",
    "\n",
    "6. Students will be able to compute the modulus and conjugate of complex numbers.\n",
    "\n",
    "7. Students will be able to prove basic properties of modulus and conjugate operations.\n",
    "\n",
    "8. Students will be able to implement programs to divide two complex numbers, compute the modulus and conjugate.\n",
    "\n",
    "9. Students will be able to represent complex numbers as Cartesian coordinates and plot them on the complex plane.\n",
    "\n",
    "10. Students will be able to represent complex numbers using polar representations and plot them on the complex plane.\n",
    "\n",
    "11. Students will be able to convert back and forth between Cartesian and polar representations.\n",
    "\n",
    "12. Students will be able to implement programs that convert between Cartesian and polar representations."
   ]
  },
  {
   "cell_type": "markdown",
   "metadata": {
    "slideshow": {
     "slide_type": "slide"
    }
   },
   "source": [
    "## 01.01: The Basics of Complex Numbers "
   ]
  },
  {
   "cell_type": "markdown",
   "metadata": {
    "slideshow": {
     "slide_type": "slide"
    }
   },
   "source": [
    "### 01.01.01: Background"
   ]
  },
  {
   "cell_type": "markdown",
   "metadata": {},
   "source": [
    "In order to start understanding the theory behind quantum computing and cryptography, one needs to first understand what complex numbers are. It often comes as a surprise to many that complex numbers are deeply ingrained in quantum theory and nature for that matter!\n",
    "\n",
    "We usually work with the following number systems:\n",
    "- Positive numbers, $\\mathbb{P} = {1, 2, 3, \\ldots}$\n",
    "- Natural numbers, $\\mathbb{N} = {0, 1, 2, 3, \\ldots}$\n",
    "- Integers, $\\mathbb{Z} = {\\ldots, -3, -2, -1, 0, 1, 2, 3, \\ldots}$\n",
    "- Rational numbers, $\\mathbb{Q} = {\\frac{m}{n}|m\\in\\mathbb{Z}, n\\in\\mathbb{P}}$\n",
    "- Real numbers, $\\mathbb{R} = \\mathbb{Q}\\cup{\\ldots,\\sqrt{2},\\ldots,e,\\ldots,\\pi,\\ldots,\\frac{e}{\\pi},\\ldots}$\n",
    "\n",
    "The last of these, set of real numbers, encompasses all the other types of number systems. So where do complex numbers come from and how do they fit in with the above commonly used number systems?"
   ]
  },
  {
   "cell_type": "markdown",
   "metadata": {
    "slideshow": {
     "slide_type": "slide"
    }
   },
   "source": [
    "### 01.01.02: Imaginary Numbers"
   ]
  },
  {
   "cell_type": "markdown",
   "metadata": {},
   "source": [
    "The birth of complex numbers is motivated by the desire to find solutions for polynomial equations. It is easy to see that some polynomials such as $x^2=-1$ do not have any solutions in real numbers. Mathematicians therefore had to take a leap of faith and assume that a solution to such equations does exist. In other words, there is a number that when squared will result in -1.\n",
    "\n",
    "They denoted this number by $i$, such that $i=\\sqrt{-1}$. Indeed, $i^2=-1$. Therefore, the solution to the above equation is $x=i$.\n",
    "\n",
    "This new number, $i$, clearly does not exist within the set of real numbers and is aptly called an *imaginary number*.\n",
    "\n",
    "We can use $i$ to do arithmetic operations. Therefore:\n",
    "\n",
    "\\begin{aligned}\n",
    "i^2 &= -1\\\\\n",
    "i^3 &= i\\times i\\times i = i^2\\times i=-1\\times i=-i\\\\\n",
    "i^4 &= (i^2)^2=1\\\\\n",
    "\\end{aligned}\n",
    "\n",
    "and so on. Very soon a pattern emerges that can be used to compute higher powers of $i$."
   ]
  },
  {
   "cell_type": "markdown",
   "metadata": {
    "slideshow": {
     "slide_type": "slide"
    }
   },
   "source": [
    "### 01.01.03: Complex Numbers"
   ]
  },
  {
   "cell_type": "markdown",
   "metadata": {},
   "source": [
    "Now that we know what real numbers look like and what imaginary numbers look like, we can define a complex number as follows,\n",
    "\n",
    "*A <b>complex number</b> is a combination of real and imaginary numbers. Therefore, an expression $c=a+b\\times i = a+bi$, where $a$ and $b$ are real numbers is said to be a complex number. Here $bi=b\\times i$ is understood.*\n",
    "\n",
    "Note that when $a=0$, we only have $c=bi$ and is a valid complex number. Often $a$ is called the real part of $c$ and $b$ is called the imaginary part of $c$. The set of all complex numbers is denoted by $\\mathbb{C}$."
   ]
  },
  {
   "cell_type": "markdown",
   "metadata": {
    "slideshow": {
     "slide_type": "slide"
    }
   },
   "source": [
    "### 01.01.04: Operations on Complex Numbers"
   ]
  },
  {
   "cell_type": "markdown",
   "metadata": {},
   "source": [
    "Let's look at a couple of operations on complex numbers: addition and multiplication.\n",
    "\n",
    "Addition:\n",
    "\\begin{aligned}\n",
    "\\text{If: } c_1 &= a_1+b_1i \\text{ and } \\\\\n",
    "c_2 &= a_2+b_2i\\\\\n",
    "\\text{Then: } c_1+c_2 &= (a_1+a_2)+(b_1+b_2)i \\\\\n",
    "\\end{aligned}\n",
    "\n",
    "Multiplication:\n",
    "\\begin{aligned}\n",
    "\\text{If: } c_1 &= a_1+b_1i \\text{ and } \\\\\n",
    "c_2&=a_2+b_2i \\\\\n",
    "\\text{Then: } c_1\\times c_2 &= (a_1a_2-b_1b_2)+(a_1b_2+a_2b_1)i \\\\\n",
    "\\end{aligned}\n",
    "\n",
    "Therefore, $i$ is almost treated as a variable.\n",
    "\n",
    "Example:\n",
    "\n",
    "Let $c_1=5+11i$ and $c_2=3+8i$, then:\n",
    "\\begin{aligned}\n",
    "c_1+c_2 &= (5+3) + (11+8)i \\\\\n",
    "&= 8+19i \\\\\n",
    "c_1\\times c_2 &= (5\\times3-11\\times8)+(5\\times8+11\\times3)i \\\\\n",
    "&=-73+73i \\\\\n",
    "\\end{aligned}"
   ]
  },
  {
   "cell_type": "markdown",
   "metadata": {},
   "source": [
    "## 01.02: Properties of Complex Numbers"
   ]
  },
  {
   "cell_type": "markdown",
   "metadata": {},
   "source": [
    "### 01.02.01: Background"
   ]
  },
  {
   "cell_type": "markdown",
   "metadata": {},
   "source": [
    "One way to develop an intuition for complex numbers is to look at them geometrically in a 2-dimensional plane. From the definition of complex numbers, we learned that complex numbers have two real numbers within them besides the imaginary number that we've invented, $i = \\sqrt{-1}$.\n",
    "\n",
    "We can omit writing $i$ by simply representing complex numbers as ordered pairs, $c\\rightarrow (a,b)$, where $a$ and $b$ are the real and imaginary parts of $c=a+bi$. Real numbers are represented as $(a,0)$ and imaginary numbers are $(0,b)$.\n",
    "\n",
    "Let $c_1\\rightarrow(a_1,b_1)$ and $c_2\\rightarrow(a_2,b_2)$. Then the two operations that we've seen so far may be rewritten as follows:\n",
    "\n",
    "\\begin{aligned}\n",
    "c_1+c_2 &= (a_1,b_1)+(a_2,b_2) \\\\\n",
    "&= (a_1+a_2, b_1+b_2) \\\\\n",
    "c_1\\times c_2 &= (a_1a_2-b_1b_2, a_1b_2+b_1a_2) \\\\\n",
    "\\end{aligned}"
   ]
  },
  {
   "cell_type": "markdown",
   "metadata": {},
   "source": [
    "### 01.02.02: Properties of Complex Numbers "
   ]
  },
  {
   "cell_type": "markdown",
   "metadata": {},
   "source": [
    "Addition is both <b>commutative</b> and <b>associative</b>. Therefore:\n",
    "$$c_1+c_2 = c_2+c_1$$\n",
    "$$(c_1+c_2)+c_3 = c_1+(c_2+c_3)$$\n",
    "\n",
    "Multiplication is both commutative and associative. Consequently:\n",
    "$$c_1\\times c_2 = c_2\\times c_1$$\n",
    "$$(c_1\\times c_2)\\times c_3 = c_1\\times(c_2\\times c_3)$$"
   ]
  },
  {
   "cell_type": "markdown",
   "metadata": {},
   "source": [
    "<b> Distributivity:</b> Multiplication over addition\n",
    "$$c_1\\times(c_2+c_3) = (c_1\\times c_2)+(c_1\\times c_3)$$\n",
    "\n",
    "<b> Negation:</b> Negation simply distributes -1 over a complex number using the above property. Therefore:\n",
    "\\begin{aligned}\n",
    "-c_1 &= -1\\times c_1 \\\\\n",
    "&= -1\\times(a+bi) \\\\\n",
    "&= -a-bi \\\\\n",
    "\\end{aligned}\n",
    "\n",
    "<b> Subtraction:</b> Subtraction is the same as adding $c_1$ and $-c_2$. Therefore:\n",
    "\\begin{aligned}\n",
    "c_1-c_2 &= c_1+(-c_2) \\\\\n",
    "&=(a_1,b_1)-(a_2,b_2) \\\\\n",
    "&=(a_1,b_1)+(-a_2,-b_2) \\\\\n",
    "&=(a_1-a_2, b_1-b_2) \\\\\n",
    "\\end{aligned}\n",
    "\n",
    "<b> Division:</b> Division requires solving for $x$ and $y$, where $(x,y) = \\frac{(a_1,b_1)}{(a_2,b_2)}$.\n",
    "\n",
    "The result is:\n",
    "$$x=\\frac{a_1a_2+b_1b_2}{a_2^2+b_2^2}$$\n",
    "and\n",
    "$$y=\\frac{a_2b_1-a_1b_2}{a_2^2+b_2^2}$$\n",
    "\n",
    "where:\n",
    "$$\\frac{c_1}{c_2}=(x,y)=x+yi$$"
   ]
  },
  {
   "cell_type": "markdown",
   "metadata": {},
   "source": [
    "### 01.02.03: Modulus and Conjugation"
   ]
  },
  {
   "cell_type": "markdown",
   "metadata": {},
   "source": [
    "#### Modulus\n",
    "\n",
    "The <b>modulus</b> of a complex number is given by:\n",
    "\\begin{aligned}\n",
    "\\rvert c\\rvert &= \\rvert a+bi\\rvert \\\\\n",
    "&=+\\sqrt{a^2+b^2}\n",
    "\\end{aligned}\n",
    "\n",
    "- Note that we are only concerned with the positive square roots.\n",
    "\n",
    "<b>Example: </b>Modulus of $c=5+7i$ is:\n",
    "\\begin{aligned}\n",
    "\\rvert c\\rvert&=\\sqrt{5^2+7^2} \\\\\n",
    "&=\\sqrt{25+49} \\\\\n",
    "&=\\sqrt{74} \\\\\n",
    "\\end{aligned}\n",
    "\n",
    "#### Conjugate\n",
    "\n",
    "Conjugate of a complex number, $c=a+bi$, is computed by simply changing the sign of the imaginary part. Therefore the conjugate is given by:\n",
    "\n",
    "- $\\overline{c}=a-bi$\n",
    "\n",
    "In the later lessons, we will sometimes denote the conjugate with an asterisk as $c^*$.\n",
    "\n",
    "<b>Example: </b>The conjugate of $c=2-3i$ is $\\overline{c}=2+3i$."
   ]
  },
  {
   "cell_type": "markdown",
   "metadata": {},
   "source": [
    "## 01.03: Complex Numbers on a Plane"
   ]
  },
  {
   "cell_type": "markdown",
   "metadata": {},
   "source": [
    "### 01.03.01: Cartesian Representation of Complex Numbers"
   ]
  },
  {
   "cell_type": "markdown",
   "metadata": {},
   "source": [
    "Writing complex numbers as ordered pairs $c\\rightarrow(a,b)$, makes them very similar to $(x,y)$ coordinate. We will call the plane on which we plot these complex numbers as the <b>complex plane</b> or the <b>Argand plane</b>. The imaginary part of the complex number will be plotted along the $y$-axis and the real part of the complex number will be plotted along the $x$-axis.\n",
    "\n",
    "The modulus, therefore, becomes the <b>length</b> of the vector based on Pythagoras's theorem. Figure below depicts $c=2+4i$.\n",
    "\n",
    "\\begin{aligned}\n",
    "\\rvert c\\rvert &= length(c) \\\\\n",
    "&= \\sqrt{2^2+4^2} \\\\\n",
    "&= \\sqrt{4+16} \\\\\n",
    "&= \\sqrt{20} \\\\\n",
    "\\end{aligned}\n",
    "\n",
    "<b>Figure 1.</b> Complex number drawn as a vector.\n",
    "\n",
    "Often representing complex numbers as $(x,y)$ coordinates is called <b>Cartesian representation</b>."
   ]
  },
  {
   "cell_type": "code",
   "execution_count": 31,
   "metadata": {},
   "outputs": [
    {
     "data": {
      "image/png": "[encoded data removed]",
      "text/plain": [
       "<PIL.PngImagePlugin.PngImageFile image mode=RGBA size=405x315>"
      ]
     },
     "metadata": {},
     "output_type": "display_data"
    }
   ],
   "source": [
    "display.display(img1)"
   ]
  },
  {
   "cell_type": "markdown",
   "metadata": {},
   "source": [
    "### 01.03.02: Polar Representation of Complex Numbers"
   ]
  },
  {
   "cell_type": "markdown",
   "metadata": {},
   "source": [
    "Vectors in a plane can also be represented using the magnitude of the vector (modulus $\\rho$) and the angle $\\theta$ it makes with the $x$-axis. This is known as the <b>polar representation</b>.\n",
    "\n",
    "$$(a,b)\\rightarrow(\\rho,\\theta)$$\n",
    "where:\n",
    "$$\\rho=\\sqrt{a^2+b^2}$$\n",
    "and\n",
    "$$\\theta=tan^{-1}(\\frac{b}{a})$$\n",
    "\n",
    "Going back to Cartesian representation: $a =\\rho cos (\\theta)$ and $b = \\rho sin(\\theta)$. Therefore, $a$ and $b$ are the projections of the vector on the $x$ and $y$ axes, respectively."
   ]
  },
  {
   "cell_type": "markdown",
   "metadata": {},
   "source": [
    "<b> Example:</b> The polar representation for $c=-2+2i$ can be computed as follows,\n",
    "\n",
    "\\begin{aligned}\n",
    "\\rho &= \\sqrt{(-2)^2+2^2} \\\\\n",
    "&= \\sqrt{4+4} \\\\\n",
    "&= \\sqrt{8}\n",
    "\\end{aligned}\n",
    "\n",
    "\\begin{aligned}\n",
    "\\theta &= tan^{-1}(\\frac{2}{-2}) \\\\\n",
    "&= tan^{-1}(-1) \\\\\n",
    "&= \\frac{3\\pi}{4}\n",
    "\\end{aligned}\n",
    "\n",
    "<b>Figure 2.</b> Complex number drawn using polar representation."
   ]
  },
  {
   "cell_type": "code",
   "execution_count": 32,
   "metadata": {},
   "outputs": [
    {
     "data": {
      "image/png": "[encoded data removed]",
      "text/plain": [
       "<PIL.PngImagePlugin.PngImageFile image mode=RGBA size=525x413>"
      ]
     },
     "metadata": {},
     "output_type": "display_data"
    }
   ],
   "source": [
    "display.display(img2)"
   ]
  },
  {
   "cell_type": "markdown",
   "metadata": {},
   "source": [
    "### 01.03.03: Multiplication using Polar Coordinates"
   ]
  },
  {
   "cell_type": "markdown",
   "metadata": {},
   "source": [
    "Recall that multiplication of complex numbers is somewhat complicated using cartesian coordinates. However, multiplication becomes very simple in polar coordinates. Given two complex numbers:\n",
    "\n",
    "$$c_1\\rightarrow(\\rho_1,\\theta_1)$$\n",
    "and\n",
    "$$c_2=(\\rho_2,\\theta_2)$$\n",
    "\n",
    "$$c_1\\times c_2 = (\\rho_1\\rho_2, \\theta_1+\\theta_2)$$\n",
    "\n",
    "In other words, graphically the first vector is rotated by the angle of the second vector and its length multiplied by the length of the second vector."
   ]
  },
  {
   "cell_type": "markdown",
   "metadata": {},
   "source": [
    "# 01 Quizzes"
   ]
  },
  {
   "cell_type": "markdown",
   "metadata": {
    "editable": true,
    "jp-MarkdownHeadingCollapsed": true,
    "slideshow": {
     "slide_type": "slide"
    },
    "tags": []
   },
   "source": [
    "## Q01.01"
   ]
  },
  {
   "cell_type": "markdown",
   "metadata": {},
   "source": [
    "<b><i>Run the code in the next cell to generate a interactive version of this quiz.</i></b>\n",
    "\n",
    "1. Solve for $x$ where $x^2+25=0$. Choose the right answer:\n",
    "\n",
    "    a. $x = 5i$\n",
    "\n",
    "    b. $x = -5i$\n",
    "    \n",
    "    c. $x = i$\n",
    "    \n",
    "    d. $x = 5$\n",
    "\n",
    "2. Simplify $i^{225}$. (Hint: find a pattern)"
   ]
  },
  {
   "cell_type": "code",
   "execution_count": 33,
   "metadata": {},
   "outputs": [
    {
     "data": {
      "application/vnd.jupyter.widget-view+json": {
       "model_id": "4239967627304e28b0c9da8515aa5d3c",
       "version_major": 2,
       "version_minor": 0
      },
      "text/plain": [
       "VBox(children=(Label(value='Q01.01 Self Assessment Quiz'), Label(value='Maybe used for in-class hands-on pract…"
      ]
     },
     "execution_count": 33,
     "metadata": {},
     "output_type": "execute_result"
    }
   ],
   "source": [
    "# TODO: Convert to raw string?\n",
    "#%run drive/MyDrive/QKD/QKDResources/pyfiles/saquiz1_1\n",
    "\n",
    "#This runs the file that has the quiz code\n",
    "SAQuiz1_1"
   ]
  },
  {
   "cell_type": "markdown",
   "metadata": {
    "jp-MarkdownHeadingCollapsed": true,
    "slideshow": {
     "slide_type": "slide"
    }
   },
   "source": [
    "## Q01.02"
   ]
  },
  {
   "cell_type": "markdown",
   "metadata": {},
   "source": [
    "<b><i>Run the code in the next cell to generate a interactive version of this quiz. Note that some of the problems are generated algorithmically and therefore provides many more practice exercises.</i></b>\n",
    "\n",
    "1\\. Solve for $x$, where $x^2+2x+10=0$.\n",
    "\n",
    "Let $c_1=2+50i$ and $c_2=3+\\frac{1}{2}i$, compute the following:\n",
    "\n",
    "2\\. $c_1+c_2$\n",
    "\n",
    "3\\. $c_1\\times c_2$\n",
    "\n",
    "4\\. $7\\times c_2$"
   ]
  },
  {
   "cell_type": "code",
   "execution_count": 34,
   "metadata": {
    "slideshow": {
     "slide_type": "slide"
    }
   },
   "outputs": [
    {
     "data": {
      "application/vnd.jupyter.widget-view+json": {
       "model_id": "bdd517378bec4cb1a8d6d0d83b82fc5b",
       "version_major": 2,
       "version_minor": 0
      },
      "text/plain": [
       "VBox(children=(HTML(value='<b><font size=\"+2\">Q01.02 Self Assessment Quiz'), HTML(value='<b><font size=\"-1\"<b>…"
      ]
     },
     "execution_count": 34,
     "metadata": {},
     "output_type": "execute_result"
    }
   ],
   "source": [
    "# TODO: Convert to raw string?\n",
    "#%run drive/MyDrive/QKD/QKDResources/pyfiles/saquiz1_2  \n",
    "SAQuiz1_2"
   ]
  },
  {
   "cell_type": "markdown",
   "metadata": {
    "jp-MarkdownHeadingCollapsed": true
   },
   "source": [
    "## Q01.03"
   ]
  },
  {
   "cell_type": "markdown",
   "metadata": {},
   "source": [
    "<b><i>Run the code in the next cell to generate a interactive version of this quiz.</i></b>\n",
    "\n",
    "Solve the following using cartesian representation. Given that $c_1=3i+4$, $c_2=5+11i$ and $c_3=4i$.\n",
    "\n",
    "1. Compute: $c_1\\times c_2$\n",
    "2. Numerically verify that: $c_1\\times(c_2+c_3)=(c_1\\times c_2)+(c_1\\times c_3)$\n",
    "3. Compute: $\\frac{c_2}{c_1}$ and $\\frac{c_1}{c_3}$"
   ]
  },
  {
   "cell_type": "code",
   "execution_count": 35,
   "metadata": {},
   "outputs": [
    {
     "ename": "NameError",
     "evalue": "name 'createQuiz2_1' is not defined",
     "output_type": "error",
     "traceback": [
      "\u001b[1;31m---------------------------------------------------------------------------\u001b[0m",
      "\u001b[1;31mNameError\u001b[0m                                 Traceback (most recent call last)",
      "Cell \u001b[1;32mIn[35], line 3\u001b[0m\n\u001b[0;32m      1\u001b[0m \u001b[38;5;66;03m# TODO: Convert to raw string?\u001b[39;00m\n\u001b[0;32m      2\u001b[0m \u001b[38;5;66;03m#%run drive/MyDrive/QKD/QKDResources/pyfiles/saquiz2_1  #This runs the file that has the quiz code\u001b[39;00m\n\u001b[1;32m----> 3\u001b[0m \u001b[43mcreateQuiz2_1\u001b[49m()\n",
      "\u001b[1;31mNameError\u001b[0m: name 'createQuiz2_1' is not defined"
     ]
    }
   ],
   "source": [
    "# TODO: Convert to raw string?\n",
    "#%run drive/MyDrive/QKD/QKDResources/pyfiles/saquiz2_1  #This runs the file that has the quiz code\n",
    "createQuiz2_1()"
   ]
  },
  {
   "cell_type": "markdown",
   "metadata": {
    "jp-MarkdownHeadingCollapsed": true
   },
   "source": [
    "## Q01.04"
   ]
  },
  {
   "cell_type": "markdown",
   "metadata": {},
   "source": [
    "<b><i>Run the code in the next cell to generate a interactive version of this quiz.</i></b>\n",
    "\n",
    "Compute the modulus for the following complex numbers.\n",
    "\n",
    "1. $c=3+1i$\n",
    "2. $c=1+21i$\n",
    "3. $c=10+10i$\n",
    "\n",
    "Compute the conjugate for the following complex numbers.\n",
    "\n",
    "1. $c=-101i$\n",
    "2. $c=20+1i$\n",
    "3. $c=-1+441i$"
   ]
  },
  {
   "cell_type": "code",
   "execution_count": null,
   "metadata": {},
   "outputs": [
    {
     "data": {
      "application/vnd.jupyter.widget-view+json": {
       "model_id": "d870f6aef1d44272afc8f6e3fd64a4be",
       "version_major": 2,
       "version_minor": 0
      },
      "text/plain": [
       "VBox(children=(HTML(value='<b><font size=\"+2\">Quiz 2.2 Self Assessment Quiz'), HTML(value='<b><font size=\"-1\"<…"
      ]
     },
     "metadata": {},
     "output_type": "display_data"
    },
    {
     "data": {
      "application/vnd.jupyter.widget-view+json": {
       "model_id": "c8212cd050e94dfb9da85a7f0ddc344e",
       "version_major": 2,
       "version_minor": 0
      },
      "text/plain": [
       "HTMLMath(value='<font size=\"+1\">Compute to the nearest hundredth the modulus for the following complex numbers…"
      ]
     },
     "metadata": {},
     "output_type": "display_data"
    },
    {
     "data": {
      "application/vnd.jupyter.widget-view+json": {
       "model_id": "a407e45ac04940c79e7612693d94903a",
       "version_major": 2,
       "version_minor": 0
      },
      "text/plain": [
       "HTMLMath(value='<font size=\"+0\">1. $c$ = 3+1$i$')"
      ]
     },
     "metadata": {},
     "output_type": "display_data"
    },
    {
     "data": {
      "application/vnd.jupyter.widget-view+json": {
       "model_id": "0de545d1b2e1462ca315aa7c85438c34",
       "version_major": 2,
       "version_minor": 0
      },
      "text/plain": [
       "HBox(children=(FloatText(value=0.0, layout=Layout(width='130px')), Valid(value=False, layout=Layout(visibility…"
      ]
     },
     "metadata": {},
     "output_type": "display_data"
    },
    {
     "data": {
      "application/vnd.jupyter.widget-view+json": {
       "model_id": "13ff0ea6d11f437482342c3e15752311",
       "version_major": 2,
       "version_minor": 0
      },
      "text/plain": [
       "HTMLMath(value='<font size=\"+0\">2. $c$ = 1+21$i$')"
      ]
     },
     "metadata": {},
     "output_type": "display_data"
    },
    {
     "data": {
      "application/vnd.jupyter.widget-view+json": {
       "model_id": "40b19aba305148a4879310af29f3f8d4",
       "version_major": 2,
       "version_minor": 0
      },
      "text/plain": [
       "HBox(children=(FloatText(value=0.0, layout=Layout(width='130px')), Valid(value=False, layout=Layout(visibility…"
      ]
     },
     "metadata": {},
     "output_type": "display_data"
    },
    {
     "data": {
      "application/vnd.jupyter.widget-view+json": {
       "model_id": "07850a0d2ab34138819b49d881d8da84",
       "version_major": 2,
       "version_minor": 0
      },
      "text/plain": [
       "HTMLMath(value='<font size=\"+0\">3. $c$ = 10+10$i$')"
      ]
     },
     "metadata": {},
     "output_type": "display_data"
    },
    {
     "data": {
      "application/vnd.jupyter.widget-view+json": {
       "model_id": "da257406af2b48c7b5948438c09616f7",
       "version_major": 2,
       "version_minor": 0
      },
      "text/plain": [
       "HBox(children=(FloatText(value=0.0, layout=Layout(width='130px')), Valid(value=False, layout=Layout(visibility…"
      ]
     },
     "metadata": {},
     "output_type": "display_data"
    },
    {
     "data": {
      "application/vnd.jupyter.widget-view+json": {
       "model_id": "177caecb8fcd49859d2b04d668d4b175",
       "version_major": 2,
       "version_minor": 0
      },
      "text/plain": [
       "HTMLMath(value='<font size=\"+0\">4. $c$ = 5.3')"
      ]
     },
     "metadata": {},
     "output_type": "display_data"
    },
    {
     "data": {
      "application/vnd.jupyter.widget-view+json": {
       "model_id": "c5dcce8f79b34b7299de64a658fe5b8c",
       "version_major": 2,
       "version_minor": 0
      },
      "text/plain": [
       "HBox(children=(FloatText(value=0.0, layout=Layout(width='130px')), Valid(value=False, layout=Layout(visibility…"
      ]
     },
     "metadata": {},
     "output_type": "display_data"
    },
    {
     "data": {
      "application/vnd.jupyter.widget-view+json": {
       "model_id": "982135d884b144e093faa9b3cf0f63f5",
       "version_major": 2,
       "version_minor": 0
      },
      "text/plain": [
       "HTMLMath(value='<font size=\"+0\">5. $c$ = 5-7$i$')"
      ]
     },
     "metadata": {},
     "output_type": "display_data"
    },
    {
     "data": {
      "application/vnd.jupyter.widget-view+json": {
       "model_id": "69ff4faa210f465982875ae2064d9749",
       "version_major": 2,
       "version_minor": 0
      },
      "text/plain": [
       "HBox(children=(FloatText(value=0.0, layout=Layout(width='130px')), Valid(value=False, layout=Layout(visibility…"
      ]
     },
     "metadata": {},
     "output_type": "display_data"
    },
    {
     "data": {
      "application/vnd.jupyter.widget-view+json": {
       "model_id": "4f7b6a87ad4f43bd8bcb9356a4a50e79",
       "version_major": 2,
       "version_minor": 0
      },
      "text/plain": [
       "HTMLMath(value='<font size=\"+1\">Compute the conjugate for the following complex numbers.')"
      ]
     },
     "metadata": {},
     "output_type": "display_data"
    },
    {
     "data": {
      "application/vnd.jupyter.widget-view+json": {
       "model_id": "9cbe0a14850b4bf9b4842a23d6414669",
       "version_major": 2,
       "version_minor": 0
      },
      "text/plain": [
       "HTMLMath(value='<font size=\"+0\">1. $c$ = -101$i$')"
      ]
     },
     "metadata": {},
     "output_type": "display_data"
    },
    {
     "data": {
      "application/vnd.jupyter.widget-view+json": {
       "model_id": "bc5f66dbb87742bcad61f17d71978e44",
       "version_major": 2,
       "version_minor": 0
      },
      "text/plain": [
       "HBox(children=(Text(value='', layout=Layout(width='90px'), placeholder='a + bi'), Valid(value=False, layout=La…"
      ]
     },
     "metadata": {},
     "output_type": "display_data"
    },
    {
     "data": {
      "application/vnd.jupyter.widget-view+json": {
       "model_id": "77c3028eca6c46eabbe1cc473763c5fa",
       "version_major": 2,
       "version_minor": 0
      },
      "text/plain": [
       "HTMLMath(value='<font size=\"+0\">2. $c$ = 20+1$i$')"
      ]
     },
     "metadata": {},
     "output_type": "display_data"
    },
    {
     "data": {
      "application/vnd.jupyter.widget-view+json": {
       "model_id": "7d4740ca44fe40d6b2a72d32923292d5",
       "version_major": 2,
       "version_minor": 0
      },
      "text/plain": [
       "HBox(children=(Text(value='', layout=Layout(width='90px'), placeholder='a + bi'), Valid(value=False, layout=La…"
      ]
     },
     "metadata": {},
     "output_type": "display_data"
    },
    {
     "data": {
      "application/vnd.jupyter.widget-view+json": {
       "model_id": "9d214ace5fcd4d80a119c2c92335fcc8",
       "version_major": 2,
       "version_minor": 0
      },
      "text/plain": [
       "HTMLMath(value='<font size=\"+0\">3. $c$ = -1+441$i$')"
      ]
     },
     "metadata": {},
     "output_type": "display_data"
    },
    {
     "data": {
      "application/vnd.jupyter.widget-view+json": {
       "model_id": "e41f883b1044456a87ce792438ca7e4e",
       "version_major": 2,
       "version_minor": 0
      },
      "text/plain": [
       "HBox(children=(Text(value='', layout=Layout(width='90px'), placeholder='a + bi'), Valid(value=False, layout=La…"
      ]
     },
     "metadata": {},
     "output_type": "display_data"
    },
    {
     "data": {
      "application/vnd.jupyter.widget-view+json": {
       "model_id": "f6f3e416ccb3441b81765a82d55df8b1",
       "version_major": 2,
       "version_minor": 0
      },
      "text/plain": [
       "VBox(children=(Button(button_style='success', description='Check Answers', icon='check', style=ButtonStyle(fon…"
      ]
     },
     "metadata": {},
     "output_type": "display_data"
    }
   ],
   "source": [
    "# TODO: Convert to raw string?\n",
    "%run drive/MyDrive/QKD/QKDResources/pyfiles/saquiz2_2\n",
    "createQuiz2_2()"
   ]
  },
  {
   "cell_type": "markdown",
   "metadata": {
    "jp-MarkdownHeadingCollapsed": true
   },
   "source": [
    "## Q01.05"
   ]
  },
  {
   "cell_type": "markdown",
   "metadata": {},
   "source": [
    "<b><i>Run the code in the next cell to generate a interactive version of this quiz.</i></b>\n",
    "\n",
    "1. Convert the following into polar representations.\n",
    "\n",
    "    a. $c=1+i$\n",
    "\n",
    "    b. $c=21+48i$\n",
    "\n",
    "    c. $c=3-45i$\n",
    "<br>\n",
    "\n",
    "2. Convert the following polar representations into cartesian representations.\n",
    "\n",
    "    a. $\\rho=25$ and $\\theta=60^\\circ$\n",
    "\n",
    "    b. $\\rho=15$ and $\\theta=45^\\circ$\n",
    "\n",
    "    c. $\\rho=45$ and $\\theta=30^\\circ$\n",
    "\n",
    "<br>\n",
    "\n",
    "3. Multiply the following using polar representation.\n",
    "\n",
    "    a. $c_1=1+2i$ and $c_2=4i$\n",
    "\n",
    "    b. $c_1=2-4i$ and $c_2=3-2i$"
   ]
  },
  {
   "cell_type": "code",
   "execution_count": null,
   "metadata": {},
   "outputs": [
    {
     "data": {
      "application/vnd.jupyter.widget-view+json": {
       "model_id": "1aa237a9939545c89adbfd0f6c6a83d7",
       "version_major": 2,
       "version_minor": 0
      },
      "text/plain": [
       "Output()"
      ]
     },
     "metadata": {},
     "output_type": "display_data"
    },
    {
     "data": {
      "application/vnd.jupyter.widget-view+json": {
       "model_id": "97586ee0ba684313a6efc62fca8b7b15",
       "version_major": 2,
       "version_minor": 0
      },
      "text/plain": [
       "HBox(children=(Label(value='Real $=$'), FloatText(value=0.0, disabled=True, layout=Layout(width='90px')), Labe…"
      ]
     },
     "metadata": {},
     "output_type": "display_data"
    },
    {
     "data": {
      "application/vnd.jupyter.widget-view+json": {
       "model_id": "ed661ddcd9344df4aa81787a71d5e59c",
       "version_major": 2,
       "version_minor": 0
      },
      "text/plain": [
       "Button(button_style='warning', description='Clear', icon='check', layout=Layout(width='25%'), style=ButtonStyl…"
      ]
     },
     "metadata": {},
     "output_type": "display_data"
    },
    {
     "data": {
      "application/vnd.jupyter.widget-view+json": {
       "model_id": "7fc9076ab7074bc3bc448e5cff54acb6",
       "version_major": 2,
       "version_minor": 0
      },
      "text/plain": [
       "VBox(children=(HTML(value='<b><font size=\"+2\">Quiz 3.1 Self Assessment Quiz'), HTML(value='<b><font size=\"-1\"<…"
      ]
     },
     "metadata": {},
     "output_type": "display_data"
    },
    {
     "data": {
      "application/vnd.jupyter.widget-view+json": {
       "model_id": "b9f139d55644464aaa7c299df76e312e",
       "version_major": 2,
       "version_minor": 0
      },
      "text/plain": [
       "HTMLMath(value='<font size=\"+1\">1. Convert the following into polar representations.')"
      ]
     },
     "metadata": {},
     "output_type": "display_data"
    },
    {
     "data": {
      "application/vnd.jupyter.widget-view+json": {
       "model_id": "5f083b1b7b3e4309a0c66f02deaa4590",
       "version_major": 2,
       "version_minor": 0
      },
      "text/plain": [
       "HTMLMath(value='<font size=\"+0\">a. $c$ = 1+$i$')"
      ]
     },
     "metadata": {},
     "output_type": "display_data"
    },
    {
     "data": {
      "application/vnd.jupyter.widget-view+json": {
       "model_id": "12b9a32d0ca745f0add17c8970a71e01",
       "version_major": 2,
       "version_minor": 0
      },
      "text/plain": [
       "HBox(children=(Label(value='$\\\\rho$ $=$'), FloatText(value=0.0, layout=Layout(width='90px')), Label(value=',$\\…"
      ]
     },
     "metadata": {},
     "output_type": "display_data"
    },
    {
     "data": {
      "application/vnd.jupyter.widget-view+json": {
       "model_id": "66b8a94bb58c4a999893cf76f37c6254",
       "version_major": 2,
       "version_minor": 0
      },
      "text/plain": [
       "HTMLMath(value='<font size=\"+0\">b. $c$ = 21+48$i$')"
      ]
     },
     "metadata": {},
     "output_type": "display_data"
    },
    {
     "data": {
      "application/vnd.jupyter.widget-view+json": {
       "model_id": "beafc5a595844d1ebde2440ad72a9b74",
       "version_major": 2,
       "version_minor": 0
      },
      "text/plain": [
       "HBox(children=(Label(value='$\\\\rho$ $=$'), FloatText(value=0.0, layout=Layout(width='90px')), Label(value=',$\\…"
      ]
     },
     "metadata": {},
     "output_type": "display_data"
    },
    {
     "data": {
      "application/vnd.jupyter.widget-view+json": {
       "model_id": "a10cc356b3a54f3d8709b4d7bda3beb2",
       "version_major": 2,
       "version_minor": 0
      },
      "text/plain": [
       "HTMLMath(value='<font size=\"+0\">c. $c$ = 3-45$i$')"
      ]
     },
     "metadata": {},
     "output_type": "display_data"
    },
    {
     "data": {
      "application/vnd.jupyter.widget-view+json": {
       "model_id": "973ee6b7942047a5876975e01a74bb6c",
       "version_major": 2,
       "version_minor": 0
      },
      "text/plain": [
       "HBox(children=(Label(value='$\\\\rho$ $=$'), FloatText(value=0.0, layout=Layout(width='90px')), Label(value=',$\\…"
      ]
     },
     "metadata": {},
     "output_type": "display_data"
    },
    {
     "data": {
      "application/vnd.jupyter.widget-view+json": {
       "model_id": "60e64867aba34994a01680a2d01fb669",
       "version_major": 2,
       "version_minor": 0
      },
      "text/plain": [
       "HTMLMath(value='<font size=\"+1\">2. Convert the following polar representations into cartesian representations.…"
      ]
     },
     "metadata": {},
     "output_type": "display_data"
    },
    {
     "data": {
      "application/vnd.jupyter.widget-view+json": {
       "model_id": "f307f9c8b65d4a42a552de5cf4212b4a",
       "version_major": 2,
       "version_minor": 0
      },
      "text/plain": [
       "HTMLMath(value='<font size=\"+0\">a. $\\\\rho=25$ and $\\\\theta=60^\\\\circ$')"
      ]
     },
     "metadata": {},
     "output_type": "display_data"
    },
    {
     "data": {
      "application/vnd.jupyter.widget-view+json": {
       "model_id": "20cd8ea79add49b2a08e334d4169c5aa",
       "version_major": 2,
       "version_minor": 0
      },
      "text/plain": [
       "HBox(children=(Label(value='  ('), FloatText(value=0.0, layout=Layout(width='55px')), Label(value=' , '), Floa…"
      ]
     },
     "metadata": {},
     "output_type": "display_data"
    },
    {
     "data": {
      "application/vnd.jupyter.widget-view+json": {
       "model_id": "867870bebc44453b9f6aab47a315da0c",
       "version_major": 2,
       "version_minor": 0
      },
      "text/plain": [
       "HTMLMath(value='<font size=\"+0\">b. $\\\\rho=15$ and $\\\\theta=45^\\\\circ$')"
      ]
     },
     "metadata": {},
     "output_type": "display_data"
    },
    {
     "data": {
      "application/vnd.jupyter.widget-view+json": {
       "model_id": "1ff75557026149898b8fec890201ce4c",
       "version_major": 2,
       "version_minor": 0
      },
      "text/plain": [
       "HBox(children=(Label(value='  ('), FloatText(value=0.0, layout=Layout(width='55px')), Label(value=' , '), Floa…"
      ]
     },
     "metadata": {},
     "output_type": "display_data"
    },
    {
     "data": {
      "application/vnd.jupyter.widget-view+json": {
       "model_id": "62945284992b4cf3af94fa965ee3a58b",
       "version_major": 2,
       "version_minor": 0
      },
      "text/plain": [
       "HTMLMath(value='<font size=\"+0\">c. $\\\\rho=45$ and $\\\\theta=30^\\\\circ$')"
      ]
     },
     "metadata": {},
     "output_type": "display_data"
    },
    {
     "data": {
      "application/vnd.jupyter.widget-view+json": {
       "model_id": "93361e1dc83f491fad0b89428ffdae39",
       "version_major": 2,
       "version_minor": 0
      },
      "text/plain": [
       "HBox(children=(Label(value='  ('), FloatText(value=0.0, layout=Layout(width='55px')), Label(value=' , '), Floa…"
      ]
     },
     "metadata": {},
     "output_type": "display_data"
    },
    {
     "data": {
      "application/vnd.jupyter.widget-view+json": {
       "model_id": "b3b3eda8d1c143ab8a7fa498c307870f",
       "version_major": 2,
       "version_minor": 0
      },
      "text/plain": [
       "HTMLMath(value='<font size=\"+1\">3. Multiply the following using polar representations.')"
      ]
     },
     "metadata": {},
     "output_type": "display_data"
    },
    {
     "data": {
      "application/vnd.jupyter.widget-view+json": {
       "model_id": "28bd886b463a473da69da7d972e55d3c",
       "version_major": 2,
       "version_minor": 0
      },
      "text/plain": [
       "HTMLMath(value='<font size=\"+0\">a. $c_1$=1+2$i$ and $c_2$=4$i$')"
      ]
     },
     "metadata": {},
     "output_type": "display_data"
    },
    {
     "data": {
      "application/vnd.jupyter.widget-view+json": {
       "model_id": "5c5246f6f1904004b305af84ab3beccb",
       "version_major": 2,
       "version_minor": 0
      },
      "text/plain": [
       "HBox(children=(Label(value='$\\\\rho$ $=$'), FloatText(value=0.0, layout=Layout(width='90px')), Label(value=',$\\…"
      ]
     },
     "metadata": {},
     "output_type": "display_data"
    },
    {
     "data": {
      "application/vnd.jupyter.widget-view+json": {
       "model_id": "0f7d7cc578ca41079dff34bd8b17208e",
       "version_major": 2,
       "version_minor": 0
      },
      "text/plain": [
       "HTMLMath(value='<font size=\"+0\">b. $c_1$=2-4$i$ and $c_2$=3-2$i$')"
      ]
     },
     "metadata": {},
     "output_type": "display_data"
    },
    {
     "data": {
      "application/vnd.jupyter.widget-view+json": {
       "model_id": "ac6aaf9ad83a40ebb48ada68e99e8e48",
       "version_major": 2,
       "version_minor": 0
      },
      "text/plain": [
       "HBox(children=(Label(value='$\\\\rho$ $=$'), FloatText(value=0.0, layout=Layout(width='90px')), Label(value=',$\\…"
      ]
     },
     "metadata": {},
     "output_type": "display_data"
    },
    {
     "data": {
      "application/vnd.jupyter.widget-view+json": {
       "model_id": "45e756354c444fcdb78c23e85dccf8a8",
       "version_major": 2,
       "version_minor": 0
      },
      "text/plain": [
       "VBox(children=(Button(button_style='success', description='Check Answers', icon='check', style=ButtonStyle(fon…"
      ]
     },
     "metadata": {},
     "output_type": "display_data"
    }
   ],
   "source": [
    "# TODO: Convert to raw string?\n",
    "%run drive/MyDrive/QKD/QKDResources/pyfiles/saquiz3_1  #This runs the file that has the quiz code\n",
    "createQuiz3_1()"
   ]
  }
 ],
 "metadata": {
  "celltoolbar": "Slideshow",
  "kernelspec": {
   "display_name": "qkd",
   "language": "python",
   "name": "python3"
  },
  "language_info": {
   "codemirror_mode": {
    "name": "ipython",
    "version": 3
   },
   "file_extension": ".py",
   "mimetype": "text/x-python",
   "name": "python",
   "nbconvert_exporter": "python",
   "pygments_lexer": "ipython3",
   "version": "3.13.0"
  }
 },
 "nbformat": 4,
 "nbformat_minor": 4
}
