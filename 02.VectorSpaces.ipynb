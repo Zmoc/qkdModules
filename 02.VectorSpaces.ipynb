{
 "cells": [
  {
   "cell_type": "code",
   "execution_count": 1,
   "metadata": {},
   "outputs": [],
   "source": [
    "from PIL import Image\n",
    "import IPython.display as display\n",
    "from QKDResources.pyfiles.saquiz4_1 import createQuiz4_1\n",
    "from QKDResources.pyfiles.saquiz4_2 import createQuiz4_2\n",
    "from QKDResources.pyfiles.saquiz4_3 import createQuiz4_3\n",
    "from QKDResources.pyfiles.saquiz5_1 import createQuiz5_1\n",
    "from QKDResources.pyfiles.saquiz5_2 import createQuiz5_2\n",
    "from QKDResources.pyfiles.saquiz5_3 import createQuiz5_3\n",
    "from QKDResources.pyfiles.saquiz6_1 import createQuiz6_1\n",
    "from QKDResources.pyfiles.saquiz6_2 import createQuiz6_2\n",
    "from QKDResources.pyfiles.saquiz7_1 import createQuiz7_1\n",
    "from QKDResources.pyfiles.saquiz7_2 import createQuiz7_2\n",
    "from QKDResources.pyfiles.saquiz8_1 import createQuiz8_1\n",
    "\n",
    "drive = \"QKDResources/\"\n",
    "\n",
    "img1 = Image.open(drive + \"images/02/nanomod6-fig1.png\")"
   ]
  },
  {
   "cell_type": "markdown",
   "metadata": {},
   "source": [
    "# 02 Vector Spaces"
   ]
  },
  {
   "cell_type": "markdown",
   "metadata": {
    "jp-MarkdownHeadingCollapsed": true
   },
   "source": [
    "## Learning Goals"
   ]
  },
  {
   "cell_type": "markdown",
   "metadata": {},
   "source": [
    "1. Students will understand the concept and definition of Complex Vector Spaces.\n",
    "2. Students will be able to perform basic operation in Complex Vector Spaces.\n",
    "3. Students will prove properties of Complex Vector Spaces and operations.\n",
    "4. Students will be able to perform matrix operations and understand and use their properties.\n",
    "5. Student will be able to implement programs that performs addition, multiplication, transpose, conjugate and dagger operations on vectors and matrices.\n",
    "6. Students will understand and apply the concept of linear independence.\n",
    "7. Students will understand and apply the concept of basis and dimension of a complex vector space.\n",
    "8. Students will understand the definition and properties of inner product of vectors and matrices.\n",
    "9. Students will be able to compute the inner product.\n",
    "10. Students will be able to compute the norm of a vector.\n",
    "11. Students will understand and apply the concept of orthogonal/orthonormal vectors and basis.\n",
    "12. Students will be able to represent a vector using a given basis set.\n",
    "13. Students will understand and apply the projection of one vector onto another vector.\n",
    "14. Student will synthesize concepts to write Python programs to determine the norm and inner product of vectors and matrices.\n",
    "15. Students will understand the definition and meaning of eigenvalues and eigenvectors and compute them.\n",
    "16. Students will prove properties of Hermitian and unitary matrices.\n",
    "17. Students will be able to verify properties of unitary and Hermitian matrices.\n",
    "18. Students will know the implication of unitary matrices as transformations in quantum computing.\n",
    "19. Students will be able to implement Python programs that check if a given matrix is Hermitian or unitary.\n",
    "20. Students will prove properties Tensor products of matrices and vectors.\n",
    "21. Students will be able to compute tensor products.\n",
    "22. Students will implement a program that computes the Tensor product of two matrices."
   ]
  },
  {
   "cell_type": "markdown",
   "metadata": {
    "jp-MarkdownHeadingCollapsed": true,
    "slideshow": {
     "slide_type": "slide"
    }
   },
   "source": [
    "## 02.01: Complex Vector Spaces"
   ]
  },
  {
   "cell_type": "markdown",
   "metadata": {
    "jp-MarkdownHeadingCollapsed": true,
    "slideshow": {
     "slide_type": "slide"
    }
   },
   "source": [
    "### 02.01.01: Background"
   ]
  },
  {
   "cell_type": "markdown",
   "metadata": {},
   "source": [
    "In short, a set of vectors of fixed lengths with complex entries forms a complex vector space. These vectors will represent the state of a quantum system. When we say $\\mathbb{C}^n$ we intend to describe a complex vector space of $n^{th}$ dimension. Following are examples of complex vector spaces of 2, 3 and 4 dimensions respectively,\n",
    "\n",
    "$$\\begin{bmatrix}4+3i\\\\ 2\\end{bmatrix}, \\begin{bmatrix}7i\\\\ 0\\\\ 4\\end{bmatrix}, \\begin{bmatrix}4\\\\ 4+1i\\\\ 9\\\\ 10\\end{bmatrix}$$"
   ]
  },
  {
   "cell_type": "markdown",
   "metadata": {
    "slideshow": {
     "slide_type": "slide"
    }
   },
   "source": [
    "### 02.01.02: Operations of Complex Vectors"
   ]
  },
  {
   "cell_type": "markdown",
   "metadata": {},
   "source": [
    "<b>Addition:</b> We can add the vectors that have the same dimensions. For example, given,\n",
    "$$X=\\begin{bmatrix}7i\\\\ 0\\\\ 4\\end{bmatrix}  Y=\\begin{bmatrix}1-2i\\\\ 5+1i\\\\ -3\\end{bmatrix}$$\n",
    "then $X+Y$ amounts to elementwise addition.\n",
    "$$Z=X+Y=\\begin{bmatrix}(7i)+(1-2i)\\\\ (0)+(5+1i)\\\\ (4)+(-3)\\end{bmatrix}=\\begin{bmatrix}1+5i\\\\5+1i\\\\1\\end{bmatrix}$$\n",
    "\n",
    "Further addition is <b>commutative</b>. Therefore, $X+Y = Y+X$.\n",
    "\n",
    "And <b>associative</b>, i.e., for three vectors $X, Y$ and $Z$:\n",
    "\n",
    "$$(X+Y)+Z=X+(Y+Z)$$"
   ]
  },
  {
   "cell_type": "markdown",
   "metadata": {
    "slideshow": {
     "slide_type": "slide"
    }
   },
   "source": [
    "### 02.01.03: Operations with a scalar"
   ]
  },
  {
   "cell_type": "markdown",
   "metadata": {},
   "source": [
    "We will call a complex number $c=a+bi$ a <b>scalar</b>. To multiply a vector with a scalar we simply multiply every element of the vector with the scalar.\n",
    "\n",
    "For example, let $c=2+5i$, then:\n",
    "\n",
    "\\begin{aligned}\n",
    "c\\cdot X &= (2+5i)\\cdot\\begin{bmatrix}7i\\\\0\\\\4\\end{bmatrix} \\\\\n",
    "&=\\begin{bmatrix}(2+5i)\\cdot7i\\\\(2+5i)\\cdot0\\\\(2+5i)\\cdot4\\end{bmatrix} \\\\\n",
    "&=\\begin{bmatrix}14i-35\\\\0\\\\8+20i\\end{bmatrix}\n",
    "\\end{aligned}\n",
    "\n",
    "Properties of scalar multiplication include associativity and distributivity over addition."
   ]
  },
  {
   "cell_type": "markdown",
   "metadata": {
    "slideshow": {
     "slide_type": "slide"
    }
   },
   "source": [
    "### 02.01.04: Additive Identity and Inverse"
   ]
  },
  {
   "cell_type": "markdown",
   "metadata": {},
   "source": [
    "The zero vector, denoted by $\\mathbf{0}$ (in bold) acts as the <b>additive identity</b>. For example additive identity for $\\mathbb{C}^3$ is $[0, 0, 0]^T$; here, $T$ in the superscript denotes the transpose operation.\n",
    "\n",
    "Similarly, we have an <b>additive inverse</b> for every vector in a given complex vector space. The additive inverse is simply the negative of the vector that when added to it will make the result $\\mathbf{0}$. \n",
    "\n",
    "For vector $X$ above, the additive inverse is $-X = (-1)\\cdot X =\\begin{bmatrix}-7i\\\\ 0\\\\ -4\\end{bmatrix}$ and $X+(-X)=$ $\\mathbf{0}$."
   ]
  },
  {
   "cell_type": "markdown",
   "metadata": {
    "slideshow": {
     "slide_type": "slide"
    }
   },
   "source": [
    "### 02.01.05: Complex Vector Spaces"
   ]
  },
  {
   "cell_type": "markdown",
   "metadata": {},
   "source": [
    "We mentioned before that a nonempty set of vectors, denoted $\\mathbb{V}$, with complex entries and fixed length forms a complex vector space. The set accommodates the following operations: addition, negation and multiplication with a scalar. Further, it also has a special zero vector that forms the additive identity. We denote this vector by $\\textbf{0}$.\n",
    "\n",
    "Further, the vectors and operations in complex vector space satisfy the following properties:\n",
    "1. Addition is commutative and associative\n",
    "2. Every vector has a additive inverse: $X+(-X)=\\textbf{0}$\n",
    "3. Scalar multiplication distributes over addition and is associative."
   ]
  },
  {
   "cell_type": "markdown",
   "metadata": {
    "slideshow": {
     "slide_type": "slide"
    }
   },
   "source": [
    "### 02.01.06: Matrices and Complex Vector Spaces"
   ]
  },
  {
   "cell_type": "markdown",
   "metadata": {},
   "source": [
    "So far we've seen complex vector spaces formed using a set of vectors. By simple extension one can see that the set of $m\\times n$ matrices with complex entries also forms a complex vector space. We will leave it to the reader to explore the extension of properties, we've discussed for vectors, to matrices and verify that matrices satisfy the definition of complex vector spaces.\n",
    "\n",
    "There are three additional operations that we must discuss. Note that vectors are just matrices with one column.\n",
    "\n",
    "For a matrix $P$, $P[j,k]$ is the element in $j^{th}$ row and $k^{th}$ column.\n",
    "\n",
    "1. <b>Transpose</b> is defined as $P^T[j,k]=P[k,j]$.\n",
    "2. <b>Conjugate</b>, denoted $\\overline{P}$ or $P^*$ is a new matrix $\\overline{P}[j,k]=\\overline{P[j,k]}$, i.e. the complex conjugate of a matrix is a matrix where we've taken the complex conjugate of every element of the original matrix.\n",
    "3. <b>Dagger/Adjoint:</b> When we take both the complex conjugate and transpose of a matrix, we call the combined operation as adjoint or dagger operation. The new matrix is denoted as $P^\\dagger$\n",
    "\\begin{aligned}\n",
    "&\\text{where } P^\\dagger = (\\overline{P})^T=\\overline{(P^T)} \\\\\n",
    "&\\text{or } P^\\dagger[j,k] = \\overline{P[k,j]} \\\\\n",
    "\\end{aligned}"
   ]
  },
  {
   "cell_type": "markdown",
   "metadata": {
    "jp-MarkdownHeadingCollapsed": true,
    "slideshow": {
     "slide_type": "slide"
    }
   },
   "source": [
    "### 02.01.07: Properties of Transpose, Conjugate and Dagger Operations"
   ]
  },
  {
   "cell_type": "markdown",
   "metadata": {},
   "source": [
    "These operations satisfy the following properties for all $c\\in\\mathbb{C}$ and for all $P$, $Q\\in\\mathbb{C}^{m\\times n}$:\n",
    "\n",
    "1. Transpose, conjugate and adjoint are idempotent. Therefore,\n",
    "\\begin{aligned} \\\\\n",
    "(P^T)^T&=P \\\\\n",
    "\\overline{\\overline{P}}&=P \\\\\n",
    "(P^\\dagger)^\\dagger &= P \\\\\n",
    "\\end{aligned}\n",
    "\n",
    "2. Transpose, conjugate and adjoint respect addition. Therefore,\n",
    "\\begin{aligned}\n",
    "(P+Q)^T&=P^T+Q^T \\\\\n",
    "(P+Q)^\\dagger&=P^\\dagger+Q^\\dagger \\\\\n",
    "\\overline{P+Q}&=\\overline{P}+\\overline{Q} \\\\\n",
    "\\end{aligned}\n",
    "\n",
    "3. Transpose, conjugate and adjoint respect scalar multiplication. Therefore,\n",
    "\\begin{aligned}\n",
    "(c\\cdot P)^T&=c\\cdot P^T \\\\\n",
    "\\overline{c\\cdot P}&=\\overline{c}\\cdot\\overline{P} \\\\\n",
    "(c\\cdot P)^\\dagger &= \\overline{c}\\cdot P^\\dagger \\\\\n",
    "\\end{aligned}"
   ]
  },
  {
   "cell_type": "markdown",
   "metadata": {
    "slideshow": {
     "slide_type": "slide"
    }
   },
   "source": [
    "### 02.01.08: Matrix Multiplication"
   ]
  },
  {
   "cell_type": "markdown",
   "metadata": {},
   "source": [
    "In order to multiply two matrices, the number of columns in the first matrix must be equal to the number of rows in the second matrix. For example,\n",
    "\n",
    "$$P = \\begin{bmatrix}3+2i& 1& 2i\\\\ 4& 6+1i& 0\\\\ 2i& 5i& -1\\end{bmatrix} \\text{and }\n",
    "Q = \\begin{bmatrix}0& 1\\\\ 1i& 6-4i\\\\ 2i& 1\\end{bmatrix}$$\n",
    "\n",
    "Then $R = P\\cdot Q = \\begin{bmatrix}(3+2i)(0)+(1)(1i)+(2i)(2i)&\n",
    "(3+2i)(1)+(1)(6-4i)+(2i)(1)\\\\\n",
    "(4)(0)+(6+1i)(1i)+(0)(2i)&\n",
    "(4)(1)+(6+1i)(6-4i)+(0)(1)\\\\\n",
    "(2i)(0)+(5i)(1i)+(-1)(2i)&\n",
    "(2i)(1)+(5i)(6-4i)+(-1)(1)\n",
    "\\end{bmatrix}=\\begin{bmatrix}\n",
    "-4+i & 9\\\\\n",
    "-1+6i & 44-18i\\\\\n",
    "-5-2i & 19+32i\\end{bmatrix}$\n",
    "\n",
    "Therefore, matrix multiplication maps two complex vector spaces into a third one as follows: $\\mathbb{C}^{m\\times n}\\times\\mathbb{C}^{n\\times p}\\rightarrow\\mathbb{C}^{m\\times p}$; here $\\times$ denotes cartesian product.\n",
    "\n",
    "It is to be noted that, in general, matrix multiplication does <b>not</b> commute. That is, $P\\cdot Q$ may not always be equal to $Q\\cdot P$."
   ]
  },
  {
   "cell_type": "markdown",
   "metadata": {
    "slideshow": {
     "slide_type": "slide"
    }
   },
   "source": [
    "### 02.01.09: Identity Matrix"
   ]
  },
  {
   "cell_type": "markdown",
   "metadata": {},
   "source": [
    "There is a special $n\\times n$ square matrix that acts as a <b>multiplicative identity</b>. The identity matrix is denoted by $I_n$ and has the following structure,\n",
    "\n",
    "$$I_n=\\begin{bmatrix}1& 0&\\ldots& 0\\\\\n",
    "0& 1& \\ldots & 0\\\\\n",
    "\\vdots &\\vdots &\\ddots& \\vdots\\\\\n",
    "0& 0& \\ldots & 1\\end{bmatrix}$$\n",
    "\n",
    "Often, the dimension $n$ is implied and not written out explicitly in the subscript."
   ]
  },
  {
   "cell_type": "markdown",
   "metadata": {
    "jp-MarkdownHeadingCollapsed": true,
    "slideshow": {
     "slide_type": "slide"
    }
   },
   "source": [
    "### 02.01.10: Properties of Matrix Multiplication"
   ]
  },
  {
   "cell_type": "markdown",
   "metadata": {},
   "source": [
    "Matrix multiplication satisfies the following properties: For all $P$, $Q$ and $R$ in $\\mathbb{C}^{n\\times n}$.\n",
    "\n",
    "1. Associativity: $(P\\cdot Q)\\cdot R = P\\cdot(Q\\cdot R)$.\n",
    "2. Identity exists for square matrices: $I\\cdot P = P\\cdot I$.\n",
    "3. Distributivity: Multiplication distributes over addition: $P\\cdot(Q+R)=(P\\cdot Q)+(P\\cdot R)$.\n",
    "4. Matrix multiplication respects scalar: $c\\cdot(P\\cdot Q) = (c\\cdot P)\\cdot Q = P\\cdot(c\\cdot Q)$.\n",
    "5. Transpose relationship: $(P\\cdot Q)^T = Q^T\\cdot P^T$.\n",
    "6. Matrix multiplication respects the conjugation: $\\overline{P\\cdot Q}=\\overline{P}\\cdot\\overline{Q}$.\n",
    "7. Matrix multiplication relates to adjoint: $(P\\cdot Q)^\\dagger = Q^\\dagger\\cdot P^\\dagger$."
   ]
  },
  {
   "cell_type": "markdown",
   "metadata": {
    "jp-MarkdownHeadingCollapsed": true
   },
   "source": [
    "## 02.02: Complex Vector Spaces: Linear Combination, Independence, Basis and Dimensions"
   ]
  },
  {
   "cell_type": "markdown",
   "metadata": {
    "jp-MarkdownHeadingCollapsed": true
   },
   "source": [
    "### 02.02.01: Linear Dependence and Independence"
   ]
  },
  {
   "cell_type": "markdown",
   "metadata": {},
   "source": [
    "<b>Linear Combination:</b> Given a complex vector space $\\mathbb{V}$, a vector $V$ is said to be a <b>linear combination</b> of the vectors $V_0, V_1, \\ldots, V_{n-1}$ if it can be written as,\n",
    "\n",
    "$$V=c_0\\cdot V_0+c_1\\cdot V_1+\\ldots+c_{n-1}\\cdot V_{n-1}$$\n",
    "\n",
    "for some complex coefficients $c_0, c_1,\\ldots, c_{n-1}$ in $\\mathbb{C}$.\n",
    "\n",
    "<b>Linear Independence:</b> Given a complex vector space $\\mathbb{V}$, a set of vectors $\\{V_0, V_1,\\ldots, V_{n-1}\\}$ are said to be <b>linearly independent</b> if the only way a linear combinations of these vectors results in $\\textbf{0}$ if all the coefficients are set to zero. \n",
    "\n",
    "That is, $c_0\\cdot V_0+c_1\\cdot V_1+\\ldots+c_{n-1}\\cdot V_{n-1}= \\mathbf{0}$ if and only if $c_0=c_1=\\ldots=c_{n-1}=0$."
   ]
  },
  {
   "cell_type": "markdown",
   "metadata": {},
   "source": [
    "### 02.02.02: Examples of Linear Dependence and Independence"
   ]
  },
  {
   "cell_type": "markdown",
   "metadata": {},
   "source": [
    "<b>Example 1:</b> The set of vectors $$\\left\\{\\begin{bmatrix}1\\\\1\\\\1\\end{bmatrix},\\begin{bmatrix}0\\\\1\\\\1\\end{bmatrix},\\begin{bmatrix}0\\\\0\\\\1\\end{bmatrix}\\right\\}$$\n",
    "is linearly independent but set of vectors\n",
    "$$\\left\\{\\begin{bmatrix}1\\\\1\\\\1\\end{bmatrix},\\begin{bmatrix}1\\\\1\\\\0\\end{bmatrix},\\begin{bmatrix}2\\\\2\\\\1\\end{bmatrix}\\right\\}$$\n",
    "is not linearly independent.\n",
    "\n",
    "It is left to the reader as an exercise to figure out how to determine if a set of vectors is linearly independent or not."
   ]
  },
  {
   "cell_type": "markdown",
   "metadata": {},
   "source": [
    "### 02.02.03: Basis"
   ]
  },
  {
   "cell_type": "markdown",
   "metadata": {},
   "source": [
    "<b>Definition:</b> A set of linearly independent vectors $B=\\{V_0, V_1, \\ldots,V_{n-1}\\}$ is called a <b>basis</b> of a complex vector space $\\mathbb{V}$ if every element in the vector space can be written as a linear combination of the vectors in the basis set $B$.\n",
    "\n",
    "For example,\n",
    "$$\\left\\{\\begin{bmatrix}1\\\\1\\\\1\\end{bmatrix},\\begin{bmatrix}0\\\\1\\\\1\\end{bmatrix},\\begin{bmatrix}0\\\\0\\\\1\\end{bmatrix}\\right\\}, \\text{ and }\n",
    "\\left\\{\\begin{bmatrix}1\\\\0\\\\0\\end{bmatrix},\\begin{bmatrix}0\\\\1\\\\0\\end{bmatrix},\\begin{bmatrix}0\\\\0\\\\1\\end{bmatrix}\\right\\}$$\n",
    "are two examples of a basis set for $\\mathbb{C}^3$.\n",
    "\n",
    "As seen above, basis for a given complex vector space is not unique. However, while there are many bases for a given complex vector space we will mostly work with orthonormal bases. That is, bases whose elements are of length 1 and are orthogonal to each other. In the examples above the second set is an orthonormal basis set."
   ]
  },
  {
   "cell_type": "markdown",
   "metadata": {},
   "source": [
    "### 02.02.04: Dimension"
   ]
  },
  {
   "cell_type": "markdown",
   "metadata": {},
   "source": [
    "<b>Definition:</b> The <b>dimension</b> of a complex vector space is the number of vectors in a basis of the vector space.\n",
    "\n",
    "For example, a complex vector space given by $\\mathbb{C}^n$ has dimension $n$ and $mn$ is the dimension of complex vector space given by $\\mathbb{C}^{m\\times n}$. This also implies that all the basis sets for a given complex vector space have the same number of vectors in them."
   ]
  },
  {
   "cell_type": "markdown",
   "metadata": {},
   "source": [
    "### 02.02.05: Transition Matrices"
   ]
  },
  {
   "cell_type": "markdown",
   "metadata": {},
   "source": [
    "A transition matrix allows us to change the basis of a vector. For example, if a complex vector space has two bases $B$ and $B'$ then we can write a vector $V$ with respect to both the bases. However, the two representations would differ in coefficients. The transition matrix helps us convert between these coefficients.\n",
    "\n",
    "<b>Example: </b>\n",
    "Consider the two bases for $\\mathbb{C}^2$,\n",
    "$$B=\\left\\{\\begin{bmatrix} 1\\\\0 \\end{bmatrix}, \\begin{bmatrix} 0\\\\1 \\end{bmatrix}\\right\\} \\text{ and }\n",
    "B'=\\left\\{\\frac{1}{\\sqrt{2}}\\begin{bmatrix} 1\\\\1 \\end{bmatrix}, \\frac{1}{\\sqrt{2}}\\begin{bmatrix} 1\\\\-1 \\end{bmatrix}\\right\\}$$\n",
    "\n",
    "A vector $\\begin{bmatrix}\\frac{1}{2}\\\\\\frac{\\sqrt{3}i}{2}\\end{bmatrix}$ can be written with respect to basis $B$ as $\\frac{1}{2}\\begin{bmatrix}1\\\\0\\end{bmatrix}+\\frac{\\sqrt{3}i}{2}\\begin{bmatrix}0\\\\1\\end{bmatrix}$.\n",
    "\n",
    "The representation, however, of the same vector with respect to basis $B'$ is given by\n",
    "$\\frac{1+\\sqrt{3}i}{2\\sqrt{2}}\\cdot\\frac{1}{\\sqrt{2}}\\begin{bmatrix}1\\\\1\\end{bmatrix}+\\frac{1-\\sqrt{3}i}{2\\sqrt{2}}\\cdot\\frac{1}{\\sqrt{2}}\\begin{bmatrix}1\\\\-1\\end{bmatrix}$."
   ]
  },
  {
   "cell_type": "markdown",
   "metadata": {},
   "source": [
    "The transition matrix, in the above example, that will allow for converting the coefficients with respect to one basis to another is the famous Hadamard matrix $H=\\frac{1}{\\sqrt{2}}\\begin{bmatrix}1&1\\\\1&-1\\end{bmatrix}$.\n",
    "\n",
    "Therefore, we can get the new coefficients with respect to basis $B'$ as follows,\n",
    "$$\\frac{1}{2\\sqrt{2}}\\begin{bmatrix}1+\\sqrt{3}i\\\\1-\\sqrt{3}i\\end{bmatrix}=\\frac{1}{\\sqrt{2}}\\begin{bmatrix}1&1\\\\1&-1\\end{bmatrix}\\cdot\\begin{bmatrix}\\frac{1}{2}\\\\ \\frac{\\sqrt{3}i}{2}\\end{bmatrix}$$"
   ]
  },
  {
   "cell_type": "markdown",
   "metadata": {},
   "source": [
    "Transition matrices are a way of getting coefficients with respect to a new basis given the coefficients with respect to another basis.\n",
    "\n",
    "Due to their frequency of occurrence and usefulness in quantum computing, the two bases discussed above have been given special names,\n",
    "\n",
    "1. Basis set $B$ is called rectilinear, standard or computational basis.\n",
    "\n",
    "2. Basis set $B'$ is called diagonal or Hadamard basis.\n",
    "\n",
    "It will turn out that sometimes calculations can be performed more efficiently in the diagonal basis and hence will use the Hadamard matrix to covert to this basis, perform the calculations, and then use the Hadamard basis again to covert back to our standard rectilinear basis. Note that the Hadamard transformation acts as an inverse of itself.\n"
   ]
  },
  {
   "cell_type": "markdown",
   "metadata": {
    "jp-MarkdownHeadingCollapsed": true
   },
   "source": [
    "## 02.03: Properties and Operations on Vectors and Matrices in Complex Vector Spaces"
   ]
  },
  {
   "cell_type": "markdown",
   "metadata": {},
   "source": [
    "### 02.03.01: Inner Product"
   ]
  },
  {
   "cell_type": "markdown",
   "metadata": {},
   "source": [
    "<b>Definition: </b> An inner product (also called a dot product or scalar product) on a complex vector space $\\mathbb{V}$ is a function that takes two vectors and produces a complex number as output.\n",
    "\n",
    "The inner product of vectors is given by $\\left<V_1,V_2\\right> = V_1^\\dagger\\cdot V_2$ for both $\\mathbb{R}^n$ and $\\mathbb{C}^n$.\n",
    "\n",
    "The inner product of matrices is given by $\\left<P,Q\\right>=Trace(P^\\dagger\\cdot Q)$.\n",
    "\n",
    "Note that for vectors and matrices belonging to $\\mathbb{R}^n$, the adjoint operation is equivalent to taking the transpose."
   ]
  },
  {
   "cell_type": "markdown",
   "metadata": {},
   "source": [
    "### 02.03.02: Properties of Inner Product"
   ]
  },
  {
   "cell_type": "markdown",
   "metadata": {},
   "source": [
    "1. $\\left<V,V\\right> \\geq 0$ with equality only if $V=\\textbf{0}$   \n",
    "2. $\\left<V_1+V_2,V_3\\right> = \\left<V_1,V_3\\right>+\\left<V_2,V_3\\right>$<br>\n",
    "3. $\\left<V_1,V_2+V_3\\right> = \\left<V_1,V_2\\right>+\\left<V_1,V_3\\right>$\n",
    "4. $\\left<c\\cdot V_1,V_2\\right>=\\overline{c}\\times\\left<V_1,V_2\\right>$\n",
    "5. $\\left<V_1,c\\cdot V_2\\right>=c\\cdot\\left<V_1,V_2\\right>$\n",
    "6. $\\left<V_1,V_2\\right>=\\overline{\\left<V_2,V_1\\right>}$"
   ]
  },
  {
   "cell_type": "markdown",
   "metadata": {},
   "source": [
    "### 02.03.03: Examples: Inner Product"
   ]
  },
  {
   "cell_type": "markdown",
   "metadata": {},
   "source": [
    "<b>Example 1:</b> The inner product of $V_1=\\begin{bmatrix}1\\\\2\\\\3\\end{bmatrix}$ and $V_2=\\begin{bmatrix}4\\\\-5\\\\6\\end{bmatrix}$ is computed as follows,\n",
    "\n",
    "$$\\left<V_1,V_2\\right>=V_1^\\dagger\\cdot V_2=\\begin{bmatrix}1&2&3\\end{bmatrix}\\begin{bmatrix}4\\\\-5\\\\6\\end{bmatrix}=12$$"
   ]
  },
  {
   "cell_type": "markdown",
   "metadata": {},
   "source": [
    "<b>Example 2:</b> The inner product of $V_1=\\begin{bmatrix}1+2i\\\\-2\\\\4i\\end{bmatrix}$ and $V_2=\\begin{bmatrix}i\\\\-5+3i\\\\7\\end{bmatrix}$ is computed as follows,\n",
    "\n",
    "$$\\left<V_1,V_2\\right>=V_1^\\dagger\\cdot V_2=\\begin{bmatrix}1-2i&-2&-4i\\end{bmatrix}\\begin{bmatrix}i\\\\-5+3i\\\\7\\end{bmatrix}=12-33i$$"
   ]
  },
  {
   "cell_type": "markdown",
   "metadata": {},
   "source": [
    "<b>Example 3:</b> Inner product two matrices: $A=\\begin{bmatrix}1+2i& 3+4i& 5\\\\ i& -1&-i-1\\\\ 4& 4-5i& 3\\end{bmatrix}$ and $B=\\begin{bmatrix}-2i& 1& -5+7i\\\\ 1& -i+2&-1\\\\ 1& 0& 3+4i\\end{bmatrix}$ is given by,\n",
    "\n",
    "$$\\left<A,B\\right>=Trace(A^\\dagger\\cdot B)=(-3i)+(1-3i)+(-15+46i)=-14+40i$$"
   ]
  },
  {
   "cell_type": "markdown",
   "metadata": {},
   "source": [
    "### 02.03.04: Norm of a Vector"
   ]
  },
  {
   "cell_type": "markdown",
   "metadata": {},
   "source": [
    "The norm of a vector is also called its length and is computed as $|V|=\\sqrt{\\left<V,V\\right>}$, where $\\left<V,V\\right>$ is the inner product of vector $V$ with itself. \n",
    "\n",
    "Further, we see that since the length of a vector must be non-negative and real, the inner product of a vector with itself is always a non-negative real number.\n",
    "\n",
    "<b>Examples:</b> Let $V=\\begin{bmatrix}9&4&-10\\end{bmatrix}^T$. Then,\n",
    "\\begin{aligned}\n",
    "|V|&=\\left|\\begin{bmatrix}9\\\\4\\\\-10\\end{bmatrix}\\right|\\\\ &=\\sqrt{\\left<\\begin{bmatrix}9\\\\4\\\\-10\\end{bmatrix},\\begin{bmatrix}9\\\\4\\\\-10\\end{bmatrix}\\right>}\\\\ &=\\sqrt{9^2+4^2+(-10)^2} \\\\ &=\\sqrt{197}\\end{aligned}"
   ]
  },
  {
   "cell_type": "markdown",
   "metadata": {},
   "source": [
    "### 02.03.05 Orthogonal Vectors"
   ]
  },
  {
   "cell_type": "markdown",
   "metadata": {},
   "source": [
    "Two vectors $V_1$ and $V_2$ are said to be orthogonal to each other if their inner product, $\\left<V_1,V_2\\right>$, is 0. In other words, orthogonal vectors are perpendicular to each other.\n",
    "\n",
    "<b>Examples</b>\n",
    "\n",
    "1. Vectors $V_1=\\begin{bmatrix}1&0&-1\\end{bmatrix}^T$ and $V_2=\\begin{bmatrix}1&\\sqrt{2}&1\\end{bmatrix}^T$ are orthogonal.\n",
    "\n",
    "2. Vectors $V_1=\\begin{bmatrix}1&2\\end{bmatrix}^T$ and $V_2=\\begin{bmatrix}2&-1\\end{bmatrix}^T$ are orthogonal."
   ]
  },
  {
   "cell_type": "markdown",
   "metadata": {},
   "source": [
    "### 02.03.06: Orthogonal Basis"
   ]
  },
  {
   "cell_type": "markdown",
   "metadata": {},
   "source": [
    "<b>Definition:</b> Given a basis $B=\\{V_0,V_1,\\ldots,V_{n-1}\\}$ for a complex vector space if $j\\neq k$ implies $\\left<V_j,V_k\\right>=0$, then we say that basis $B$ is an <b>orthogonal basis</b> for the complex vector space.\n",
    "\n",
    "An <b>orthonormal basis</b> is an orthogonal basis if every vector in the basis set has length 1, i.e. $\\left<V_j,V_k\\right>=1$ when $j=k$."
   ]
  },
  {
   "cell_type": "markdown",
   "metadata": {},
   "source": [
    "### 02.03.07: Projection"
   ]
  },
  {
   "cell_type": "markdown",
   "metadata": {},
   "source": [
    "From trigonometry we see that if vectors $V_1$ and $V_2$ make an angle of $\\theta$ with each other as shown in the figure, then their inner product can be written as,\n",
    "\n",
    "$$\\left<V_1,V_2\\right>=\\rvert V_1\\rvert\\rvert V_2\\rvert\\cdot cos\\theta$$\n",
    "\n",
    "If $\\rvert V_2\\rvert=1$, then $\\left<V_1,V_2\\right>=\\rvert V_1\\rvert\\cdot cos\\theta$\n",
    "\n",
    "Therefore, when $\\rvert V_2\\rvert=1$ the inner product of $V_1$ and $V_2$ represents the length of the projection of $V_1$ onto the direction of $V_2$ and therefore scales $V_2$."
   ]
  },
  {
   "cell_type": "code",
   "execution_count": 2,
   "metadata": {},
   "outputs": [
    {
     "data": {
      "image/png": "[encoded data removed]",
      "text/plain": [
       "<PIL.PngImagePlugin.PngImageFile image mode=RGBA size=1742x562>"
      ]
     },
     "metadata": {},
     "output_type": "display_data"
    }
   ],
   "source": [
    "display.display(img1)"
   ]
  },
  {
   "cell_type": "markdown",
   "metadata": {
    "jp-MarkdownHeadingCollapsed": true
   },
   "source": [
    "## 02.04: Advanced Concepts in Complex Vector Spaces"
   ]
  },
  {
   "cell_type": "markdown",
   "metadata": {},
   "source": [
    "### 02.04.01: Eigenvalues and Eigenvectors"
   ]
  },
  {
   "cell_type": "markdown",
   "metadata": {},
   "source": [
    "<b>Examples: </b>Consider the following $2\\times2$ matrix\n",
    "\n",
    "$$\\begin{bmatrix}6&-1.5\\\\3&1.5\\end{bmatrix}$$\n",
    "\n",
    "We see that\n",
    "\n",
    "$$\\begin{bmatrix}6&-1.5\\\\3&1.5\\end{bmatrix}\\begin{bmatrix}1\\\\1\\end{bmatrix}=\\begin{bmatrix}4.5\\\\4.5\\end{bmatrix}=4.5\\begin{bmatrix}1\\\\1\\end{bmatrix}$$\n",
    "\n",
    "Therefore, multiplying the matrix with the vector is equivalent to scaling the vector. Although this is not true for all the matrices and vectors, when this does happen we call the vector eigenvectors of the matrix and the scalar is called eigenvalue corresponding to the eigenvector."
   ]
  },
  {
   "cell_type": "markdown",
   "metadata": {},
   "source": [
    "### 02.04.02: Definition: Eigenvectors and eigenvalues"
   ]
  },
  {
   "cell_type": "markdown",
   "metadata": {},
   "source": [
    "Given a complex matrix $A\\in \\mathbb{C}$ and a complex vector $V\\neq0$ if,\n",
    "\n",
    "$$A\\cdot V = c\\cdot V$$\n",
    "\n",
    "where $c$ is a complex scalar, then $V$ is called the eigenvector of $A$ corresponding to the eigenvalue $c$.\n",
    "\n",
    "<b>Example:</b> Matrix $A=\\begin{bmatrix}0&1\\\\-2&-3\\end{bmatrix}$ has eigenvectors $v_1=\\begin{bmatrix}\\frac{1}{\\sqrt{2}}\\\\-\\frac{1}{\\sqrt{2}}\\end{bmatrix}$ and $v_2=\\begin{bmatrix}-\\frac{1}{\\sqrt{5}}\\\\\\frac{2}{\\sqrt{5}}\\end{bmatrix}$. The corresponding eigenvalues are $c_1=-1$ and $c_2=-2$, respectively."
   ]
  },
  {
   "cell_type": "markdown",
   "metadata": {},
   "source": [
    "### 02.04.03: Hermitian Matrices"
   ]
  },
  {
   "cell_type": "markdown",
   "metadata": {},
   "source": [
    "For a matrix $A$, if $A^T=A$ then we say that $A$ is a symmetric matrix. If we generalize this notion to matrices with complex number then we need to take not just the transpose but also the conjugate of matrix $A$. Further, we have a different name for these matrices.\n",
    "\n",
    "<b>Hermitian matrix: </b>An $n\\times n$ matrix $A$ is called <b>hermitian</b> if $A^\\dagger=A$.\n",
    "\n",
    "<b>Examples:</b> $A=\\begin{bmatrix}1&2-i\\\\2+i&0\\end{bmatrix}$ and $B=\\begin{bmatrix}-1& 1-2i& 0\\\\1+2i& 0 &i\\\\0&-i&1\\end{bmatrix}$ are hermitian."
   ]
  },
  {
   "cell_type": "markdown",
   "metadata": {},
   "source": [
    "### 02.04.04: Unitary Matrices"
   ]
  },
  {
   "cell_type": "markdown",
   "metadata": {},
   "source": [
    "Recall that a matrix is said to be invertible if there exists a matrix $B$ such that $A\\cdot B=I$ where $I$ is the identity matrix. $B$ is often denoted as $A^{-1}$. Unitary matrices are a type of invertible matrices with the following definition,\n",
    "\n",
    "<b>Unitary Matrix:</b> An $n\\times n$ matrix $U$ is unitary if $U U^\\dagger=U^\\dagger U=I$.\n",
    "\n",
    "<b>Examples:</b>\n",
    "\n",
    "$$\\begin{bmatrix}cos\\theta&-sin\\theta\\\\sin\\theta&cos\\theta\\end{bmatrix} \\text{ and }\\frac{1}{2}\\begin{bmatrix}1&-i&-1+i\\\\i&1&1+i\\\\1+i&-1+i&0\\end{bmatrix}$$"
   ]
  },
  {
   "cell_type": "markdown",
   "metadata": {},
   "source": [
    "### 02.04.05: Implication of Unitary Transformations"
   ]
  },
  {
   "cell_type": "markdown",
   "metadata": {},
   "source": [
    "Since unitary matrices preserve the geometry of a vector space, if we have a system that evolves according to unitary operations then we can always undo the operation and return the system to its initial state. For example, if unitary operation $U$ acts on a system represented by state $V$, then the new state is given by $V'=U\\cdot V$. However, since $U$ is unitary that means $U^\\dagger U=I$. Therefore, we can multiply both sides with $U^\\dagger$ and get $U^\\dagger V' = U^\\dagger U\\cdot V=V$. In other words, $U^\\dagger$ undoes the action of $U$. \n",
    "\n",
    "It turn out that the only operations allowable on a quantum state are unitary operations and therefore the quantum systems are <b>reversible</b> systems."
   ]
  },
  {
   "cell_type": "markdown",
   "metadata": {
    "jp-MarkdownHeadingCollapsed": true
   },
   "source": [
    "## 02.05: Overview of Tensor Analysis"
   ]
  },
  {
   "cell_type": "markdown",
   "metadata": {},
   "source": [
    "### 02.05.01: Tensor Product"
   ]
  },
  {
   "cell_type": "markdown",
   "metadata": {},
   "source": [
    "Tensor products are used to describe the joint state of two or more systems. For example, if the state of one quantum system is described by $\\mathbb{V}$ and the state of another quantum system is decribed by $\\mathbb{V}'$ then $\\mathbb{V}\\otimes\\mathbb{V}'$ describes the joint state of the two systems.\n",
    "\n",
    "More concretely if $V_0, V_1, \\ldots, V_{q}$ are vectors in $\\mathbb{V}$ and $V'_0, V'_1,\\ldots, V'_{p}$ are vectors in $\\mathbb{V}'$ then the tensor product is given by the set of \"tensors\" of all vectors in the two spaces.\n",
    "$$\\{V\\otimes V'|V\\in\\mathbb{V}\\text{ and }V'\\in\\mathbb{V'}\\}$$\n",
    "\n",
    "Tensor product distributes over addition and respects scalar multiplication."
   ]
  },
  {
   "cell_type": "markdown",
   "metadata": {},
   "source": [
    "### 02.05.02 Joint Basis for $\\mathbb{V}$ and $\\mathbb{V'}$"
   ]
  },
  {
   "cell_type": "markdown",
   "metadata": {},
   "source": [
    "If $B=\\{B_0,B_1,\\ldots,B_{m-1}\\}$ is the basis for $\\mathbb{V}$ and $B'=\\{B'_0,B'_1,\\ldots,B'_{n-1}\\}$ is the basis for $\\mathbb{V'}$, then the basis for $\\mathbb{V}\\otimes\\mathbb{V'}$ is given by,\n",
    "\n",
    "$$\\{B_j\\otimes B'_k|j=0,1,\\ldots,m-1 \\text{ and } k=0,1,\\ldots,n-1\\}$$\n",
    "\n",
    "As mentioned before the dimension of $\\mathbb{V}\\otimes\\mathbb{V'}$ is the dimension of $\\mathbb{V}$ times the dimension of $\\mathbb{V'}$"
   ]
  },
  {
   "cell_type": "markdown",
   "metadata": {},
   "source": [
    "### 02.05.03 Examples: Tensor Product"
   ]
  },
  {
   "cell_type": "markdown",
   "metadata": {},
   "source": [
    "Let us look at some concrete examples of Tensor product of vectors,\n",
    "\n",
    "$$\\begin{bmatrix}a_0\\\\a_1\\\\a_2\\end{bmatrix}\\otimes\n",
    "\\begin{bmatrix}b_0\\\\b_1\\end{bmatrix} = \\begin{bmatrix}\n",
    "a_0\\cdot\\begin{bmatrix}b_0\\\\b_1\\end{bmatrix}\\\\\n",
    "a_1\\cdot\\begin{bmatrix}b_0\\\\b_1\\end{bmatrix}\\\\\n",
    "a_2\\cdot\\begin{bmatrix}b_0\\\\b_1\\end{bmatrix}\\end{bmatrix}=\\begin{bmatrix}\n",
    "a_0b_0\\\\\n",
    "a_0b_1\\\\\n",
    "a_1b_0\\\\\n",
    "a_1b_1\\\\\n",
    "a_2b_0\\\\\n",
    "a_2b_1\\end{bmatrix}$$"
   ]
  },
  {
   "cell_type": "markdown",
   "metadata": {
    "editable": true,
    "slideshow": {
     "slide_type": ""
    },
    "tags": []
   },
   "source": [
    "<b>Example:</b> Consider the vectors $V=\\begin{bmatrix}1\\\\2i\\end{bmatrix}$ and $W=\\begin{bmatrix}2+3i\\\\4\\end{bmatrix}$\n",
    "\n",
    "The Tensor product $V\\otimes W$ is given by,\n",
    "\n",
    "$$\\begin{bmatrix}1\\\\2i\\end{bmatrix}\\otimes\\begin{bmatrix}2+3i\\\\4\\end{bmatrix}=\\begin{bmatrix}1\\cdot\\begin{bmatrix}2+3i\\\\4\\end{bmatrix}\\\\2i\\cdot\\begin{bmatrix}2+3i\\\\4\\end{bmatrix}\\end{bmatrix}=\\begin{bmatrix}2+3i\\\\4\\\\-6+4i\\\\8i\\end{bmatrix}$$"
   ]
  },
  {
   "cell_type": "markdown",
   "metadata": {},
   "source": [
    "### 02.05.04: Inseparability of Systems (Entanglement)"
   ]
  },
  {
   "cell_type": "markdown",
   "metadata": {},
   "source": [
    "While some systems can clearly be written as Tensor product of two or more vectors, other systems cannot. For example, consider a system represented by a $4\\times1$ matrix,\n",
    "\n",
    "$$\\begin{bmatrix}\n",
    "2\\\\0\\\\0\\\\1\n",
    "\\end{bmatrix}$$\n",
    "\n",
    "The above vector cannot be represented as a Tensor product of two different $2\\times1$ vectors. In such a case we say that the two vectors are entangled and therefore the systems these vectors represent are entangled as well."
   ]
  },
  {
   "cell_type": "markdown",
   "metadata": {},
   "source": [
    "### 02.05.05: Tensor Product of Matrices"
   ]
  },
  {
   "cell_type": "markdown",
   "metadata": {},
   "source": [
    "The definition of Tensor product can be readily extended to matrices as well. We will need to do this in order to construct operators for joint system states. For example, consider a $2\\times2$ matrix applied to vector $V$ in $\\mathbb{V}$ and a $3\\times3$ matrix applied to vector $V'$ in $\\mathbb{V'}$. Then the joint matrix operation is given by $A\\otimes B$. More specifically, \n",
    "\n",
    "$$A=\\begin{bmatrix}a_{0,0}&a_{0,1}\\\\a_{1,0}&a_{1,1}\\end{bmatrix}$$\n",
    "$$B=\\begin{bmatrix}b_{0,0}&b_{0,1}&b_{0,2}\\\\b_{1,0}&b_{1,1}&b_{1,2}\\\\b_{2,0}&b_{2,1}&b_{2,2}\\end{bmatrix}$$\n",
    "\n",
    "The tensor product $A\\otimes B$ is the matrix that has every element of $A$, scalar multiplied with the entire matrix $B$. Therefore,\n",
    "\n",
    "$$A\\otimes B=\\begin{bmatrix}a_{0,0}\\cdot\\begin{bmatrix}b_{0,0}&b_{0,1}&b_{0,2}\\\\b_{1,0}&b_{1,1}&b_{1,2}\\\\b_{2,0}&b_{2,1}&b_{2,2}\\end{bmatrix}&\n",
    "a_{0,1}\\cdot\\begin{bmatrix}b_{0,0}&b_{0,1}&b_{0,2}\\\\b_{1,0}&b_{1,1}&b_{1,2}\\\\b_{2,0}&b_{2,1}&b_{2,2}\\end{bmatrix}\\\\\n",
    "a_{1,0}\\cdot\\begin{bmatrix}b_{0,0}&b_{0,1}&b_{0,2}\\\\b_{1,0}&b_{1,1}&b_{1,2}\\\\b_{2,0}&b_{2,1}&b_{2,2}\\end{bmatrix}&\n",
    "a_{1,1}\\cdot\\begin{bmatrix}b_{0,0}&b_{0,1}&b_{0,2}\\\\b_{1,0}&b_{1,1}&b_{1,2}\\\\b_{2,0}&b_{2,1}&b_{2,2}\\end{bmatrix}\\end{bmatrix}$$"
   ]
  },
  {
   "cell_type": "markdown",
   "metadata": {},
   "source": [
    "### 02.05.06: Examples of Tensor Product of Matrices"
   ]
  },
  {
   "cell_type": "markdown",
   "metadata": {},
   "source": [
    "Let $A=\\begin{bmatrix}3&4i\\\\1+7i&0\\end{bmatrix}$ and $B=\\begin{bmatrix}2-17i\\\\4\\end{bmatrix}$. The tensor product is,\n",
    "\n",
    "$$A\\otimes B=\\begin{bmatrix}3\\cdot\\begin{bmatrix}2-17i\\\\4\\end{bmatrix}& 4i\\cdot\\begin{bmatrix}2-17i\\\\4\\end{bmatrix}\\\\(1+7i)\\cdot\\begin{bmatrix}2-17i\\\\4\\end{bmatrix}&0\\cdot\\begin{bmatrix}2-17i\\\\4\\end{bmatrix}\\end{bmatrix}=\\begin{bmatrix}6-51i&8i+68\\\\12&16i\\\\ 121-3i& 0\\\\4+28i&0\\end{bmatrix}$$"
   ]
  },
  {
   "cell_type": "markdown",
   "metadata": {},
   "source": [
    "### 02.05.07: Properties of Tensor Product of Matrices"
   ]
  },
  {
   "cell_type": "markdown",
   "metadata": {},
   "source": [
    "<b>Associativity:</b> For three matrices $A, B$ and $C$, $A\\otimes(B\\otimes C)=(A\\otimes B)\\otimes C$\n",
    "\n",
    "<b>Respects adjoint operation:</b> $(A\\otimes B)^\\dagger=A^\\dagger\\otimes B^\\dagger$"
   ]
  },
  {
   "cell_type": "markdown",
   "metadata": {
    "jp-MarkdownHeadingCollapsed": true
   },
   "source": [
    "# 02 Quizzes"
   ]
  },
  {
   "cell_type": "markdown",
   "metadata": {
    "jp-MarkdownHeadingCollapsed": true,
    "slideshow": {
     "slide_type": "slide"
    }
   },
   "source": [
    "## Q02.01"
   ]
  },
  {
   "cell_type": "markdown",
   "metadata": {},
   "source": [
    "<b><i>Run the code in the next cell to generate a interactive version of this quiz.</i></b>\n",
    "\n",
    "Let $c_1=2+7i$, $c_2=1-5i$ and $X=\\begin{bmatrix}5i\\\\5-1i\\\\7+10i\\end{bmatrix}$ and $Y=\\begin{bmatrix}-2i\\\\3+5i\\\\12\\end{bmatrix}$\n",
    "\n",
    "1. Compute the following,\n",
    "\n",
    "    a. $X+Y$\n",
    "\n",
    "    b. $X-Y$\n",
    "\n",
    "    c. $c_1X+c_2Y$\n",
    "<br><br>\n",
    "2. Numerically verify the following properties,\n",
    "\n",
    "    a. $c_1\\cdot(c_2\\cdot X) = (c_1\\times c_2)\\cdot X$\n",
    "\n",
    "    b. $c\\cdot(X+Y)=c\\cdot X+c\\cdot Y$\n",
    "\n",
    "    c. $(c_1+c_2)\\cdot X=c_1\\cdot V+c_2\\cdot X$\n",
    "<br><br>\n",
    "3. If for some complex number $c$ we have $c\\cdot X=X$, then $c= ?$"
   ]
  },
  {
   "cell_type": "code",
   "execution_count": null,
   "metadata": {
    "slideshow": {
     "slide_type": "slide"
    }
   },
   "outputs": [
    {
     "data": {
      "application/vnd.jupyter.widget-view+json": {
       "model_id": "269a880f967b4f0f809589371de65ea6",
       "version_major": 2,
       "version_minor": 0
      },
      "text/plain": [
       "VBox(children=(HTML(value='<b><font size=\"+2\">Q02.01 Self Assessment Quiz'), HTML(value='<b><font size=\"-1\"<b>…"
      ]
     },
     "metadata": {},
     "output_type": "display_data"
    },
    {
     "data": {
      "application/vnd.jupyter.widget-view+json": {
       "model_id": "d5b7524fb0e5468691c0cfd8d5392450",
       "version_major": 2,
       "version_minor": 0
      },
      "text/plain": [
       "HTMLMath(value='<font size=\"+1\">Let $c_1=2+7i$, $c_2=1-5i$ and $X=\\\\begin{bmatrix}5i\\\\\\\\5-1i\\\\\\\\7+10i\\\\end{bma…"
      ]
     },
     "metadata": {},
     "output_type": "display_data"
    },
    {
     "data": {
      "application/vnd.jupyter.widget-view+json": {
       "model_id": "811959318ce141c2959e6e62e3b7d87a",
       "version_major": 2,
       "version_minor": 0
      },
      "text/plain": [
       "HTML(value='<font size=\"+2\">1. Compute the following.')"
      ]
     },
     "metadata": {},
     "output_type": "display_data"
    },
    {
     "data": {
      "application/vnd.jupyter.widget-view+json": {
       "model_id": "f7fb8480fcf64ce39c4c96f0bb57c10f",
       "version_major": 2,
       "version_minor": 0
      },
      "text/plain": [
       "HBox(children=(VBox(children=(Label(value=''), HTMLMath(value='<font size=\"+0\">&emsp;&emsp;$X+Y$ = '))), HTMLM…"
      ]
     },
     "metadata": {},
     "output_type": "display_data"
    },
    {
     "data": {
      "application/vnd.jupyter.widget-view+json": {
       "model_id": "731371a7ffd940c3abb3aeaa541aa3a8",
       "version_major": 2,
       "version_minor": 0
      },
      "text/plain": [
       "HBox(children=(VBox(children=(Label(value=''), HTMLMath(value='<font size=\"+0\">&emsp;&emsp;$c_1X+c_2Y$ = '))),…"
      ]
     },
     "metadata": {},
     "output_type": "display_data"
    },
    {
     "data": {
      "application/vnd.jupyter.widget-view+json": {
       "model_id": "4774ceef1f564dd48b47ca50e26e6450",
       "version_major": 2,
       "version_minor": 0
      },
      "text/plain": [
       "HBox(children=(VBox(children=(Label(value=''), HTMLMath(value='<font size=\"+0\">&emsp;&emsp;$X-Y$ = '))), HTMLM…"
      ]
     },
     "metadata": {},
     "output_type": "display_data"
    },
    {
     "data": {
      "application/vnd.jupyter.widget-view+json": {
       "model_id": "0ca8593299a24eec80d412216a1f49d2",
       "version_major": 2,
       "version_minor": 0
      },
      "text/plain": [
       "VBox(children=(Button(button_style='success', description='Check Answers', icon='check', style=ButtonStyle(fon…"
      ]
     },
     "metadata": {},
     "output_type": "display_data"
    }
   ],
   "source": [
    "createQuiz4_1()"
   ]
  },
  {
   "cell_type": "markdown",
   "metadata": {
    "slideshow": {
     "slide_type": "slide"
    }
   },
   "source": [
    "## Q02.02"
   ]
  },
  {
   "cell_type": "markdown",
   "metadata": {},
   "source": [
    "<b><i>Run the code in the next cell to generate a interactive version of this quiz.</i></b>\n",
    "\n",
    "Given $A=\\begin{bmatrix}1+i&2\\\\-3&1-i\\end{bmatrix}$ and $B=\\begin{bmatrix}-1&5i\\\\6+11i&5-9i\\end{bmatrix}$, verify the following properties numerically,\n",
    "\n",
    "1. $(A+B)^T = A^T+B^T$\n",
    "\n",
    "2. $\\overline{A+B}=\\overline{A}+\\overline{B}$\n",
    "\n",
    "3. $(A+B)^\\dagger = A^\\dagger+B^\\dagger$"
   ]
  },
  {
   "cell_type": "code",
   "execution_count": 4,
   "metadata": {
    "slideshow": {
     "slide_type": "slide"
    }
   },
   "outputs": [
    {
     "data": {
      "application/vnd.jupyter.widget-view+json": {
       "model_id": "2871882ce43140889cc95dc5f5fcac9f",
       "version_major": 2,
       "version_minor": 0
      },
      "text/plain": [
       "VBox(children=(HTML(value='<b><font size=\"+2\">Q02.02 Self Assessment Quiz'), HTML(value='<b><font size=\"-1\"<b>…"
      ]
     },
     "metadata": {},
     "output_type": "display_data"
    },
    {
     "data": {
      "application/vnd.jupyter.widget-view+json": {
       "model_id": "ed9facfa864b4dcdb4005bbba416a0d5",
       "version_major": 2,
       "version_minor": 0
      },
      "text/plain": [
       "HTMLMath(value='<font size=\"+1\">Given $A=\\\\begin{bmatrix}1+i&2\\\\\\\\-3&1-i\\\\end{bmatrix}$ and $B=\\\\begin{bmatrix…"
      ]
     },
     "metadata": {},
     "output_type": "display_data"
    },
    {
     "data": {
      "application/vnd.jupyter.widget-view+json": {
       "model_id": "2162ca5ffdf14db0bd3ad2e9d65f08ca",
       "version_major": 2,
       "version_minor": 0
      },
      "text/plain": [
       "HTMLMath(value='<font size=\"+0\">&emsp;1. $(A+B)^T = A^T+B^T$')"
      ]
     },
     "metadata": {},
     "output_type": "display_data"
    },
    {
     "data": {
      "application/vnd.jupyter.widget-view+json": {
       "model_id": "ffdb6764a78b471994a82374434cd3c6",
       "version_major": 2,
       "version_minor": 0
      },
      "text/plain": [
       "VBox(children=(VBox(children=(HBox(children=(HTML(value=' '), Label(value='')), layout=Layout(height='40px')),…"
      ]
     },
     "metadata": {},
     "output_type": "display_data"
    },
    {
     "data": {
      "application/vnd.jupyter.widget-view+json": {
       "model_id": "090e3319b3d84379ba39b3cd98e8a69e",
       "version_major": 2,
       "version_minor": 0
      },
      "text/plain": [
       "HTMLMath(value='<font size=\"+0\">&emsp;2. $\\\\overline{A+B}=\\\\overline{A}+\\\\overline{B}$')"
      ]
     },
     "metadata": {},
     "output_type": "display_data"
    },
    {
     "data": {
      "application/vnd.jupyter.widget-view+json": {
       "model_id": "61b6f17bf8d7405b91d39f3d9f1287cb",
       "version_major": 2,
       "version_minor": 0
      },
      "text/plain": [
       "VBox(children=(VBox(children=(HBox(children=(HTML(value=' '), Label(value='')), layout=Layout(height='40px')),…"
      ]
     },
     "metadata": {},
     "output_type": "display_data"
    },
    {
     "data": {
      "application/vnd.jupyter.widget-view+json": {
       "model_id": "3cb6d30f2a0e4bdeb3f908cd4ea6b99d",
       "version_major": 2,
       "version_minor": 0
      },
      "text/plain": [
       "HTMLMath(value='<font size=\"+0\">&emsp;3. $(A+B)^\\\\dagger = A^\\\\dagger+B^\\\\dagger$')"
      ]
     },
     "metadata": {},
     "output_type": "display_data"
    },
    {
     "data": {
      "application/vnd.jupyter.widget-view+json": {
       "model_id": "4b4772f4477845bcacf6c699194c04ca",
       "version_major": 2,
       "version_minor": 0
      },
      "text/plain": [
       "VBox(children=(VBox(children=(HBox(children=(HTML(value=' '), Label(value='')), layout=Layout(height='40px')),…"
      ]
     },
     "metadata": {},
     "output_type": "display_data"
    }
   ],
   "source": [
    "createQuiz4_2()"
   ]
  },
  {
   "cell_type": "markdown",
   "metadata": {
    "slideshow": {
     "slide_type": "slide"
    }
   },
   "source": [
    "## Q02.03"
   ]
  },
  {
   "cell_type": "markdown",
   "metadata": {},
   "source": [
    "<b><i>Run the code in the next cell to generate a interactive version of this quiz.</i></b>\n",
    "\n",
    "Let $A=\\begin{bmatrix}2& 1-3i\\\\-1-3i& 4\\end{bmatrix}$, $B=\\begin{bmatrix}i&-i\\\\ 4+1i& 5i\\end{bmatrix}$,\n",
    "$C=\\begin{bmatrix}10-1i&0\\\\-1&1\\end{bmatrix}$ and $c=5-5i$.\n",
    "\n",
    "Verify the following properties:\n",
    "\n",
    "1. $(A\\cdot B)\\cdot C = A\\cdot(B\\cdot C)$\n",
    "\n",
    "2. $A\\cdot(B+C) = (A\\cdot B)+(A\\cdot C)$\n",
    "\n",
    "3. $c\\cdot(A\\cdot B) = (c\\cdot A)\\cdot B = A\\cdot(c\\cdot B)$"
   ]
  },
  {
   "cell_type": "code",
   "execution_count": 5,
   "metadata": {
    "slideshow": {
     "slide_type": "slide"
    }
   },
   "outputs": [
    {
     "data": {
      "application/vnd.jupyter.widget-view+json": {
       "model_id": "e12b58176b3c4fabaaafe8b32fdf92bc",
       "version_major": 2,
       "version_minor": 0
      },
      "text/plain": [
       "VBox(children=(HTML(value='<b><font size=\"+2\">Q02.03 Self Assessment Quiz'),), layout=Layout(display='flex_flo…"
      ]
     },
     "metadata": {},
     "output_type": "display_data"
    },
    {
     "data": {
      "application/vnd.jupyter.widget-view+json": {
       "model_id": "1e9af128e4dd4f22afb333dd498b7233",
       "version_major": 2,
       "version_minor": 0
      },
      "text/plain": [
       "HTMLMath(value='<font size=\"+1\">Let A=$\\\\begin{bmatrix}2& 1-3i\\\\\\\\-1-3i& 4\\\\end{bmatrix}$, $B=\\\\begin{bmatrix}…"
      ]
     },
     "metadata": {},
     "output_type": "display_data"
    },
    {
     "data": {
      "application/vnd.jupyter.widget-view+json": {
       "model_id": "c59b1244cd72487d96db4fcde7439d0c",
       "version_major": 2,
       "version_minor": 0
      },
      "text/plain": [
       "HTMLMath(value='<font size=\"+1\">Verify the following properties numerically:')"
      ]
     },
     "metadata": {},
     "output_type": "display_data"
    },
    {
     "data": {
      "application/vnd.jupyter.widget-view+json": {
       "model_id": "f38a9d95b5d142b3bf461781bdd29b3f",
       "version_major": 2,
       "version_minor": 0
      },
      "text/plain": [
       "HTMLMath(value='<font size=\"+0\">&emsp;1. $(A\\\\cdot B)\\\\cdot C $&emsp;=&emsp;$ A\\\\cdot(B\\\\cdot C)$')"
      ]
     },
     "metadata": {},
     "output_type": "display_data"
    },
    {
     "data": {
      "application/vnd.jupyter.widget-view+json": {
       "model_id": "b95ae7a9e4b144288cb51577052ddb13",
       "version_major": 2,
       "version_minor": 0
      },
      "text/plain": [
       "VBox(children=(VBox(children=(HBox(children=(HTML(value=' '), Label(value='')), layout=Layout(height='40px')),…"
      ]
     },
     "metadata": {},
     "output_type": "display_data"
    },
    {
     "data": {
      "application/vnd.jupyter.widget-view+json": {
       "model_id": "8d3f78cf702c4f76af3dcb2e6ca58240",
       "version_major": 2,
       "version_minor": 0
      },
      "text/plain": [
       "HTMLMath(value='<font size=\"+0\">&emsp;2. $A\\\\cdot(B+C) $&emsp;=&emsp;$ (A\\\\cdot B)+(A\\\\cdot C)$')"
      ]
     },
     "metadata": {},
     "output_type": "display_data"
    },
    {
     "data": {
      "application/vnd.jupyter.widget-view+json": {
       "model_id": "0c02cf9a838649dc893bab13faf1e80f",
       "version_major": 2,
       "version_minor": 0
      },
      "text/plain": [
       "VBox(children=(VBox(children=(HBox(children=(HTML(value=' '), Label(value='')), layout=Layout(height='40px')),…"
      ]
     },
     "metadata": {},
     "output_type": "display_data"
    },
    {
     "data": {
      "application/vnd.jupyter.widget-view+json": {
       "model_id": "2160f4630c33409e89c805dbac936060",
       "version_major": 2,
       "version_minor": 0
      },
      "text/plain": [
       "HTMLMath(value='<font size=\"+0\">&emsp;3. $c\\\\cdot(A\\\\cdot B) $&emsp;=&emsp;$ (c\\\\cdot A)\\\\cdot B $&emsp;=&emsp…"
      ]
     },
     "metadata": {},
     "output_type": "display_data"
    },
    {
     "data": {
      "application/vnd.jupyter.widget-view+json": {
       "model_id": "49ed8867d8a34a74915c036c720307cf",
       "version_major": 2,
       "version_minor": 0
      },
      "text/plain": [
       "VBox(children=(VBox(children=(HBox(children=(HTML(value=' '), Label(value='')), layout=Layout(height='40px')),…"
      ]
     },
     "metadata": {},
     "output_type": "display_data"
    }
   ],
   "source": [
    "createQuiz4_3()"
   ]
  },
  {
   "cell_type": "markdown",
   "metadata": {},
   "source": [
    "## Q02.04"
   ]
  },
  {
   "cell_type": "markdown",
   "metadata": {},
   "source": [
    "Show that the following set of vectors is not linearly independent,\n",
    "\n",
    "1. $\\begin{bmatrix}1\\\\1\\\\0\\end{bmatrix}$, $\\begin{bmatrix}1\\\\2\\\\-1\\end{bmatrix}$, $\\begin{bmatrix}1\\\\0\\\\1\\end{bmatrix}$\n",
    "<br><br>\n",
    "\n",
    "2. $\\begin{bmatrix}2\\\\-1\\\\1\\end{bmatrix}$, $\\begin{bmatrix}3\\\\-4\\\\-2\\end{bmatrix}$, $\\begin{bmatrix}5\\\\-10\\\\-8\\end{bmatrix}$"
   ]
  },
  {
   "cell_type": "code",
   "execution_count": 6,
   "metadata": {},
   "outputs": [
    {
     "data": {
      "application/vnd.jupyter.widget-view+json": {
       "model_id": "df0272a9a4b2470d8fd333288cd54064",
       "version_major": 2,
       "version_minor": 0
      },
      "text/plain": [
       "VBox(children=(HTML(value='<b><font size=\"+2\">Q02.04 Self Assessment Quiz'), HTML(value='<b><font size=\"-1\"<b>…"
      ]
     },
     "metadata": {},
     "output_type": "display_data"
    },
    {
     "data": {
      "application/vnd.jupyter.widget-view+json": {
       "model_id": "a808d8f4653947b3b985a90653b7db56",
       "version_major": 2,
       "version_minor": 0
      },
      "text/plain": [
       "HTMLMath(value='<font size=\"+1\">Show that the following set of vectors is not linearly independent,')"
      ]
     },
     "metadata": {},
     "output_type": "display_data"
    },
    {
     "data": {
      "application/vnd.jupyter.widget-view+json": {
       "model_id": "523b7a3097c04cae942a1edf512e513c",
       "version_major": 2,
       "version_minor": 0
      },
      "text/plain": [
       "HTMLMath(value='<font size=\"+0\">&emsp;1. $\\\\begin{bmatrix}1\\\\\\\\1\\\\\\\\0\\\\end{bmatrix}$, $\\\\begin{bmatrix}1\\\\\\\\2\\…"
      ]
     },
     "metadata": {},
     "output_type": "display_data"
    },
    {
     "data": {
      "application/vnd.jupyter.widget-view+json": {
       "model_id": "71ed670a730d482ba7efd07f83f1c2a3",
       "version_major": 2,
       "version_minor": 0
      },
      "text/plain": [
       "VBox(children=(VBox(children=(HBox(children=(HTML(value=' '), Label(value='')), layout=Layout(height='40px')),…"
      ]
     },
     "metadata": {},
     "output_type": "display_data"
    },
    {
     "data": {
      "application/vnd.jupyter.widget-view+json": {
       "model_id": "79539666d87b4f5aaa68b822407ede07",
       "version_major": 2,
       "version_minor": 0
      },
      "text/plain": [
       "HTMLMath(value='<font size=\"+0\">&emsp;2. $\\\\begin{bmatrix}2\\\\\\\\-1\\\\\\\\1\\\\end{bmatrix}$, $\\\\begin{bmatrix}3\\\\\\\\-…"
      ]
     },
     "metadata": {},
     "output_type": "display_data"
    },
    {
     "data": {
      "application/vnd.jupyter.widget-view+json": {
       "model_id": "0c45fb25649040f78d2382573aa99e71",
       "version_major": 2,
       "version_minor": 0
      },
      "text/plain": [
       "VBox(children=(VBox(children=(HBox(children=(HTML(value=' '), Label(value='')), layout=Layout(height='40px')),…"
      ]
     },
     "metadata": {},
     "output_type": "display_data"
    }
   ],
   "source": [
    "createQuiz5_1()"
   ]
  },
  {
   "cell_type": "markdown",
   "metadata": {},
   "source": [
    "## Q02.05"
   ]
  },
  {
   "cell_type": "markdown",
   "metadata": {},
   "source": [
    "1. Verify that the following are basis for $\\mathbb{C}^2$\n",
    "\n",
    "    a. $B_1$ = $\\left\\{\\begin{bmatrix}1\\\\0\\end{bmatrix}, \\begin{bmatrix}0\\\\1\\end{bmatrix}\\right\\}$\n",
    "<br><br>\n",
    "    b. $B_2$ = $\\left\\{\\begin{bmatrix}1\\\\1\\end{bmatrix}, \\begin{bmatrix}1\\\\-1\\end{bmatrix}\\right\\}$\n",
    "<br><br>"
   ]
  },
  {
   "cell_type": "code",
   "execution_count": 7,
   "metadata": {},
   "outputs": [
    {
     "data": {
      "application/vnd.jupyter.widget-view+json": {
       "model_id": "bc87a597547b4be09db977b40acfb7a2",
       "version_major": 2,
       "version_minor": 0
      },
      "text/plain": [
       "VBox(children=(HTML(value='<b><font size=\"+2\">Q02.05 Self Assessment Quiz'), HTML(value='<b><font size=\"-1\"<b>…"
      ]
     },
     "metadata": {},
     "output_type": "display_data"
    },
    {
     "data": {
      "application/vnd.jupyter.widget-view+json": {
       "model_id": "966803ded41f429484dc34ec179e2050",
       "version_major": 2,
       "version_minor": 0
      },
      "text/plain": [
       "HTMLMath(value='<font size=\"+1\"> Verify that the following are basis for $\\\\mathbb{C}^2$')"
      ]
     },
     "metadata": {},
     "output_type": "display_data"
    },
    {
     "data": {
      "application/vnd.jupyter.widget-view+json": {
       "model_id": "4fa474f3594c40efbc4c332fc003865f",
       "version_major": 2,
       "version_minor": 0
      },
      "text/plain": [
       "HTMLMath(value='<font size=\"+0\">&emsp;a.&emsp; $B_1$ =&emsp; $\\\\left\\\\{\\\\begin{bmatrix}1\\\\\\\\0\\\\end{bmatrix}, \\…"
      ]
     },
     "metadata": {},
     "output_type": "display_data"
    },
    {
     "data": {
      "application/vnd.jupyter.widget-view+json": {
       "model_id": "acc18cf51b834b94bca7aefc0ac9800a",
       "version_major": 2,
       "version_minor": 0
      },
      "text/plain": [
       "VBox(children=(VBox(children=(HBox(children=(HTML(value=' '), Label(value='')), layout=Layout(height='40px')),…"
      ]
     },
     "metadata": {},
     "output_type": "display_data"
    },
    {
     "data": {
      "application/vnd.jupyter.widget-view+json": {
       "model_id": "fc4c063167f441398c4de55127f7670b",
       "version_major": 2,
       "version_minor": 0
      },
      "text/plain": [
       "HTMLMath(value='<font size=\"+0\">&emsp;b.&emsp; $B_2$ = &emsp;$\\\\left\\\\{\\\\begin{bmatrix}1\\\\\\\\1\\\\end{bmatrix}, \\…"
      ]
     },
     "metadata": {},
     "output_type": "display_data"
    },
    {
     "data": {
      "application/vnd.jupyter.widget-view+json": {
       "model_id": "0e28455837f74422bbbe54c87284d6bc",
       "version_major": 2,
       "version_minor": 0
      },
      "text/plain": [
       "VBox(children=(VBox(children=(HBox(children=(HTML(value=' '), Label(value='')), layout=Layout(height='40px')),…"
      ]
     },
     "metadata": {},
     "output_type": "display_data"
    }
   ],
   "source": [
    "createQuiz5_2()"
   ]
  },
  {
   "cell_type": "markdown",
   "metadata": {},
   "source": [
    "## Q02.06"
   ]
  },
  {
   "cell_type": "markdown",
   "metadata": {},
   "source": [
    "1. Represent the following vectors with respect to Hadamard basis,\n",
    "\n",
    "    a. $\\begin{bmatrix}\\frac{\\sqrt{2}}{2}\\\\\\frac{\\sqrt{2}}{2}\\end{bmatrix}$\n",
    "\n",
    "    b. $\\begin{bmatrix}\\frac{i}{\\sqrt{3}}\\\\\\frac{\\sqrt{2}}{\\sqrt{3}}\\end{bmatrix}$\n",
    "<br><br>\n",
    "\n",
    "2. Prove that Hadamard matrix is its own inverse.\n"
   ]
  },
  {
   "cell_type": "code",
   "execution_count": 8,
   "metadata": {},
   "outputs": [
    {
     "data": {
      "application/vnd.jupyter.widget-view+json": {
       "model_id": "2788825dd17e4068b2876aee0c0b531d",
       "version_major": 2,
       "version_minor": 0
      },
      "text/plain": [
       "VBox(children=(HTML(value='<b><font size=\"+2\">Q02.06 Self Assessment Quiz'), HTML(value='<b><font size=\"-1\"<b>…"
      ]
     },
     "metadata": {},
     "output_type": "display_data"
    },
    {
     "data": {
      "application/vnd.jupyter.widget-view+json": {
       "model_id": "5773d631f1c44e60ae99b585f2b39d4c",
       "version_major": 2,
       "version_minor": 0
      },
      "text/plain": [
       "HTMLMath(value='<font size=\"+1\">1. Represent the following vectors with respect to Hadamard basis,')"
      ]
     },
     "metadata": {},
     "output_type": "display_data"
    },
    {
     "data": {
      "application/vnd.jupyter.widget-view+json": {
       "model_id": "e9bd42cfd7f14e328dea07318992622c",
       "version_major": 2,
       "version_minor": 0
      },
      "text/plain": [
       "HTMLMath(value='<font size=\"+0\">&emsp;a. $\\\\begin{bmatrix}\\\\frac{\\\\sqrt{2}}{2}\\\\\\\\\\\\frac{\\\\sqrt{2}}{2}\\\\end{bm…"
      ]
     },
     "metadata": {},
     "output_type": "display_data"
    },
    {
     "data": {
      "application/vnd.jupyter.widget-view+json": {
       "model_id": "cbfc736bf0db487687792cd75b3fc9f7",
       "version_major": 2,
       "version_minor": 0
      },
      "text/plain": [
       "VBox(children=(VBox(children=(HBox(children=(HTML(value=' '), Label(value='')), layout=Layout(height='40px')),…"
      ]
     },
     "metadata": {},
     "output_type": "display_data"
    },
    {
     "data": {
      "application/vnd.jupyter.widget-view+json": {
       "model_id": "8df31e7458294a32b46cbda681753804",
       "version_major": 2,
       "version_minor": 0
      },
      "text/plain": [
       "HTMLMath(value='<font size=\"+0\">&emsp;b. $\\\\begin{bmatrix}\\\\frac{i}{\\\\sqrt{3}}\\\\\\\\\\\\frac{\\\\sqrt{2}}{\\\\sqrt{3}}…"
      ]
     },
     "metadata": {},
     "output_type": "display_data"
    },
    {
     "data": {
      "application/vnd.jupyter.widget-view+json": {
       "model_id": "806d63ec2279417bad6bb57d89edba05",
       "version_major": 2,
       "version_minor": 0
      },
      "text/plain": [
       "VBox(children=(VBox(children=(HBox(children=(HTML(value=' '), Label(value='')), layout=Layout(height='40px')),…"
      ]
     },
     "metadata": {},
     "output_type": "display_data"
    },
    {
     "data": {
      "application/vnd.jupyter.widget-view+json": {
       "model_id": "7c9c23a5ad2a43e7ac77aa60075585d7",
       "version_major": 2,
       "version_minor": 0
      },
      "text/plain": [
       "HTMLMath(value='<font size=\"+0\">&emsp;2. Prove that Hadamard matrix is its own inverse.')"
      ]
     },
     "metadata": {},
     "output_type": "display_data"
    },
    {
     "data": {
      "application/vnd.jupyter.widget-view+json": {
       "model_id": "12392ffd89414b22ba6a671072460b08",
       "version_major": 2,
       "version_minor": 0
      },
      "text/plain": [
       "VBox(children=(VBox(children=(HBox(children=(HTML(value=' '), Label(value='')), layout=Layout(height='40px')),…"
      ]
     },
     "metadata": {},
     "output_type": "display_data"
    }
   ],
   "source": [
    "createQuiz5_3()"
   ]
  },
  {
   "cell_type": "markdown",
   "metadata": {},
   "source": [
    "## Q02.07"
   ]
  },
  {
   "cell_type": "markdown",
   "metadata": {},
   "source": [
    "1. Compute the inner product of the following.\n",
    "\n",
    "    a. $V_1=\\begin{bmatrix}3\\\\4\\\\-10i\\end{bmatrix}$ and $V_2=\\begin{bmatrix}3-2i\\\\0\\\\1+i\\end{bmatrix}$\n",
    "\n",
    "    b. $V_1=\\begin{bmatrix}-3\\\\-4\\\\10i\\end{bmatrix}$ and $V_2=\\begin{bmatrix}-3+2i\\\\0\\\\-1-i\\end{bmatrix}$\n",
    "\n",
    "    c. $A=\\begin{bmatrix}-2i& 0& 5+4i\\\\ 1& -1&-i-1\\\\ 0& 4-5i& 1\\end{bmatrix}$ and $B=\\begin{bmatrix}4-2i& 1& -5\\\\ i& -i+2&1\\\\ 1& 0& 3+4i\\end{bmatrix}$\n",
    "<br><br>\n",
    "\n",
    "2. Prove the following properties\n",
    "\n",
    "    a. $\\left<V_1,c\\cdot V_2\\right>=\\overline{c}\\left<V_1,V_2\\right>$\n",
    "\n",
    "    b. $\\left<V_1,V_2\\right>=\\overline{\\left<V_2,V_1\\right>}$"
   ]
  },
  {
   "cell_type": "code",
   "execution_count": 9,
   "metadata": {},
   "outputs": [
    {
     "data": {
      "application/vnd.jupyter.widget-view+json": {
       "model_id": "906809a74dd8464c96c98c4aece84bfe",
       "version_major": 2,
       "version_minor": 0
      },
      "text/plain": [
       "VBox(children=(HTML(value='<b><font size=\"+2\">Q02.07 Self Assessment Quiz'), HTML(value='<b><font size=\"-1\"<b>…"
      ]
     },
     "metadata": {},
     "output_type": "display_data"
    },
    {
     "data": {
      "application/vnd.jupyter.widget-view+json": {
       "model_id": "879b609c1b2540d18e8c996dcc243c12",
       "version_major": 2,
       "version_minor": 0
      },
      "text/plain": [
       "HTMLMath(value='<font size=\"+1\">1. Compute the inner product of the following.')"
      ]
     },
     "metadata": {},
     "output_type": "display_data"
    },
    {
     "data": {
      "application/vnd.jupyter.widget-view+json": {
       "model_id": "3b95e19bcddd4e079c31534ca2ff8695",
       "version_major": 2,
       "version_minor": 0
      },
      "text/plain": [
       "HTMLMath(value='<font size=\"+0\">a. $V_1=\\\\begin{bmatrix}3\\\\\\\\4\\\\\\\\-10i\\\\end{bmatrix}$ and $V_2=\\\\begin{bmatrix…"
      ]
     },
     "metadata": {},
     "output_type": "display_data"
    },
    {
     "data": {
      "application/vnd.jupyter.widget-view+json": {
       "model_id": "73f50fa7f4bc45bba6f63a972bc29445",
       "version_major": 2,
       "version_minor": 0
      },
      "text/plain": [
       "HBox(children=(Label(value='', layout=Layout(width='40px')), Text(value='', layout=Layout(width='130px'), plac…"
      ]
     },
     "metadata": {},
     "output_type": "display_data"
    },
    {
     "data": {
      "application/vnd.jupyter.widget-view+json": {
       "model_id": "2d276c3331104e53ab6e7e56fc47824d",
       "version_major": 2,
       "version_minor": 0
      },
      "text/plain": [
       "HTMLMath(value='<font size=\"+0\">b. $V_1=\\\\begin{bmatrix}-3\\\\\\\\-4\\\\\\\\10i\\\\end{bmatrix}$ and $V_2=\\\\begin{bmatri…"
      ]
     },
     "metadata": {},
     "output_type": "display_data"
    },
    {
     "data": {
      "application/vnd.jupyter.widget-view+json": {
       "model_id": "a3af134487844f58a861d6e47a046268",
       "version_major": 2,
       "version_minor": 0
      },
      "text/plain": [
       "HBox(children=(Label(value='', layout=Layout(width='40px')), Text(value='', layout=Layout(width='130px'), plac…"
      ]
     },
     "metadata": {},
     "output_type": "display_data"
    },
    {
     "data": {
      "application/vnd.jupyter.widget-view+json": {
       "model_id": "2749fcad59e9493a8d89eccd3e4fd764",
       "version_major": 2,
       "version_minor": 0
      },
      "text/plain": [
       "HTMLMath(value='<font size=\"+0\">c. A&emsp;=&emsp;$\\\\begin{bmatrix}-2i& 0& 5+4i\\\\\\\\ 1& -1&-i-1\\\\\\\\ 0& 4-5i& 1\\\\…"
      ]
     },
     "metadata": {},
     "output_type": "display_data"
    },
    {
     "data": {
      "application/vnd.jupyter.widget-view+json": {
       "model_id": "6e408e4fb9544833a160fd9acfa94dfa",
       "version_major": 2,
       "version_minor": 0
      },
      "text/plain": [
       "HBox(children=(Label(value='', layout=Layout(width='40px')), Text(value='', layout=Layout(width='130px'), plac…"
      ]
     },
     "metadata": {},
     "output_type": "display_data"
    },
    {
     "data": {
      "application/vnd.jupyter.widget-view+json": {
       "model_id": "2e4f378ec7474b8a91b53290a0116c12",
       "version_major": 2,
       "version_minor": 0
      },
      "text/plain": [
       "VBox(children=(Button(button_style='success', description='Check Answers', icon='check', style=ButtonStyle(fon…"
      ]
     },
     "metadata": {},
     "output_type": "display_data"
    },
    {
     "data": {
      "application/vnd.jupyter.widget-view+json": {
       "model_id": "bf9d98a6d23f42669ca08f737ea6a701",
       "version_major": 2,
       "version_minor": 0
      },
      "text/plain": [
       "HTMLMath(value='<font size=\"+0\">&emsp;a. $\\\\left&#60;V_1,c\\\\cdot V_2\\\\right&#62;=\\\\overline{c}\\\\left&#60;V_1,V…"
      ]
     },
     "metadata": {},
     "output_type": "display_data"
    },
    {
     "data": {
      "application/vnd.jupyter.widget-view+json": {
       "model_id": "2fb23bdab96d4b9fa90ccf7745cfbed3",
       "version_major": 2,
       "version_minor": 0
      },
      "text/plain": [
       "VBox(children=(VBox(children=(HBox(children=(HTML(value=' '), Label(value='')), layout=Layout(height='40px')),…"
      ]
     },
     "metadata": {},
     "output_type": "display_data"
    },
    {
     "data": {
      "application/vnd.jupyter.widget-view+json": {
       "model_id": "589a8f146d1f45d5a1052202b87c32df",
       "version_major": 2,
       "version_minor": 0
      },
      "text/plain": [
       "HTMLMath(value='<font size=\"+0\">&emsp;b. $\\\\left&#60;V_1,V_2\\\\right&#62;=\\\\overline{\\\\left&#60;V_2,V_1\\\\right&…"
      ]
     },
     "metadata": {},
     "output_type": "display_data"
    },
    {
     "data": {
      "application/vnd.jupyter.widget-view+json": {
       "model_id": "21a39e52f7c14680ac318544ceb7c7f4",
       "version_major": 2,
       "version_minor": 0
      },
      "text/plain": [
       "VBox(children=(VBox(children=(HBox(children=(HTML(value=' '), Label(value='')), layout=Layout(height='40px')),…"
      ]
     },
     "metadata": {},
     "output_type": "display_data"
    }
   ],
   "source": [
    "createQuiz6_1()"
   ]
  },
  {
   "cell_type": "markdown",
   "metadata": {},
   "source": [
    "## Q02.08"
   ]
  },
  {
   "cell_type": "markdown",
   "metadata": {},
   "source": [
    "Given $V_1=\\begin{bmatrix}3\\\\4\\\\-10i\\end{bmatrix} \\text{ and } V_2=\\begin{bmatrix}8i\\\\0\\\\1\\end{bmatrix}$, verify the following numerically:\n",
    "1. $\\rvert V_1+V_2\\rvert\\leq\\rvert V_1\\rvert+\\rvert V_2\\rvert$</li>\n",
    "2. $\\rvert c\\cdot V_1\\rvert=\\rvert c\\rvert\\times\\rvert V_1\\rvert$. Let $c=5-5i$.\n",
    "</ol>"
   ]
  },
  {
   "cell_type": "code",
   "execution_count": 10,
   "metadata": {},
   "outputs": [
    {
     "data": {
      "application/vnd.jupyter.widget-view+json": {
       "model_id": "edb729af737946dcb16bac9dc3dbdf15",
       "version_major": 2,
       "version_minor": 0
      },
      "text/plain": [
       "VBox(children=(HTML(value='<b><font size=\"+2\">Q02.08 Self Assessment Quiz'), HTML(value='<b><font size=\"-1\"<b>…"
      ]
     },
     "metadata": {},
     "output_type": "display_data"
    },
    {
     "data": {
      "application/vnd.jupyter.widget-view+json": {
       "model_id": "d781418cda2147669f762d19462800f9",
       "version_major": 2,
       "version_minor": 0
      },
      "text/plain": [
       "HTMLMath(value='<font size=\"+1\">Given $V_1=\\\\begin{bmatrix}3\\\\\\\\4\\\\\\\\-10i\\\\end{bmatrix} \\\\mbox{ and } V_2=\\\\be…"
      ]
     },
     "metadata": {},
     "output_type": "display_data"
    },
    {
     "data": {
      "application/vnd.jupyter.widget-view+json": {
       "model_id": "805763314e2049b2a6403f2573685252",
       "version_major": 2,
       "version_minor": 0
      },
      "text/plain": [
       "HTMLMath(value='<font size=\"+0\">&emsp;1. $\\\\rvert V_1+V_2\\\\rvert\\\\leq\\\\rvert V_1\\\\rvert+\\\\rvert V_2\\\\rvert$')"
      ]
     },
     "metadata": {},
     "output_type": "display_data"
    },
    {
     "data": {
      "application/vnd.jupyter.widget-view+json": {
       "model_id": "6c1f2c783498497286033bd7476e36aa",
       "version_major": 2,
       "version_minor": 0
      },
      "text/plain": [
       "VBox(children=(VBox(children=(HBox(children=(HTML(value=' '), Label(value='')), layout=Layout(height='40px')),…"
      ]
     },
     "metadata": {},
     "output_type": "display_data"
    },
    {
     "data": {
      "application/vnd.jupyter.widget-view+json": {
       "model_id": "e6ed4efd8b364e3aa068b51c1ae3ab17",
       "version_major": 2,
       "version_minor": 0
      },
      "text/plain": [
       "HTMLMath(value='<font size=\"+0\">&emsp;2. $\\\\rvert c\\\\cdot V_1\\\\rvert=\\\\rvert c\\\\rvert\\\\times\\\\rvert V_1\\\\rvert…"
      ]
     },
     "metadata": {},
     "output_type": "display_data"
    },
    {
     "data": {
      "application/vnd.jupyter.widget-view+json": {
       "model_id": "b2941a5aac5245b5815377bae5fc6dbc",
       "version_major": 2,
       "version_minor": 0
      },
      "text/plain": [
       "VBox(children=(VBox(children=(HBox(children=(HTML(value=' '), Label(value='')), layout=Layout(height='40px')),…"
      ]
     },
     "metadata": {},
     "output_type": "display_data"
    }
   ],
   "source": [
    "createQuiz6_2()"
   ]
  },
  {
   "cell_type": "markdown",
   "metadata": {},
   "source": [
    "## Q02.09"
   ]
  },
  {
   "cell_type": "markdown",
   "metadata": {},
   "source": [
    "1. Compute the eigenvectors and eigenvalues associated with the following matrices.\n",
    "\n",
    "    a. $\\begin{bmatrix}2&-4\\\\-1&-1\\end{bmatrix}$\n",
    "\n",
    "    b. $\\begin{bmatrix}3&-2\\\\4&-1\\end{bmatrix}$\n",
    "<br><br>\n",
    "\n",
    "2. Verify that the following matrices are Hermitian.\n",
    "\n",
    "    a. $\\begin{bmatrix}2&-i\\\\i&1\\end{bmatrix}$\n",
    "\n",
    "    b. $\\begin{bmatrix}1&1+i&2i\\\\1-i&5&-3\\\\-2i&-3&0\\end{bmatrix}$\n",
    "<br>"
   ]
  },
  {
   "cell_type": "code",
   "execution_count": 11,
   "metadata": {},
   "outputs": [
    {
     "data": {
      "application/vnd.jupyter.widget-view+json": {
       "model_id": "d4cbce6154b74d29ae0d47e32fad9939",
       "version_major": 2,
       "version_minor": 0
      },
      "text/plain": [
       "VBox(children=(HTML(value='<b><font size=\"+2\">Q02.09 Self Assessment Quiz'),), layout=Layout(display='flex_flo…"
      ]
     },
     "metadata": {},
     "output_type": "display_data"
    },
    {
     "data": {
      "application/vnd.jupyter.widget-view+json": {
       "model_id": "fab01ee35e9f4485908be8720ac52e09",
       "version_major": 2,
       "version_minor": 0
      },
      "text/plain": [
       "HTMLMath(value='<font size=\"+1\">1. Compute the eigenvectors and eigenvalues associated with the following matr…"
      ]
     },
     "metadata": {},
     "output_type": "display_data"
    },
    {
     "data": {
      "application/vnd.jupyter.widget-view+json": {
       "model_id": "d26130f6e0bf45518d62e8d12d476b5b",
       "version_major": 2,
       "version_minor": 0
      },
      "text/plain": [
       "HTMLMath(value='<font size=\"+0\">&emsp;a. $\\\\begin{bmatrix}2&-4\\\\\\\\-1&-1\\\\end{bmatrix}$')"
      ]
     },
     "metadata": {},
     "output_type": "display_data"
    },
    {
     "data": {
      "application/vnd.jupyter.widget-view+json": {
       "model_id": "9cd7378bc38e443299a1dbcd46be9d25",
       "version_major": 2,
       "version_minor": 0
      },
      "text/plain": [
       "VBox(children=(VBox(children=(HBox(children=(HTML(value=' '), Label(value='')), layout=Layout(height='40px')),…"
      ]
     },
     "metadata": {},
     "output_type": "display_data"
    },
    {
     "data": {
      "application/vnd.jupyter.widget-view+json": {
       "model_id": "ee56903876654f45aee78700fa3c49d7",
       "version_major": 2,
       "version_minor": 0
      },
      "text/plain": [
       "HTMLMath(value='<font size=\"+0\">&emsp;b. $\\\\begin{bmatrix}3&-2\\\\\\\\4&-1\\\\end{bmatrix}$')"
      ]
     },
     "metadata": {},
     "output_type": "display_data"
    },
    {
     "data": {
      "application/vnd.jupyter.widget-view+json": {
       "model_id": "7213ec4257d0457e88c1d7526dc3c7be",
       "version_major": 2,
       "version_minor": 0
      },
      "text/plain": [
       "VBox(children=(VBox(children=(HBox(children=(HTML(value=' '), Label(value='')), layout=Layout(height='40px')),…"
      ]
     },
     "metadata": {},
     "output_type": "display_data"
    },
    {
     "data": {
      "application/vnd.jupyter.widget-view+json": {
       "model_id": "96a40bea8c1e483495fda3be2db4246a",
       "version_major": 2,
       "version_minor": 0
      },
      "text/plain": [
       "HTMLMath(value='<font size=\"+1\">2. Verify that the following matrices are Hermitian.')"
      ]
     },
     "metadata": {},
     "output_type": "display_data"
    },
    {
     "data": {
      "application/vnd.jupyter.widget-view+json": {
       "model_id": "707fa2bed1a843b0985bb0f9da9a017b",
       "version_major": 2,
       "version_minor": 0
      },
      "text/plain": [
       "HTMLMath(value='<font size=\"+0\">&emsp;a. $A$&emsp;=&emsp;$\\\\begin{bmatrix}2&-i\\\\\\\\i&1\\\\end{bmatrix}$')"
      ]
     },
     "metadata": {},
     "output_type": "display_data"
    },
    {
     "data": {
      "application/vnd.jupyter.widget-view+json": {
       "model_id": "47b639149a464650b183415db0cac523",
       "version_major": 2,
       "version_minor": 0
      },
      "text/plain": [
       "VBox(children=(VBox(children=(HBox(children=(HTML(value=' '), Label(value='')), layout=Layout(height='40px')),…"
      ]
     },
     "metadata": {},
     "output_type": "display_data"
    },
    {
     "data": {
      "application/vnd.jupyter.widget-view+json": {
       "model_id": "46c41e92802a41d995d09838eaafca3d",
       "version_major": 2,
       "version_minor": 0
      },
      "text/plain": [
       "HTMLMath(value='<font size=\"+0\">&emsp;b. $B$&emsp;=&emsp;$\\\\begin{bmatrix}1&1+i&2i\\\\\\\\1-i&5&-3\\\\\\\\-2i&-3&0\\\\en…"
      ]
     },
     "metadata": {},
     "output_type": "display_data"
    },
    {
     "data": {
      "application/vnd.jupyter.widget-view+json": {
       "model_id": "53ea374ed880467ba06b0d8dab637a96",
       "version_major": 2,
       "version_minor": 0
      },
      "text/plain": [
       "VBox(children=(VBox(children=(HBox(children=(HTML(value=' '), Label(value='')), layout=Layout(height='40px')),…"
      ]
     },
     "metadata": {},
     "output_type": "display_data"
    }
   ],
   "source": [
    "createQuiz7_1()"
   ]
  },
  {
   "cell_type": "markdown",
   "metadata": {},
   "source": [
    "## Q02.10"
   ]
  },
  {
   "cell_type": "markdown",
   "metadata": {},
   "source": [
    "1. Verify that the following matrices are unitary,\n",
    "\n",
    "    a. $\\frac{1}{2}\\begin{bmatrix}1+i& 1+i\\\\1-i&-1+i\\end{bmatrix}$\n",
    "<br><br>\n",
    "    b. $\\begin{bmatrix}cos\\theta&-sin\\theta&0\\\\sin\\theta&cos\\theta&0\\\\0&0&1\\end{bmatrix}$\n",
    "<br><br>\n",
    "2. Prove the following. For a unitary matrix $U$,\n",
    "$\\left<UV,UV'\\right>=\\left<V,V'\\right>$"
   ]
  },
  {
   "cell_type": "code",
   "execution_count": 12,
   "metadata": {},
   "outputs": [
    {
     "data": {
      "application/vnd.jupyter.widget-view+json": {
       "model_id": "159ed7a66d5c43d1a8f8f558533d8d69",
       "version_major": 2,
       "version_minor": 0
      },
      "text/plain": [
       "VBox(children=(HTML(value='<b><font size=\"+2\">Q02.10 Self Assessment Quiz'),), layout=Layout(display='flex_flo…"
      ]
     },
     "metadata": {},
     "output_type": "display_data"
    },
    {
     "data": {
      "application/vnd.jupyter.widget-view+json": {
       "model_id": "12984dd154214a3299636af115993e09",
       "version_major": 2,
       "version_minor": 0
      },
      "text/plain": [
       "HTMLMath(value='<font size=\"+1\">1. Verify that the following matrices are unitary,')"
      ]
     },
     "metadata": {},
     "output_type": "display_data"
    },
    {
     "data": {
      "application/vnd.jupyter.widget-view+json": {
       "model_id": "232845704c714d64b6ec941155b704c3",
       "version_major": 2,
       "version_minor": 0
      },
      "text/plain": [
       "HTMLMath(value='<font size=\"+0\">&emsp;a. $\\\\frac{1}{2}\\\\begin{bmatrix}1+i& 1+i\\\\\\\\1-i&-1+i\\\\end{bmatrix}$')"
      ]
     },
     "metadata": {},
     "output_type": "display_data"
    },
    {
     "data": {
      "application/vnd.jupyter.widget-view+json": {
       "model_id": "6894ee9a6fc24962b2149e43b4124980",
       "version_major": 2,
       "version_minor": 0
      },
      "text/plain": [
       "VBox(children=(VBox(children=(HBox(children=(HTML(value=' '), Label(value='')), layout=Layout(height='40px')),…"
      ]
     },
     "metadata": {},
     "output_type": "display_data"
    },
    {
     "data": {
      "application/vnd.jupyter.widget-view+json": {
       "model_id": "0c167534d6554767ad2f4e2264b78116",
       "version_major": 2,
       "version_minor": 0
      },
      "text/plain": [
       "HTMLMath(value='<font size=\"+0\">&emsp;b. $\\\\begin{bmatrix}cos\\\\theta&-sin\\\\theta&0\\\\\\\\sin\\\\theta&cos\\\\theta&0\\…"
      ]
     },
     "metadata": {},
     "output_type": "display_data"
    },
    {
     "data": {
      "application/vnd.jupyter.widget-view+json": {
       "model_id": "b40c5f7d63624c10a3c96bb47b2257b2",
       "version_major": 2,
       "version_minor": 0
      },
      "text/plain": [
       "VBox(children=(VBox(children=(HBox(children=(HTML(value=' '), Label(value='')), layout=Layout(height='40px')),…"
      ]
     },
     "metadata": {},
     "output_type": "display_data"
    },
    {
     "data": {
      "application/vnd.jupyter.widget-view+json": {
       "model_id": "aaee9db1ba2245ef961d1071b209b90b",
       "version_major": 2,
       "version_minor": 0
      },
      "text/plain": [
       "HTMLMath(value='<font size=\"+1\">2. Prove the following. For a unitary matrix $U$,')"
      ]
     },
     "metadata": {},
     "output_type": "display_data"
    },
    {
     "data": {
      "application/vnd.jupyter.widget-view+json": {
       "model_id": "fc61b052f8ca44c2870732b47a257ca9",
       "version_major": 2,
       "version_minor": 0
      },
      "text/plain": [
       "HTMLMath(value='<font size=\"+0\">&emsp;$\\\\left&#60;UV,UV\\'\\\\right&#62;$&emsp;=&emsp;$\\\\left&#60;V,V\\'\\\\right&#6…"
      ]
     },
     "metadata": {},
     "output_type": "display_data"
    },
    {
     "data": {
      "application/vnd.jupyter.widget-view+json": {
       "model_id": "78c0a33c579041839b336aac5bd7dad9",
       "version_major": 2,
       "version_minor": 0
      },
      "text/plain": [
       "VBox(children=(VBox(children=(HBox(children=(HTML(value=' '), Label(value='')), layout=Layout(height='40px')),…"
      ]
     },
     "metadata": {},
     "output_type": "display_data"
    }
   ],
   "source": [
    "createQuiz7_2()"
   ]
  },
  {
   "cell_type": "markdown",
   "metadata": {},
   "source": [
    "## Q02.11"
   ]
  },
  {
   "cell_type": "markdown",
   "metadata": {},
   "source": [
    "Calculate the tensor product for the following,\n",
    "\n",
    "1. $\\begin{bmatrix}5\\\\4\\\\10\\end{bmatrix}\\otimes\\begin{bmatrix}-1\\\\2\\end{bmatrix}$\n",
    "<br><br>\n",
    "\n",
    "2. $\\begin{bmatrix}2+3i\\\\10-4i\\end{bmatrix}\\otimes\\begin{bmatrix}4\\\\-1+i\\end{bmatrix}$"
   ]
  },
  {
   "cell_type": "code",
   "execution_count": 14,
   "metadata": {},
   "outputs": [
    {
     "data": {
      "application/vnd.jupyter.widget-view+json": {
       "model_id": "fc7f7c33f29e4deaa854afc871abb5c1",
       "version_major": 2,
       "version_minor": 0
      },
      "text/plain": [
       "VBox(children=(HTML(value='<b><font size=\"+2\">Q02.11 Self Assessment Quiz'),), layout=Layout(display='flex_flo…"
      ]
     },
     "metadata": {},
     "output_type": "display_data"
    },
    {
     "data": {
      "application/vnd.jupyter.widget-view+json": {
       "model_id": "78cca8ec9fff4bb7b0dbed5ba4493407",
       "version_major": 2,
       "version_minor": 0
      },
      "text/plain": [
       "HTMLMath(value='<font size=\"+1\">Calculate the tensor product for the following,')"
      ]
     },
     "metadata": {},
     "output_type": "display_data"
    },
    {
     "data": {
      "application/vnd.jupyter.widget-view+json": {
       "model_id": "8a1240a927d94719a16b6eb834836cd0",
       "version_major": 2,
       "version_minor": 0
      },
      "text/plain": [
       "HTMLMath(value='<font size=\"+0\">&emsp;1. $\\\\begin{bmatrix}5\\\\\\\\4\\\\\\\\10\\\\end{bmatrix}\\\\otimes\\\\begin{bmatrix}-1…"
      ]
     },
     "metadata": {},
     "output_type": "display_data"
    },
    {
     "data": {
      "application/vnd.jupyter.widget-view+json": {
       "model_id": "d4cf48910687470abfae2e8508deabdc",
       "version_major": 2,
       "version_minor": 0
      },
      "text/plain": [
       "VBox(children=(VBox(children=(HBox(children=(HTML(value=' '), Label(value='')), layout=Layout(height='40px')),…"
      ]
     },
     "metadata": {},
     "output_type": "display_data"
    },
    {
     "data": {
      "application/vnd.jupyter.widget-view+json": {
       "model_id": "38a200dc1bae442aa2435a8bf93153b7",
       "version_major": 2,
       "version_minor": 0
      },
      "text/plain": [
       "HTMLMath(value='<font size=\"+0\">&emsp;2. $\\\\begin{bmatrix}2+3i\\\\\\\\10-4i\\\\end{bmatrix}\\\\otimes\\\\begin{bmatrix}4…"
      ]
     },
     "metadata": {},
     "output_type": "display_data"
    },
    {
     "data": {
      "application/vnd.jupyter.widget-view+json": {
       "model_id": "cce1554aee2e4f79b22c5e51bf4d4b4b",
       "version_major": 2,
       "version_minor": 0
      },
      "text/plain": [
       "VBox(children=(VBox(children=(HBox(children=(HTML(value=' '), Label(value='')), layout=Layout(height='40px')),…"
      ]
     },
     "metadata": {},
     "output_type": "display_data"
    }
   ],
   "source": [
    "createQuiz8_1()"
   ]
  }
 ],
 "metadata": {
  "celltoolbar": "Slideshow",
  "kernelspec": {
   "display_name": "Python 3",
   "language": "python",
   "name": "python3"
  },
  "language_info": {
   "codemirror_mode": {
    "name": "ipython",
    "version": 3
   },
   "file_extension": ".py",
   "mimetype": "text/x-python",
   "name": "python",
   "nbconvert_exporter": "python",
   "pygments_lexer": "ipython3",
   "version": "3.13.0"
  }
 },
 "nbformat": 4,
 "nbformat_minor": 4
}
