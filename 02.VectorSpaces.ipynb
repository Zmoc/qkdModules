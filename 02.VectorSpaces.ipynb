{
 "cells": [
  {
   "cell_type": "markdown",
   "metadata": {},
   "source": [
    "# 02 Vector Spaces"
   ]
  },
  {
   "cell_type": "markdown",
   "metadata": {
    "jp-MarkdownHeadingCollapsed": true
   },
   "source": [
    "## Learning Goals"
   ]
  },
  {
   "cell_type": "markdown",
   "metadata": {},
   "source": [
    "1. Students will understand the concept and definition of Complex Vector Spaces.\n",
    "2. Students will be able to perform basic operation in Complex Vector Spaces.\n",
    "3. Students will prove properties of Complex Vector Spaces and operations.\n",
    "4. Students will be able to perform matrix operations and understand and use their properties.\n",
    "5. Student will be able to implement programs that performs addition, multiplication, transpose, conjugate and dagger operations on vectors and matrices.\n",
    "6. Students will understand and apply the concept of linear independence.\n",
    "7. Students will understand and apply the concept of basis and dimension of a complex vector space.\n",
    "8. Students will understand the definition and properties of inner product of vectors and matrices.\n",
    "9. Students will be able to compute the inner product.\n",
    "10. Students will be able to compute the norm of a vector.\n",
    "11. Students will understand and apply the concept of orthogonal/orthonormal vectors and basis.\n",
    "12. Students will be able to represent a vector using a given basis set.\n",
    "13. Students will understand and apply the projection of one vector onto another vector.\n",
    "14. Student will synthesize concepts to write Python programs to determine the norm and inner product of vectors and matrices.\n",
    "15. Students will understand the definition and meaning of eigenvalues and eigenvectors and compute them.\n",
    "16. Students will prove properties of Hermitian and unitary matrices.\n",
    "17. Students will be able to verify properties of unitary and Hermitian matrices.\n",
    "18. Students will know the implication of unitary matrices as transformations in quantum computing.\n",
    "19. Students will be able to implement Python programs that check if a given matrix is Hermitian or unitary.\n",
    "20. Students will prove properties Tensor products of matrices and vectors.\n",
    "21. Students will be able to compute tensor products.\n",
    "22. Students will implement a program that computes the Tensor product of two matrices."
   ]
  },
  {
   "cell_type": "markdown",
   "metadata": {
    "jp-MarkdownHeadingCollapsed": true,
    "slideshow": {
     "slide_type": "slide"
    }
   },
   "source": [
    "## 4. Complex Vector Spaces\n"
   ]
  },
  {
   "cell_type": "markdown",
   "metadata": {
    "jp-MarkdownHeadingCollapsed": true,
    "slideshow": {
     "slide_type": "slide"
    }
   },
   "source": [
    "### 4.1 Background\n",
    "\n",
    "In short, a set of vectors of fixed lengths with complex entries forms a complex vector space. These vectors will represent the state of a quantum system. When we say $\\mathbb{C}^n$ we intend to describe a complex vector space of $n^{th}$ dimension. Following are examples of complex vector spaces of 2, 3 and 4 dimensions respectively,\n",
    "\n",
    "$$\\begin{bmatrix}4+3i\\\\ 2\\end{bmatrix}, \\begin{bmatrix}7i\\\\ 0\\\\ 4\\end{bmatrix}, \\begin{bmatrix}4\\\\ 4+1i\\\\ 9\\\\ 10\\end{bmatrix}$$"
   ]
  },
  {
   "cell_type": "markdown",
   "metadata": {
    "slideshow": {
     "slide_type": "slide"
    }
   },
   "source": [
    "### 4.2 Operations of Complex Vectors\n",
    "\n",
    "<b>Addition:</b> We can add the vectors that have the same dimensions. For example, given,\n",
    "$$X=\\begin{bmatrix}7i\\\\ 0\\\\ 4\\end{bmatrix}  Y=\\begin{bmatrix}1-2i\\\\ 5+1i\\\\ -3\\end{bmatrix}$$\n",
    "then $X+Y$ amounts to elementwise addition.\n",
    "$$Z=X+Y=\\begin{bmatrix}(7i)+(1-2i)\\\\ (0)+(5+1i)\\\\ (4)+(-3)\\end{bmatrix}=\\begin{bmatrix}1+5i\\\\5+1i\\\\1\\end{bmatrix}$$\n",
    "\n",
    "Further addition is <b>commutative</b>. Therefore, $X+Y = Y+X$.\n",
    "\n",
    "And <b>associative</b>, i.e., for three vectors $X, Y$ and $Z$: $(X+Y)+Z=X+(Y+Z)$."
   ]
  },
  {
   "cell_type": "markdown",
   "metadata": {
    "slideshow": {
     "slide_type": "slide"
    }
   },
   "source": [
    "### 4.3 Operations with a scalar\n",
    "\n",
    "We will call a complex number $c=a+bi$ a <b>scalar</b>. To multiply a vector with a scalar we simply multiply every element of the vector with the scalar.\n",
    "\n",
    "For example, let $c=2+5i$, then $c\\cdot X = (2+5i)\\cdot\\begin{bmatrix}7i\\\\0\\\\4\\end{bmatrix}=\\begin{bmatrix}(2+5i)\\cdot7i\\\\(2+5i)\\cdot0\\\\(2+5i)\\cdot4\\end{bmatrix}=\\begin{bmatrix}14i-35\\\\0\\\\8+20i\\end{bmatrix}$\n",
    "\n",
    "Properties of scalar multiplication include associativity and distributivity over addition."
   ]
  },
  {
   "cell_type": "markdown",
   "metadata": {
    "slideshow": {
     "slide_type": "slide"
    }
   },
   "source": [
    "### 4.4 Additive Identity and Inverse\n",
    "\n",
    "The zero vector, denoted by $\\mathbf{0}$ (in bold) acts as the <b>additive identity</b>. For example additive identity for $\\mathbb{C}^3$ is $[0, 0, 0]^T$; here, $T$ in the superscript denotes the transpose operation.\n",
    "\n",
    "Similarly, we have an <b>additive inverse</b> for every vector in a given complex vector space. The additive inverse is simply the negative of the vector that when added to it will make the result $\\mathbf{0}$. \n",
    "\n",
    "For vector $X$ above, the additive inverse is $-X = (-1)\\cdot X =\\begin{bmatrix}-7i\\\\ 0\\\\ -4\\end{bmatrix}$ and $X+(-X)=$ $\\mathbf{0}$."
   ]
  },
  {
   "cell_type": "markdown",
   "metadata": {
    "slideshow": {
     "slide_type": "slide"
    }
   },
   "source": [
    "### 4.5 Complex Vector Spaces\n",
    "\n",
    "We mentioned before that a nonempty set of vectors, denoted $\\mathbb{V}$, with complex entries and fixed length forms a complex vector space. The set accommodates the following operations: addition, negation and multiplication with a scalar. Further, it also has a special zero vector that forms the additive identity. We denote this vector by $\\textbf{0}$.\n",
    "\n",
    "Further, the vectors and operations in complex vector space satisfy the following properties:\n",
    "1. Addition is commutative and associative\n",
    "2. Every vector has a additive inverse: $X+(-X)=\\textbf{0}$\n",
    "3. Scalar multiplication distributes over addition and is associative."
   ]
  },
  {
   "cell_type": "markdown",
   "metadata": {
    "slideshow": {
     "slide_type": "slide"
    }
   },
   "source": [
    "### 4.6 Matrices and Complex Vector Spaces\n",
    "\n",
    "So far we've seen complex vector spaces formed using a set of vectors. By simple extension one can see that the set of $m\\times n$ matrices with complex entries also forms a complex vector space. We will leave it to the reader to explore the extension of properties, we've discussed for vectors, to matrices and verify that matrices satisfy the definition of complex vector spaces.\n",
    "\n",
    "There are three additional operations that we must discuss. Note that vectors are just matrices with one column. For a matrix $P$, $P[j,k]$ is the element in $j^{th}$ row and $k^{th}$ column.\n",
    "\n",
    "1. <b>Transpose</b> is defined as $P^T[j,k]=P[k,j]$.\n",
    "2. <b>Conjugate</b>, denoted $\\overline{P}$ or $P^*$ is a new matrix $\\overline{P}[j,k]=\\overline{P[j,k]}$, i.e. the complex conjugate of a matrix is a matrix where we've taken the complex conjugate of every element of the original matrix.\n",
    "3. <b>Dagger/Adjoint:</b> When we take both the complex conjugate and transpose of a matrix, we call the combined operation as adjoint or dagger operation. The new matrix is denoted as $P^\\dagger$, where $P^\\dagger=(\\overline{P})^T=\\overline{(P^T)}$ or $P^\\dagger[j,k]=\\overline{P[k,j]}$."
   ]
  },
  {
   "cell_type": "markdown",
   "metadata": {
    "jp-MarkdownHeadingCollapsed": true,
    "slideshow": {
     "slide_type": "slide"
    }
   },
   "source": [
    "### 4.7 Properties of Transpose, Conjugate and Dagger Operations\n",
    "\n",
    "These operations satisfy the following properties for all $c\\in\\mathbb{C}$ and for all $P$, $Q\\in\\mathbb{C}^{m\\times n}$:\n",
    "\n",
    "1. Transpose, conjugate and adjoint are idempotent. Therefore,\n",
    "$$(P^T)^T=P$$\n",
    "$$\\overline{\\overline{P}}=P$$\n",
    "$$(P^\\dagger)^\\dagger = P$$\n",
    "<br>\n",
    "\n",
    "2. Transpose, conjugate and adjoint respect addition. Therefore,\n",
    "$$(P+Q)^T=P^T+Q^T$$\n",
    "$$(P+Q)^\\dagger=P^\\dagger+Q^\\dagger$$\n",
    "$$\\overline{P+Q}=\\overline{P}+\\overline{Q}$$\n",
    "<br>\n",
    "\n",
    "3. Transpose, conjugate and adjoint respect scalar multiplication. Therefore, $$(c\\cdot P)^T=c\\cdot P^T$$\n",
    "$$\\overline{c\\cdot P}=\\overline{c}\\cdot\\overline{P}$$\n",
    "$$(c\\cdot P)^\\dagger = \\overline{c}\\cdot P^\\dagger$$\n"
   ]
  },
  {
   "cell_type": "markdown",
   "metadata": {
    "slideshow": {
     "slide_type": "slide"
    }
   },
   "source": [
    "### 4.8 Matrix Multiplication\n",
    "\n",
    "In order to multiply two matrices, the number of columns in the first matrix must be equal to the number of rows in the second matrix. For example,\n",
    "\n",
    "$$P = \\begin{bmatrix}3+2i& 1& 2i\\\\ 4& 6+1i& 0\\\\ 2i& 5i& -1\\end{bmatrix} \\text{and }\n",
    "Q = \\begin{bmatrix}0& 1\\\\ 1i& 6-4i\\\\ 2i& 1\\end{bmatrix}$$\n",
    "\n",
    "Then $R = P\\cdot Q = \\begin{bmatrix}(3+2i)(0)+(1)(1i)+(2i)(2i)&\n",
    "(3+2i)(1)+(1)(6-4i)+(2i)(1)\\\\\n",
    "(4)(0)+(6+1i)(1i)+(0)(2i)&\n",
    "(4)(1)+(6+1i)(6-4i)+(0)(1)\\\\\n",
    "(2i)(0)+(5i)(1i)+(-1)(2i)&\n",
    "(2i)(1)+(5i)(6-4i)+(-1)(1)\n",
    "\\end{bmatrix}=\\begin{bmatrix}\n",
    "-4+i & 9\\\\\n",
    "-1+6i & 44-18i\\\\\n",
    "-5-2i & 19+32i\\end{bmatrix}$\n",
    "\n",
    "Therefore, matrix multiplication maps two complex vector spaces into a third one as follows: $\\mathbb{C}^{m\\times n}\\times\\mathbb{C}^{n\\times p}\\rightarrow\\mathbb{C}^{m\\times p}$; here $\\times$ denotes cartesian product.\n",
    "\n",
    "It is to be noted that, in general, matrix multiplication does <b>not</b> commute. That is, $P\\cdot Q$ may not always be equal to $Q\\cdot P$."
   ]
  },
  {
   "cell_type": "markdown",
   "metadata": {
    "slideshow": {
     "slide_type": "slide"
    }
   },
   "source": [
    "### 4.9 Identity Matrix\n",
    "\n",
    "There is a special $n\\times n$ square matrix that acts as a <b>multiplicative identity</b>. The identity matrix is denoted by $I_n$ and has the following structure,\n",
    "\n",
    "$$I_n=\\begin{bmatrix}1& 0&\\ldots& 0\\\\\n",
    "0& 1& \\ldots & 0\\\\\n",
    "\\vdots &\\vdots &\\ddots& \\vdots\\\\\n",
    "0& 0& \\ldots & 1\\end{bmatrix}$$\n",
    "\n",
    "Often, the dimension $n$ is implied and not written out explicitly in the subscript."
   ]
  },
  {
   "cell_type": "markdown",
   "metadata": {
    "jp-MarkdownHeadingCollapsed": true,
    "slideshow": {
     "slide_type": "slide"
    }
   },
   "source": [
    "### 4.10 Properties of Matrix Multiplication\n",
    "\n",
    "Matrix multiplication satisfies the following properties: For all $P$, $Q$ and $R$ in $\\mathbb{C}^{n\\times n}$.\n",
    "\n",
    "1. Associativity: $(P\\cdot Q)\\cdot R = P\\cdot(Q\\cdot R)$.\n",
    "2. Identity exists for square matrices: $I\\cdot P = P\\cdot I$.\n",
    "3. Distributivity: Multiplication distributes over addition: $P\\cdot(Q+R)=(P\\cdot Q)+(P\\cdot R)$.\n",
    "4. Matrix multiplication respects scalar: $c\\cdot(P\\cdot Q) = (c\\cdot P)\\cdot Q = P\\cdot(c\\cdot Q)$.\n",
    "5. Transpose relationship: $(P\\cdot Q)^T = Q^T\\cdot P^T$.\n",
    "6. Matrix multiplication respects the conjugation: $\\overline{P\\cdot Q}=\\overline{P}\\cdot\\overline{Q}$.\n",
    "7. Matrix multiplication relates to adjoint: $(P\\cdot Q)^\\dagger = Q^\\dagger\\cdot P^\\dagger$."
   ]
  },
  {
   "cell_type": "markdown",
   "metadata": {
    "jp-MarkdownHeadingCollapsed": true
   },
   "source": [
    "## 5. Complex Vector Spaces: Linear Combination, Independence, Basis and Dimensions"
   ]
  },
  {
   "cell_type": "markdown",
   "metadata": {
    "jp-MarkdownHeadingCollapsed": true
   },
   "source": [
    "### 5.1 Linear Dependence and Independence\n",
    "\n",
    "<b>Linear Combination:</b> Given a complex vector space $\\mathbb{V}$, a vector $V$ is said to be a <b>linear combination</b> of the vectors $V_0, V_1, \\ldots, V_{n-1}$ if it can be written as,\n",
    "\n",
    "$$V=c_0\\cdot V_0+c_1\\cdot V_1+\\ldots+c_{n-1}\\cdot V_{n-1}$$\n",
    "\n",
    "for some complex coefficients $c_0, c_1,\\ldots, c_{n-1}$ in $\\mathbb{C}$.\n",
    "\n",
    "<b>Linear Independence:</b> Given a complex vector space $\\mathbb{V}$, a set of vectors $\\{V_0, V_1,\\ldots, V_{n-1}\\}$ are said to be <b>linearly independent</b> if the only way a linear combinations of these vectors results in $\\textbf{0}$ if all the coefficients are set to zero. \n",
    "\n",
    "That is, $c_0\\cdot V_0+c_1\\cdot V_1+\\ldots+c_{n-1}\\cdot V_{n-1}= \\mathbf{0}$ if and only if $c_0=c_1=\\ldots=c_{n-1}=0$."
   ]
  },
  {
   "cell_type": "markdown",
   "metadata": {},
   "source": [
    "### 5.2 Examples of Linear Dependence and Independence\n",
    "\n",
    "<b>Example 1:</b> The set of vectors $$\\left\\{\\begin{bmatrix}1\\\\1\\\\1\\end{bmatrix},\\begin{bmatrix}0\\\\1\\\\1\\end{bmatrix},\\begin{bmatrix}0\\\\0\\\\1\\end{bmatrix}\\right\\}$$\n",
    "is linearly independent but set of vectors\n",
    "$$\\left\\{\\begin{bmatrix}1\\\\1\\\\1\\end{bmatrix},\\begin{bmatrix}1\\\\1\\\\0\\end{bmatrix},\\begin{bmatrix}2\\\\2\\\\1\\end{bmatrix}\\right\\}$$\n",
    "is not linearly independent.\n",
    "\n",
    "It is left to the reader as an exercise to figure out how to determine if a set of vectors is linearly independent or not."
   ]
  },
  {
   "cell_type": "markdown",
   "metadata": {},
   "source": [
    "### 5.3 Basis\n",
    "\n",
    "<b>Definition:</b> A set of linearly independent vectors $B=\\{V_0, V_1, \\ldots,V_{n-1}\\}$ is called a <b>basis</b> of a complex vector space $\\mathbb{V}$ if every element in the vector space can be written as a linear combination of the vectors in the basis set $B$.\n",
    "\n",
    "For example,\n",
    "$$\\left\\{\\begin{bmatrix}1\\\\1\\\\1\\end{bmatrix},\\begin{bmatrix}0\\\\1\\\\1\\end{bmatrix},\\begin{bmatrix}0\\\\0\\\\1\\end{bmatrix}\\right\\}, \\text{ and }\n",
    "\\left\\{\\begin{bmatrix}1\\\\0\\\\0\\end{bmatrix},\\begin{bmatrix}0\\\\1\\\\0\\end{bmatrix},\\begin{bmatrix}0\\\\0\\\\1\\end{bmatrix}\\right\\}$$\n",
    "are two examples of a basis set for $\\mathbb{C}^3$.\n",
    "\n",
    "As seen above, basis for a given complex vector space is not unique. However, while there are many bases for a given complex vector space we will mostly work with orthonormal bases. That is, bases whose elements are of length 1 and are orthogonal to each other. In the examples above the second set is an orthonormal basis set."
   ]
  },
  {
   "cell_type": "markdown",
   "metadata": {},
   "source": [
    "### 5.4 Dimension\n",
    "\n",
    "<b>Definition:</b> The <b>dimension</b> of a complex vector space is the number of vectors in a basis of the vector space.\n",
    "\n",
    "For example, a complex vector space given by $\\mathbb{C}^n$ has dimension $n$ and $mn$ is the dimension of complex vector space given by $\\mathbb{C}^{m\\times n}$. This also implies that all the basis sets for a given complex vector space have the same number of vectors in them."
   ]
  },
  {
   "cell_type": "markdown",
   "metadata": {},
   "source": [
    "### 5.5 Transition Matrices\n",
    "\n",
    "A transition matrix allows us to change the basis of a vector. For example, if a complex vector space has two bases $B$ and $B'$ then we can write a vector $V$ with respect to both the bases. However, the two representations would differ in coefficients. The transition matrix helps us convert between these coefficients.\n",
    "\n",
    "<b>Example: </b>\n",
    "Consider the two bases for $\\mathbb{C}^2$,\n",
    "$$B=\\left\\{\\begin{bmatrix} 1\\\\0 \\end{bmatrix}, \\begin{bmatrix} 0\\\\1 \\end{bmatrix}\\right\\} \\text{ and }\n",
    "B'=\\left\\{\\frac{1}{\\sqrt{2}}\\begin{bmatrix} 1\\\\1 \\end{bmatrix}, \\frac{1}{\\sqrt{2}}\\begin{bmatrix} 1\\\\-1 \\end{bmatrix}\\right\\}$$\n",
    "\n",
    "A vector $\\begin{bmatrix}\\frac{1}{2}\\\\\\frac{\\sqrt{3}i}{2}\\end{bmatrix}$ can be written with respect to basis $B$ as $\\frac{1}{2}\\begin{bmatrix}1\\\\0\\end{bmatrix}+\\frac{\\sqrt{3}i}{2}\\begin{bmatrix}0\\\\1\\end{bmatrix}$.\n",
    "\n",
    "The representation, however, of the same vector with respect to basis $B'$ is given by\n",
    "$\\frac{1+\\sqrt{3}i}{2\\sqrt{2}}\\cdot\\frac{1}{\\sqrt{2}}\\begin{bmatrix}1\\\\1\\end{bmatrix}+\\frac{1-\\sqrt{3}i}{2\\sqrt{2}}\\cdot\\frac{1}{\\sqrt{2}}\\begin{bmatrix}1\\\\-1\\end{bmatrix}$."
   ]
  },
  {
   "cell_type": "markdown",
   "metadata": {},
   "source": [
    "The transition matrix, in the above example, that will allow for converting the coefficients with respect to one basis to another is the famous Hadamard matrix $H=\\frac{1}{\\sqrt{2}}\\begin{bmatrix}1&1\\\\1&-1\\end{bmatrix}$.\n",
    "\n",
    "Therefore, we can get the new coefficients with respect to basis $B'$ as follows,\n",
    "$$\\frac{1}{2\\sqrt{2}}\\begin{bmatrix}1+\\sqrt{3}i\\\\1-\\sqrt{3}i\\end{bmatrix}=\\frac{1}{\\sqrt{2}}\\begin{bmatrix}1&1\\\\1&-1\\end{bmatrix}\\cdot\\begin{bmatrix}\\frac{1}{2}\\\\ \\frac{\\sqrt{3}i}{2}\\end{bmatrix}$$"
   ]
  },
  {
   "cell_type": "markdown",
   "metadata": {},
   "source": [
    "Transition matrices are a way of getting coefficients with respect to a new basis given the coefficients with respect to another basis.\n",
    "\n",
    "Due to their frequency of occurrence and usefulness in quantum computing, the two bases discussed above have been given special names,\n",
    "\n",
    "1. Basis set $B$ is called rectilinear, standard or computational basis.\n",
    "\n",
    "2. Basis set $B'$ is called diagonal or Hadamard basis.\n",
    "\n",
    "It will turn out that sometimes calculations can be performed more efficiently in the diagonal basis and hence will use the Hadamard matrix to covert to this basis, perform the calculations, and then use the Hadamard basis again to covert back to our standard rectilinear basis. Note that the Hadamard transformation acts as an inverse of itself.\n"
   ]
  },
  {
   "cell_type": "markdown",
   "metadata": {
    "jp-MarkdownHeadingCollapsed": true
   },
   "source": [
    "## 6. Properties and Operations on Vectors and Matrices in Complex Vector Spaces"
   ]
  },
  {
   "cell_type": "markdown",
   "metadata": {},
   "source": [
    "### 6.1 Inner Product\n",
    "\n",
    "<b>Definition: </b> An inner product (also called a dot product or scalar product) on a complex vector space $\\mathbb{V}$ is a function that takes two vectors and produces a complex number as output.\n",
    "\n",
    "The inner product of vectors is given by $\\left<V_1,V_2\\right> = V_1^\\dagger\\cdot V_2$ for both $\\mathbb{R}^n$ and $\\mathbb{C}^n$.\n",
    "\n",
    "The inner product of matrices is given by $\\left<P,Q\\right>=Trace(P^\\dagger\\cdot Q)$.\n",
    "\n",
    "Note that for vectors and matrices belonging to $\\mathbb{R}^n$, the adjoint operation is equivalent to taking the transpose.\n",
    "\n"
   ]
  },
  {
   "cell_type": "markdown",
   "metadata": {},
   "source": [
    "### 6.2 Properties of Inner Product\n",
    "\n",
    "1. $\\left<V,V\\right> \\geq 0$ with equality only if $V=\\textbf{0}$   \n",
    "2. $\\left<V_1+V_2,V_3\\right> = \\left<V_1,V_3\\right>+\\left<V_2,V_3\\right>$<br>\n",
    "3. $\\left<V_1,V_2+V_3\\right> = \\left<V_1,V_2\\right>+\\left<V_1,V_3\\right>$\n",
    "4. $\\left<c\\cdot V_1,V_2\\right>=\\overline{c}\\times\\left<V_1,V_2\\right>$\n",
    "5. $\\left<V_1,c\\cdot V_2\\right>=c\\cdot\\left<V_1,V_2\\right>$\n",
    "6. $\\left<V_1,V_2\\right>=\\overline{\\left<V_2,V_1\\right>}$\n",
    "\n"
   ]
  },
  {
   "cell_type": "markdown",
   "metadata": {},
   "source": [
    "### 6.3 Examples: Inner Product\n",
    "\n",
    "<b>Example 1:</b> The inner product of $V_1=\\begin{bmatrix}1\\\\2\\\\3\\end{bmatrix}$ and $V_2=\\begin{bmatrix}4\\\\-5\\\\6\\end{bmatrix}$ is computed as follows,\n",
    "\n",
    "$$\\left<V_1,V_2\\right>=V_1^\\dagger\\cdot V_2=\\begin{bmatrix}1&2&3\\end{bmatrix}\\begin{bmatrix}4\\\\-5\\\\6\\end{bmatrix}=12$$"
   ]
  },
  {
   "cell_type": "markdown",
   "metadata": {},
   "source": [
    "<b>Example 2:</b> The inner product of $V_1=\\begin{bmatrix}1+2i\\\\-2\\\\4i\\end{bmatrix}$ and $V_2=\\begin{bmatrix}i\\\\-5+3i\\\\7\\end{bmatrix}$ is computed as follows,\n",
    "\n",
    "$$\\left<V_1,V_2\\right>=V_1^\\dagger\\cdot V_2=\\begin{bmatrix}1-2i&-2&-4i\\end{bmatrix}\\begin{bmatrix}i\\\\-5+3i\\\\7\\end{bmatrix}=12-33i$$"
   ]
  },
  {
   "cell_type": "markdown",
   "metadata": {},
   "source": [
    "<b>Example 3:</b> Inner product two matrices: $A=\\begin{bmatrix}1+2i& 3+4i& 5\\\\ i& -1&-i-1\\\\ 4& 4-5i& 3\\end{bmatrix}$ and $B=\\begin{bmatrix}-2i& 1& -5+7i\\\\ 1& -i+2&-1\\\\ 1& 0& 3+4i\\end{bmatrix}$ is given by,\n",
    "\n",
    "$$\\left<A,B\\right>=Trace(A^\\dagger\\cdot B)=(-3i)+(1-3i)+(-15+46i)=-14+40i$$"
   ]
  },
  {
   "cell_type": "markdown",
   "metadata": {},
   "source": [
    "### 6.4 Norm of a Vector\n",
    "\n",
    "The norm of a vector is also called its length and is computed as $|V|=\\sqrt{\\left<V,V\\right>}$, where $\\left<V,V\\right>$ is the inner product of vector $V$ with itself. \n",
    "\n",
    "Further, we see that since the length of a vector must be non-negative and real, the inner product of a vector with itself is always a non-negative real number.\n",
    "\n",
    "<b>Examples:</b> Let $V=\\begin{bmatrix}9&4&-10\\end{bmatrix}^T$. Then,\n",
    "\n",
    "$$|V|=\\left|\\begin{bmatrix}9\\\\4\\\\-10\\end{bmatrix}\\right|=\\sqrt{\\left<\\begin{bmatrix}9\\\\4\\\\-10\\end{bmatrix},\\begin{bmatrix}9\\\\4\\\\-10\\end{bmatrix}\\right>}=\\sqrt{9^2+4^2+(-10)^2}=\\sqrt{197}$$"
   ]
  },
  {
   "cell_type": "markdown",
   "metadata": {},
   "source": [
    "### 6.5 Orthogonal Vectors\n",
    "\n",
    "Two vectors $V_1$ and $V_2$ are said to be orthogonal to each other if their inner product, $\\left<V_1,V_2\\right>$, is 0. In other words, orthogonal vectors are perpendicular to each other.\n",
    "\n",
    "<b>Examples</b>\n",
    "\n",
    "1. Vectors $V_1=\\begin{bmatrix}1&0&-1\\end{bmatrix}^T$ and $V_2=\\begin{bmatrix}1&\\sqrt{2}&1\\end{bmatrix}^T$ are orthogonal.\n",
    "\n",
    "2. Vectors $V_1=\\begin{bmatrix}1&2\\end{bmatrix}^T$ and $V_2=\\begin{bmatrix}2&-1\\end{bmatrix}^T$ are orthogonal."
   ]
  },
  {
   "cell_type": "markdown",
   "metadata": {},
   "source": [
    "### 6.6 Orthogonal Basis\n",
    "\n",
    "<b>Definition:</b> Given a basis $B=\\{V_0,V_1,\\ldots,V_{n-1}\\}$ for a complex vector space if $j\\neq k$ implies $\\left<V_j,V_k\\right>=0$, then we say that basis $B$ is an <b>orthogonal basis</b> for the complex vector space.\n",
    "\n",
    "An <b>orthonormal basis</b> is an orthogonal basis if every vector in the basis set has length 1, i.e. $\\left<V_j,V_k\\right>=1$ when $j=k$."
   ]
  },
  {
   "cell_type": "markdown",
   "metadata": {},
   "source": [
    "### 6.7 Projection\n",
    "\n",
    "From trigonometry we see that if vectors $V_1$ and $V_2$ make an angle of $\\theta$ with each other as shown in the figure, then their inner product can be written as,\n",
    "\n",
    "$$\\left<V_1,V_2\\right>=\\rvert V_1\\rvert\\rvert V_2\\rvert\\cdot cos\\theta$$\n",
    "\n",
    "If $\\rvert V_2\\rvert=1$, then $\\left<V_1,V_2\\right>=\\rvert V_1\\rvert\\cdot cos\\theta$\n",
    "\n",
    "Therefore, when $\\rvert V_2\\rvert=1$ the inner product of $V_1$ and $V_2$ represents the length of the projection of $V_1$ onto the direction of $V_2$ and therefore scales $V_2$.\n",
    "\n",
    "![images/Figure1. Illustration of Projection of $V_1$ on $V_2$](images/nanomod6-fig1.png)\n"
   ]
  },
  {
   "cell_type": "markdown",
   "metadata": {
    "jp-MarkdownHeadingCollapsed": true
   },
   "source": [
    "## 7. Advanced Concepts in Complex Vector Spaces"
   ]
  },
  {
   "cell_type": "markdown",
   "metadata": {},
   "source": [
    "### 7.1 Eigenvalues and Eigenvectors\n",
    "\n",
    "<b>Examples: </b>Consider the following $2\\times2$ matrix\n",
    "\n",
    "$$\\begin{bmatrix}6&-1.5\\\\3&1.5\\end{bmatrix}$$\n",
    "\n",
    "We see that\n",
    "\n",
    "$$\\begin{bmatrix}6&-1.5\\\\3&1.5\\end{bmatrix}\\begin{bmatrix}1\\\\1\\end{bmatrix}=\\begin{bmatrix}4.5\\\\4.5\\end{bmatrix}=4.5\\begin{bmatrix}1\\\\1\\end{bmatrix}$$\n",
    "\n",
    "Therefore, multiplying the matrix with the vector is equivalent to scaling the vector. Although this is not true for all the matrices and vectors, when this does happen we call the vector eigenvectors of the matrix and the scalar is called eigenvalue corresponding to the eigenvector."
   ]
  },
  {
   "cell_type": "markdown",
   "metadata": {},
   "source": [
    "### 7.2 Definition: Eigenvectors and eigenvalues\n",
    "\n",
    "Given a complex matrix $A\\in \\mathbb{C}$ and a complex vector $V\\neq0$ if,\n",
    "\n",
    "$$A\\cdot V = c\\cdot V$$\n",
    "\n",
    "where $c$ is a complex scalar, then $V$ is called the eigenvector of $A$ corresponding to the eigenvalue $c$.\n",
    "\n",
    "<b>Example:</b> Matrix $A=\\begin{bmatrix}0&1\\\\-2&-3\\end{bmatrix}$ has eigenvectors $v_1=\\begin{bmatrix}\\frac{1}{\\sqrt{2}}\\\\-\\frac{1}{\\sqrt{2}}\\end{bmatrix}$ and $v_2=\\begin{bmatrix}-\\frac{1}{\\sqrt{5}}\\\\\\frac{2}{\\sqrt{5}}\\end{bmatrix}$. The corresponding eigenvalues are $c_1=-1$ and $c_2=-2$, respectively."
   ]
  },
  {
   "cell_type": "markdown",
   "metadata": {},
   "source": [
    "### 7.3 Hermitian Matrices\n",
    "\n",
    "For a matrix $A$, if $A^T=A$ then we say that $A$ is a symmetric matrix. If we generalize this notion to matrices with complex number then we need to take not just the transpose but also the conjugate of matrix $A$. Further, we have a different name for these matrices.\n",
    "\n",
    "<b>Hermitian matrix: </b>An $n\\times n$ matrix $A$ is called <b>hermitian</b> if $A^\\dagger=A$.\n",
    "\n",
    "<b>Examples:</b> $A=\\begin{bmatrix}1&2-i\\\\2+i&0\\end{bmatrix}$ and $B=\\begin{bmatrix}-1& 1-2i& 0\\\\1+2i& 0 &i\\\\0&-i&1\\end{bmatrix}$ are hermitian.\n",
    "\n"
   ]
  },
  {
   "cell_type": "markdown",
   "metadata": {},
   "source": [
    "### 7.4 Unitary Matrices\n",
    "\n",
    "Recall that a matrix is said to be invertible if there exists a matrix $B$ such that $A\\cdot B=I$ where $I$ is the identity matrix. $B$ is often denoted as $A^{-1}$. Unitary matrices are a type of invertible matrices with the following definition,\n",
    "\n",
    "<b>Unitary Matrix:</b> An $n\\times n$ matrix $U$ is unitary if $U U^\\dagger=U^\\dagger U=I$.\n",
    "\n",
    "<b>Examples:</b>\n",
    "\n",
    "$$\\begin{bmatrix}cos\\theta&-sin\\theta\\\\sin\\theta&cos\\theta\\end{bmatrix} \\text{ and }\\frac{1}{2}\\begin{bmatrix}1&-i&-1+i\\\\i&1&1+i\\\\1+i&-1+i&0\\end{bmatrix}$$\n"
   ]
  },
  {
   "cell_type": "markdown",
   "metadata": {},
   "source": [
    "### 7.5 Implication of Unitary Transformations\n",
    "\n",
    "Since unitary matrices preserve the geometry of a vector space, if we have a system that evolves according to unitary operations then we can always undo the operation and return the system to its initial state. For example, if unitary operation $U$ acts on a system represented by state $V$, then the new state is given by $V'=U\\cdot V$. However, since $U$ is unitary that means $U^\\dagger U=I$. Therefore, we can multiply both sides with $U^\\dagger$ and get $U^\\dagger V' = U^\\dagger U\\cdot V=V$. In other words, $U^\\dagger$ undoes the action of $U$. \n",
    "\n",
    "It turn out that the only operations allowable on a quantum state are unitary operations and therefore the quantum systems are <b>reversible</b> systems."
   ]
  },
  {
   "cell_type": "markdown",
   "metadata": {
    "jp-MarkdownHeadingCollapsed": true
   },
   "source": [
    "## 8. Overview of Tensor Analysis"
   ]
  },
  {
   "cell_type": "markdown",
   "metadata": {},
   "source": [
    "### 8.1 Tensor Product\n",
    "\n",
    "Tensor products are used to describe the joint state of two or more systems. For example, if the state of one quantum system is described by $\\mathbb{V}$ and the state of another quantum system is decribed by $\\mathbb{V}'$ then $\\mathbb{V}\\otimes\\mathbb{V}'$ describes the joint state of the two systems.\n",
    "\n",
    "More concretely if $V_0, V_1, \\ldots, V_{q}$ are vectors in $\\mathbb{V}$ and $V'_0, V'_1,\\ldots, V'_{p}$ are vectors in $\\mathbb{V}'$ then the tensor product is given by the set of \"tensors\" of all vectors in the two spaces.\n",
    "$$\\{V\\otimes V'|V\\in\\mathbb{V}\\text{ and }V'\\in\\mathbb{V'}\\}$$\n",
    "\n",
    "Tensor product distributes over addition and respects scalar multiplication."
   ]
  },
  {
   "cell_type": "markdown",
   "metadata": {},
   "source": [
    "### 8.2 Joint Basis for $\\mathbb{V}$ and $\\mathbb{V'}$\n",
    "\n",
    "If $B=\\{B_0,B_1,\\ldots,B_{m-1}\\}$ is the basis for $\\mathbb{V}$ and $B'=\\{B'_0,B'_1,\\ldots,B'_{n-1}\\}$ is the basis for $\\mathbb{V'}$, then the basis for $\\mathbb{V}\\otimes\\mathbb{V'}$ is given by,\n",
    "\n",
    "$$\\{B_j\\otimes B'_k|j=0,1,\\ldots,m-1 \\text{ and } k=0,1,\\ldots,n-1\\}$$\n",
    "\n",
    "As mentioned before the dimension of $\\mathbb{V}\\otimes\\mathbb{V'}$ is the dimension of $\\mathbb{V}$ times the dimension of $\\mathbb{V'}$"
   ]
  },
  {
   "cell_type": "markdown",
   "metadata": {},
   "source": [
    "### 8.3 Examples: Tensor Product\n",
    "\n",
    "Let us look at some concrete examples of Tensor product of vectors,\n",
    "\n",
    "$$\\begin{bmatrix}a_0\\\\a_1\\\\a_2\\end{bmatrix}\\otimes\n",
    "\\begin{bmatrix}b_0\\\\b_1\\end{bmatrix} = \\begin{bmatrix}\n",
    "a_0\\cdot\\begin{bmatrix}b_0\\\\b_1\\end{bmatrix}\\\\\n",
    "a_1\\cdot\\begin{bmatrix}b_0\\\\b_1\\end{bmatrix}\\\\\n",
    "a_2\\cdot\\begin{bmatrix}b_0\\\\b_1\\end{bmatrix}\\end{bmatrix}=\\begin{bmatrix}\n",
    "a_0b_0\\\\\n",
    "a_0b_1\\\\\n",
    "a_1b_0\\\\\n",
    "a_1b_1\\\\\n",
    "a_2b_0\\\\\n",
    "a_2b_1\\end{bmatrix}$$"
   ]
  },
  {
   "cell_type": "markdown",
   "metadata": {
    "editable": true,
    "slideshow": {
     "slide_type": ""
    },
    "tags": []
   },
   "source": [
    "<b>Example:</b> Consider the vectors $V=\\begin{bmatrix}1\\\\2i\\end{bmatrix}$ and $W=\\begin{bmatrix}2+3i\\\\4\\end{bmatrix}$\n",
    "\n",
    "The Tensor product $V\\otimes W$ is given by,\n",
    "\n",
    "$$\\begin{bmatrix}1\\\\2i\\end{bmatrix}\\otimes\\begin{bmatrix}2+3i\\\\4\\end{bmatrix}=\\begin{bmatrix}1\\cdot\\begin{bmatrix}2+3i\\\\4\\end{bmatrix}\\\\2i\\cdot\\begin{bmatrix}2+3i\\\\4\\end{bmatrix}\\end{bmatrix}=\\begin{bmatrix}2+3i\\\\4\\\\-6+4i\\\\8i\\end{bmatrix}$$"
   ]
  },
  {
   "cell_type": "markdown",
   "metadata": {},
   "source": [
    "### 8.4 Inseparability of Systems (Entanglement)\n",
    "\n",
    "While some systems can clearly be written as Tensor product of two or more vectors, other systems cannot. For example, consider a system represented by a $4\\times1$ matrix,\n",
    "\n",
    "$$\\begin{bmatrix}\n",
    "2\\\\0\\\\0\\\\1\n",
    "\\end{bmatrix}$$\n",
    "\n",
    "The above vector cannot be represented as a Tensor product of two different $2\\times1$ vectors. In such a case we say that the two vectors are entangled and therefore the systems these vectors represent are entangled as well."
   ]
  },
  {
   "cell_type": "markdown",
   "metadata": {},
   "source": [
    "### 8.5 Tensor Product of Matrices\n",
    "\n",
    "The definition of Tensor product can be readily extended to matrices as well. We will need to do this in order to construct operators for joint system states. For example, consider a $2\\times2$ matrix applied to vector $V$ in $\\mathbb{V}$ and a $3\\times3$ matrix applied to vector $V'$ in $\\mathbb{V'}$. Then the joint matrix operation is given by $A\\otimes B$. More specifically, \n",
    "\n",
    "$$A=\\begin{bmatrix}a_{0,0}&a_{0,1}\\\\a_{1,0}&a_{1,1}\\end{bmatrix}$$\n",
    "$$B=\\begin{bmatrix}b_{0,0}&b_{0,1}&b_{0,2}\\\\b_{1,0}&b_{1,1}&b_{1,2}\\\\b_{2,0}&b_{2,1}&b_{2,2}\\end{bmatrix}$$\n",
    "\n",
    "The tensor product $A\\otimes B$ is the matrix that has every element of $A$, scalar multiplied with the entire matrix $B$. Therefore,\n",
    "\n",
    "$$A\\otimes B=\\begin{bmatrix}a_{0,0}\\cdot\\begin{bmatrix}b_{0,0}&b_{0,1}&b_{0,2}\\\\b_{1,0}&b_{1,1}&b_{1,2}\\\\b_{2,0}&b_{2,1}&b_{2,2}\\end{bmatrix}&\n",
    "a_{0,1}\\cdot\\begin{bmatrix}b_{0,0}&b_{0,1}&b_{0,2}\\\\b_{1,0}&b_{1,1}&b_{1,2}\\\\b_{2,0}&b_{2,1}&b_{2,2}\\end{bmatrix}\\\\\n",
    "a_{1,0}\\cdot\\begin{bmatrix}b_{0,0}&b_{0,1}&b_{0,2}\\\\b_{1,0}&b_{1,1}&b_{1,2}\\\\b_{2,0}&b_{2,1}&b_{2,2}\\end{bmatrix}&\n",
    "a_{1,1}\\cdot\\begin{bmatrix}b_{0,0}&b_{0,1}&b_{0,2}\\\\b_{1,0}&b_{1,1}&b_{1,2}\\\\b_{2,0}&b_{2,1}&b_{2,2}\\end{bmatrix}\\end{bmatrix}$$"
   ]
  },
  {
   "cell_type": "markdown",
   "metadata": {},
   "source": [
    "### 8.6 Examples of Tensor Product of Matrices\n",
    "\n",
    "Let $A=\\begin{bmatrix}3&4i\\\\1+7i&0\\end{bmatrix}$ and $B=\\begin{bmatrix}2-17i\\\\4\\end{bmatrix}$. The tensor product is,\n",
    "\n",
    "$$A\\otimes B=\\begin{bmatrix}3\\cdot\\begin{bmatrix}2-17i\\\\4\\end{bmatrix}& 4i\\cdot\\begin{bmatrix}2-17i\\\\4\\end{bmatrix}\\\\(1+7i)\\cdot\\begin{bmatrix}2-17i\\\\4\\end{bmatrix}&0\\cdot\\begin{bmatrix}2-17i\\\\4\\end{bmatrix}\\end{bmatrix}=\\begin{bmatrix}6-51i&8i+68\\\\12&16i\\\\ 121-3i& 0\\\\4+28i&0\\end{bmatrix}$$"
   ]
  },
  {
   "cell_type": "markdown",
   "metadata": {},
   "source": [
    "### 8.7 Properties of Tensor Product of Matrices\n",
    "\n",
    "<b>Associativity:</b> For three matrices $A, B$ and $C$, $A\\otimes(B\\otimes C)=(A\\otimes B)\\otimes C$\n",
    "\n",
    "<b>Respects adjoint operation:</b> $(A\\otimes B)^\\dagger=A^\\dagger\\otimes B^\\dagger$"
   ]
  },
  {
   "cell_type": "markdown",
   "metadata": {
    "jp-MarkdownHeadingCollapsed": true
   },
   "source": [
    "# 02 Quizzes"
   ]
  },
  {
   "cell_type": "markdown",
   "metadata": {
    "jp-MarkdownHeadingCollapsed": true,
    "slideshow": {
     "slide_type": "slide"
    }
   },
   "source": [
    "## Quiz 4.1 Self Assessment Quiz"
   ]
  },
  {
   "cell_type": "markdown",
   "metadata": {},
   "source": [
    "<b><i>Run the code in the next cell to generate a interactive version of this quiz.</i></b>\n",
    "\n",
    "Let $c_1=2+7i$, $c_2=1-5i$ and $X=\\begin{bmatrix}5i\\\\5-1i\\\\7+10i\\end{bmatrix}$ and $Y=\\begin{bmatrix}-2i\\\\3+5i\\\\12\\end{bmatrix}$\n",
    "\n",
    "1. Compute the following,\n",
    "\n",
    "    a. $X+Y$\n",
    "\n",
    "    b. $X-Y$\n",
    "\n",
    "    c. $c_1X+c_2Y$\n",
    "<br><br>\n",
    "2. Numerically verify the following properties,\n",
    "\n",
    "    a. $c_1\\cdot(c_2\\cdot X) = (c_1\\times c_2)\\cdot X$\n",
    "\n",
    "    b. $c\\cdot(X+Y)=c\\cdot X+c\\cdot Y$\n",
    "\n",
    "    c. $(c_1+c_2)\\cdot X=c_1\\cdot V+c_2\\cdot X$\n",
    "<br><br>\n",
    "3. If for some complex number $c$ we have $c\\cdot X=X$, then $c= ?$"
   ]
  },
  {
   "cell_type": "code",
   "execution_count": 6,
   "metadata": {
    "slideshow": {
     "slide_type": "slide"
    }
   },
   "outputs": [
    {
     "name": "stderr",
     "output_type": "stream",
     "text": [
      "C:\\Users\\greyh\\Documents\\1 - Projects\\Quantum\\Mod\\overallMerge\\Merge\\pyfiles\\saquiz4_1.py:41: SyntaxWarning: invalid escape sequence '\\e'\n",
      "  widgets.HTMLMath(value=\"<font size=\\\"+0\\\">&emsp; $\\\\begin{bmatrix}a\\\\\\\\b\\\\\\\\c\\end{bmatrix}$\"),VBox([HBox([Label(value='use correct format')],layout=Layout(justify_content='center')),\n",
      "C:\\Users\\greyh\\Documents\\1 - Projects\\Quantum\\Mod\\overallMerge\\Merge\\pyfiles\\saquiz4_1.py:63: SyntaxWarning: invalid escape sequence '\\e'\n",
      "  display(widgets.HTMLMath(value=\"<font size=\\\"+1\\\">Let $c_1=2+7i$, $c_2=1-5i$ and $X=\\\\begin{bmatrix}5i\\\\\\\\5-1i\\\\\\\\7+10i\\end{bmatrix}$ and $Y=\\\\begin{bmatrix}-2i\\\\\\\\3+5i\\\\\\\\12\\end{bmatrix}$\"))\n",
      "C:\\Users\\greyh\\Documents\\1 - Projects\\Quantum\\Mod\\overallMerge\\Merge\\pyfiles\\saquiz4_1.py:65: SyntaxWarning: invalid escape sequence '\\e'\n",
      "  qlist4_1_1.append(newMatrixAdd(\"$X+Y$\",0,[3j,8 + 4j,19 + 10j],strInputLayout2,3,\"$\\\\begin{bmatrix}a\\\\\\\\b\\\\\\\\c\\end{bmatrix}$\"))\n",
      "C:\\Users\\greyh\\Documents\\1 - Projects\\Quantum\\Mod\\overallMerge\\Merge\\pyfiles\\saquiz4_1.py:66: SyntaxWarning: invalid escape sequence '\\e'\n",
      "  qlist4_1_1.append(newMatrixAdd(\"$c_1X+c_2Y$\",0,[-45 + 8j,45 + 23j,-44 + 9j],strInputLayout2,3,\"$\\\\begin{bmatrix}a\\\\\\\\b\\\\\\\\c\\end{bmatrix}$\"))\n",
      "C:\\Users\\greyh\\Documents\\1 - Projects\\Quantum\\Mod\\overallMerge\\Merge\\pyfiles\\saquiz4_1.py:67: SyntaxWarning: invalid escape sequence '\\e'\n",
      "  qlist4_1_1.append(newMatrixAdd(\"$X-Y$\",0,[7j,2 - 6j,-5 + 10j],strInputLayout2,3,\"$\\\\begin{bmatrix}a\\\\\\\\b\\\\\\\\c\\end{bmatrix}$\"))\n"
     ]
    },
    {
     "data": {
      "application/vnd.jupyter.widget-view+json": {
       "model_id": "7d3fc55ae2714c84901f09fde0bbda13",
       "version_major": 2,
       "version_minor": 0
      },
      "text/plain": [
       "VBox(children=(HTML(value='<b><font size=\"+2\">Quiz 4.1 Self Assessment Quiz'), HTML(value='<b><font size=\"-1\"<…"
      ]
     },
     "metadata": {},
     "output_type": "display_data"
    },
    {
     "data": {
      "application/vnd.jupyter.widget-view+json": {
       "model_id": "ad3fda0604234015962dc67ef59ec06f",
       "version_major": 2,
       "version_minor": 0
      },
      "text/plain": [
       "HTMLMath(value='<font size=\"+1\">Let $c_1=2+7i$, $c_2=1-5i$ and $X=\\\\begin{bmatrix}5i\\\\\\\\5-1i\\\\\\\\7+10i\\\\end{bma…"
      ]
     },
     "metadata": {},
     "output_type": "display_data"
    },
    {
     "data": {
      "application/vnd.jupyter.widget-view+json": {
       "model_id": "7403c218a1b748d797329642b0991804",
       "version_major": 2,
       "version_minor": 0
      },
      "text/plain": [
       "HTML(value='<font size=\"+2\">1. Compute the following.')"
      ]
     },
     "metadata": {},
     "output_type": "display_data"
    },
    {
     "data": {
      "application/vnd.jupyter.widget-view+json": {
       "model_id": "ea9f792ea59a43e7968e7132c8b5627e",
       "version_major": 2,
       "version_minor": 0
      },
      "text/plain": [
       "HBox(children=(VBox(children=(Label(value=''), HTMLMath(value='<font size=\"+0\">&emsp;&emsp;$X+Y$ = '))), HTMLM…"
      ]
     },
     "metadata": {},
     "output_type": "display_data"
    },
    {
     "data": {
      "application/vnd.jupyter.widget-view+json": {
       "model_id": "ec759f249e544870bd46addec5532427",
       "version_major": 2,
       "version_minor": 0
      },
      "text/plain": [
       "HBox(children=(VBox(children=(Label(value=''), HTMLMath(value='<font size=\"+0\">&emsp;&emsp;$c_1X+c_2Y$ = '))),…"
      ]
     },
     "metadata": {},
     "output_type": "display_data"
    },
    {
     "data": {
      "application/vnd.jupyter.widget-view+json": {
       "model_id": "6f0cef1eed6d4d30b31ebfa261464b20",
       "version_major": 2,
       "version_minor": 0
      },
      "text/plain": [
       "HBox(children=(VBox(children=(Label(value=''), HTMLMath(value='<font size=\"+0\">&emsp;&emsp;$X-Y$ = '))), HTMLM…"
      ]
     },
     "metadata": {},
     "output_type": "display_data"
    },
    {
     "data": {
      "application/vnd.jupyter.widget-view+json": {
       "model_id": "267617a98ce94cae945c046e6f790435",
       "version_major": 2,
       "version_minor": 0
      },
      "text/plain": [
       "VBox(children=(Button(button_style='success', description='Check Answers', icon='check', style=ButtonStyle(fon…"
      ]
     },
     "metadata": {},
     "output_type": "display_data"
    }
   ],
   "source": [
    "%run pyfiles/saquiz4_1  #This runs the file that has the quiz code\n",
    "createQuiz4_1()"
   ]
  },
  {
   "cell_type": "markdown",
   "metadata": {
    "slideshow": {
     "slide_type": "slide"
    }
   },
   "source": [
    "## Quiz 4.2 Self Assessment Quiz"
   ]
  },
  {
   "cell_type": "markdown",
   "metadata": {},
   "source": [
    "<b><i>Run the code in the next cell to generate a interactive version of this quiz.</i></b>\n",
    "\n",
    "Given $A=\\begin{bmatrix}1+i&2\\\\-3&1-i\\end{bmatrix}$ and $B=\\begin{bmatrix}-1&5i\\\\6+11i&5-9i\\end{bmatrix}$, verify the following properties numerically,\n",
    "\n",
    "1. $(A+B)^T = A^T+B^T$\n",
    "\n",
    "2. $\\overline{A+B}=\\overline{A}+\\overline{B}$\n",
    "\n",
    "3. $(A+B)^\\dagger = A^\\dagger+B^\\dagger$"
   ]
  },
  {
   "cell_type": "code",
   "execution_count": 7,
   "metadata": {
    "slideshow": {
     "slide_type": "slide"
    }
   },
   "outputs": [
    {
     "name": "stderr",
     "output_type": "stream",
     "text": [
      "C:\\Users\\greyh\\Documents\\1 - Projects\\Quantum\\Mod\\overallMerge\\Merge\\pyfiles\\saquiz4_2.py:11: SyntaxWarning: invalid escape sequence '\\e'\n",
      "  q1 = prepareQuestion(\"1. $(A+B)^T = A^T+B^T$\",[\"hint 1\",\"hint 2\",\"hint 3\",\"hint 4\",\"hint 5\"], \"$(A+B)^T $&emsp;=&emsp;$ A^T+B^T$&emsp;=&emsp;$\\\\begin{bmatrix}i& 3+11i\\\\\\\\2+5i&6-10i\\end{bmatrix}$\")\n",
      "C:\\Users\\greyh\\Documents\\1 - Projects\\Quantum\\Mod\\overallMerge\\Merge\\pyfiles\\saquiz4_2.py:12: SyntaxWarning: invalid escape sequence '\\o'\n",
      "  q2 = prepareQuestion(\"2. $\\overline{A+B}=\\overline{A}+\\overline{B}$\",[\"hint 1\"], \"$\\overline{A+B}=\\overline{A}+\\overline{B}$&emsp;=&emsp;$\\\\begin{bmatrix}-i&2-5i\\\\\\\\3-11i&6+10i\\end{bmatrix}$\")\n",
      "C:\\Users\\greyh\\Documents\\1 - Projects\\Quantum\\Mod\\overallMerge\\Merge\\pyfiles\\saquiz4_2.py:12: SyntaxWarning: invalid escape sequence '\\o'\n",
      "  q2 = prepareQuestion(\"2. $\\overline{A+B}=\\overline{A}+\\overline{B}$\",[\"hint 1\"], \"$\\overline{A+B}=\\overline{A}+\\overline{B}$&emsp;=&emsp;$\\\\begin{bmatrix}-i&2-5i\\\\\\\\3-11i&6+10i\\end{bmatrix}$\")\n",
      "C:\\Users\\greyh\\Documents\\1 - Projects\\Quantum\\Mod\\overallMerge\\Merge\\pyfiles\\saquiz4_2.py:13: SyntaxWarning: invalid escape sequence '\\d'\n",
      "  q3 = prepareQuestion(\"3. $(A+B)^\\dagger = A^\\dagger+B^\\dagger$\",[\"hint 1\",\"hint 2\",\"hint 3\"], \"<b>LHS =</b> $(A+B)^\\dagger$&emsp;=&emsp;$(\\overline{A+B})^T$&emsp;=&emsp;$(\\overline{A}+\\overline{B})^T$&emsp;=&emsp;$\\overline{A}^T+\\overline{B}^T$&emsp;=&emsp;$A^\\dagger+B^\\dagger$<b> = RHS</b>\")\n",
      "C:\\Users\\greyh\\Documents\\1 - Projects\\Quantum\\Mod\\overallMerge\\Merge\\pyfiles\\saquiz4_2.py:13: SyntaxWarning: invalid escape sequence '\\d'\n",
      "  q3 = prepareQuestion(\"3. $(A+B)^\\dagger = A^\\dagger+B^\\dagger$\",[\"hint 1\",\"hint 2\",\"hint 3\"], \"<b>LHS =</b> $(A+B)^\\dagger$&emsp;=&emsp;$(\\overline{A+B})^T$&emsp;=&emsp;$(\\overline{A}+\\overline{B})^T$&emsp;=&emsp;$\\overline{A}^T+\\overline{B}^T$&emsp;=&emsp;$A^\\dagger+B^\\dagger$<b> = RHS</b>\")\n",
      "C:\\Users\\greyh\\Documents\\1 - Projects\\Quantum\\Mod\\overallMerge\\Merge\\pyfiles\\saquiz4_2.py:22: SyntaxWarning: invalid escape sequence '\\e'\n",
      "  display(widgets.HTMLMath(value=\"<font size=\\\"+1\\\">Given $A=\\\\begin{bmatrix}1+i&2\\\\\\\\-3&1-i\\end{bmatrix}$ and $B=\\\\begin{bmatrix}-1&5i\\\\\\\\6+11i&5-9i\\end{bmatrix}$, verify the following properties numerically,\"))\n"
     ]
    },
    {
     "data": {
      "application/vnd.jupyter.widget-view+json": {
       "model_id": "43f74c62d700475f8717388e0ead950c",
       "version_major": 2,
       "version_minor": 0
      },
      "text/plain": [
       "VBox(children=(HTML(value='<b><font size=\"+2\">Quiz 4.2 Self Assessment Quiz'), HTML(value='<b><font size=\"-1\"<…"
      ]
     },
     "metadata": {},
     "output_type": "display_data"
    },
    {
     "data": {
      "application/vnd.jupyter.widget-view+json": {
       "model_id": "79b9e269a7fc4f27a6959ef09851855b",
       "version_major": 2,
       "version_minor": 0
      },
      "text/plain": [
       "HTMLMath(value='<font size=\"+1\">Given $A=\\\\begin{bmatrix}1+i&2\\\\\\\\-3&1-i\\\\end{bmatrix}$ and $B=\\\\begin{bmatrix…"
      ]
     },
     "metadata": {},
     "output_type": "display_data"
    },
    {
     "data": {
      "application/vnd.jupyter.widget-view+json": {
       "model_id": "60742f4b6a2841448556fb83ca0b7945",
       "version_major": 2,
       "version_minor": 0
      },
      "text/plain": [
       "HTMLMath(value='<font size=\"+0\">&emsp;1. $(A+B)^T = A^T+B^T$')"
      ]
     },
     "metadata": {},
     "output_type": "display_data"
    },
    {
     "data": {
      "application/vnd.jupyter.widget-view+json": {
       "model_id": "7c66a228d17040f99f58d62e14fe9a02",
       "version_major": 2,
       "version_minor": 0
      },
      "text/plain": [
       "VBox(children=(VBox(children=(HBox(children=(HTML(value=' '), Label(value='')), layout=Layout(height='40px')),…"
      ]
     },
     "metadata": {},
     "output_type": "display_data"
    },
    {
     "data": {
      "application/vnd.jupyter.widget-view+json": {
       "model_id": "06b8c720184842a6a12189ef2f1a0463",
       "version_major": 2,
       "version_minor": 0
      },
      "text/plain": [
       "HTMLMath(value='<font size=\"+0\">&emsp;2. $\\\\overline{A+B}=\\\\overline{A}+\\\\overline{B}$')"
      ]
     },
     "metadata": {},
     "output_type": "display_data"
    },
    {
     "data": {
      "application/vnd.jupyter.widget-view+json": {
       "model_id": "aef0621b43744f68a738feea5facae30",
       "version_major": 2,
       "version_minor": 0
      },
      "text/plain": [
       "VBox(children=(VBox(children=(HBox(children=(HTML(value=' '), Label(value='')), layout=Layout(height='40px')),…"
      ]
     },
     "metadata": {},
     "output_type": "display_data"
    },
    {
     "data": {
      "application/vnd.jupyter.widget-view+json": {
       "model_id": "62d1b3ed629f47b498f9777f6d810b5d",
       "version_major": 2,
       "version_minor": 0
      },
      "text/plain": [
       "HTMLMath(value='<font size=\"+0\">&emsp;3. $(A+B)^\\\\dagger = A^\\\\dagger+B^\\\\dagger$')"
      ]
     },
     "metadata": {},
     "output_type": "display_data"
    },
    {
     "data": {
      "application/vnd.jupyter.widget-view+json": {
       "model_id": "0c406d0ca8db481eb6b762df16884631",
       "version_major": 2,
       "version_minor": 0
      },
      "text/plain": [
       "VBox(children=(VBox(children=(HBox(children=(HTML(value=' '), Label(value='')), layout=Layout(height='40px')),…"
      ]
     },
     "metadata": {},
     "output_type": "display_data"
    }
   ],
   "source": [
    "%run pyfiles/saquiz4_2  #This runs the file that has the quiz code\n",
    "createQuiz4_2()"
   ]
  },
  {
   "cell_type": "markdown",
   "metadata": {
    "slideshow": {
     "slide_type": "slide"
    }
   },
   "source": [
    "## Quiz 4.3 Self Assessment Quiz\n",
    "<b>Maybe used for in-class hands-on practice.</b>\n",
    "\n",
    "<b><i>Run the code in the next cell to generate a interactive version of this quiz.</i></b>\n",
    "\n",
    "Let $A=\\begin{bmatrix}2& 1-3i\\\\-1-3i& 4\\end{bmatrix}$, $B=\\begin{bmatrix}i&-i\\\\ 4+1i& 5i\\end{bmatrix}$,\n",
    "$C=\\begin{bmatrix}10-1i&0\\\\-1&1\\end{bmatrix}$ and $c=5-5i$.\n",
    "\n",
    "Verify the following properties:\n",
    "\n",
    "1. $(A\\cdot B)\\cdot C = A\\cdot(B\\cdot C)$\n",
    "\n",
    "2. $A\\cdot(B+C) = (A\\cdot B)+(A\\cdot C)$\n",
    "\n",
    "3. $c\\cdot(A\\cdot B) = (c\\cdot A)\\cdot B = A\\cdot(c\\cdot B)$"
   ]
  },
  {
   "cell_type": "code",
   "execution_count": 8,
   "metadata": {
    "slideshow": {
     "slide_type": "slide"
    }
   },
   "outputs": [
    {
     "name": "stderr",
     "output_type": "stream",
     "text": [
      "C:\\Users\\greyh\\Documents\\1 - Projects\\Quantum\\Mod\\overallMerge\\Merge\\pyfiles\\saquiz4_3.py:11: SyntaxWarning: invalid escape sequence '\\c'\n",
      "  q1 = prepareQuestion(\"1. $(A\\cdot B)\\cdot C $&emsp;=&emsp;$ A\\cdot(B\\cdot C)$\",[\"hint 1\",\"hint 2\",\"hint 3\",\"hint 4\",\"hint 5\"], \"$(A\\cdot B)\\cdot C$&emsp;=&emsp;$A\\cdot(B\\cdot C)$&emsp;=&emsp;$\\\\begin{bmatrix}46-100i& 15+3i\\\\\\\\196-10i& -3+21i\\end{bmatrix}$\")\n",
      "C:\\Users\\greyh\\Documents\\1 - Projects\\Quantum\\Mod\\overallMerge\\Merge\\pyfiles\\saquiz4_3.py:11: SyntaxWarning: invalid escape sequence '\\c'\n",
      "  q1 = prepareQuestion(\"1. $(A\\cdot B)\\cdot C $&emsp;=&emsp;$ A\\cdot(B\\cdot C)$\",[\"hint 1\",\"hint 2\",\"hint 3\",\"hint 4\",\"hint 5\"], \"$(A\\cdot B)\\cdot C$&emsp;=&emsp;$A\\cdot(B\\cdot C)$&emsp;=&emsp;$\\\\begin{bmatrix}46-100i& 15+3i\\\\\\\\196-10i& -3+21i\\end{bmatrix}$\")\n",
      "C:\\Users\\greyh\\Documents\\1 - Projects\\Quantum\\Mod\\overallMerge\\Merge\\pyfiles\\saquiz4_3.py:12: SyntaxWarning: invalid escape sequence '\\c'\n",
      "  q2 = prepareQuestion(\"2. $A\\cdot(B+C) $&emsp;=&emsp;$ (A\\cdot B)+(A\\cdot C)$\",[\"hint 1\"], \"$A\\cdot(B+C) $&emsp;=&emsp;$ (A\\cdot B)+(A\\cdot C)$&emsp;=&emsp;$\\\\begin{bmatrix}26-8i&16\\\\\\\\2-26i&1+21i\\end{bmatrix}$\")\n",
      "C:\\Users\\greyh\\Documents\\1 - Projects\\Quantum\\Mod\\overallMerge\\Merge\\pyfiles\\saquiz4_3.py:12: SyntaxWarning: invalid escape sequence '\\c'\n",
      "  q2 = prepareQuestion(\"2. $A\\cdot(B+C) $&emsp;=&emsp;$ (A\\cdot B)+(A\\cdot C)$\",[\"hint 1\"], \"$A\\cdot(B+C) $&emsp;=&emsp;$ (A\\cdot B)+(A\\cdot C)$&emsp;=&emsp;$\\\\begin{bmatrix}26-8i&16\\\\\\\\2-26i&1+21i\\end{bmatrix}$\")\n",
      "C:\\Users\\greyh\\Documents\\1 - Projects\\Quantum\\Mod\\overallMerge\\Merge\\pyfiles\\saquiz4_3.py:13: SyntaxWarning: invalid escape sequence '\\c'\n",
      "  q3 = prepareQuestion(\"3. $c\\cdot(A\\cdot B) $&emsp;=&emsp;$ (c\\cdot A)\\cdot B $&emsp;=&emsp;$ A\\cdot(c\\cdot B)$\",[\"hint 1\",\"hint 2\",\"hint 3\"], \"$c\\cdot(A\\cdot B) $&emsp;=&emsp;$ (c\\cdot A)\\cdot B $&emsp;=&emsp;$ A\\cdot(c\\cdot B)$&emsp;=&emsp;$\\\\begin{bmatrix}-10-80i& 90-60i\\\\\\\\110-80i& 90+120i\\end{bmatrix}$\")\n",
      "C:\\Users\\greyh\\Documents\\1 - Projects\\Quantum\\Mod\\overallMerge\\Merge\\pyfiles\\saquiz4_3.py:13: SyntaxWarning: invalid escape sequence '\\c'\n",
      "  q3 = prepareQuestion(\"3. $c\\cdot(A\\cdot B) $&emsp;=&emsp;$ (c\\cdot A)\\cdot B $&emsp;=&emsp;$ A\\cdot(c\\cdot B)$\",[\"hint 1\",\"hint 2\",\"hint 3\"], \"$c\\cdot(A\\cdot B) $&emsp;=&emsp;$ (c\\cdot A)\\cdot B $&emsp;=&emsp;$ A\\cdot(c\\cdot B)$&emsp;=&emsp;$\\\\begin{bmatrix}-10-80i& 90-60i\\\\\\\\110-80i& 90+120i\\end{bmatrix}$\")\n",
      "C:\\Users\\greyh\\Documents\\1 - Projects\\Quantum\\Mod\\overallMerge\\Merge\\pyfiles\\saquiz4_3.py:22: SyntaxWarning: invalid escape sequence '\\e'\n",
      "  display(widgets.HTMLMath(value=\"<font size=\\\"+1\\\">Let A=$\\\\begin{bmatrix}2& 1-3i\\\\\\\\-1-3i& 4\\end{bmatrix}$, $B=\\\\begin{bmatrix}i&-i\\\\\\\\ 4+1i& 5i\\end{bmatrix}$,$C=\\\\begin{bmatrix}10-1i&0\\\\\\\\-1&1\\end{bmatrix}$ and $c=5-5i$.\"))\n"
     ]
    },
    {
     "data": {
      "application/vnd.jupyter.widget-view+json": {
       "model_id": "8352eba976d64a79bed51f6bb5aa5a79",
       "version_major": 2,
       "version_minor": 0
      },
      "text/plain": [
       "VBox(children=(HTML(value='<b><font size=\"+2\">Quiz 4.3 Self Assessment Quiz'),), layout=Layout(display='flex_f…"
      ]
     },
     "metadata": {},
     "output_type": "display_data"
    },
    {
     "data": {
      "application/vnd.jupyter.widget-view+json": {
       "model_id": "7cd4eb597349494a80c8105a4335c148",
       "version_major": 2,
       "version_minor": 0
      },
      "text/plain": [
       "HTMLMath(value='<font size=\"+1\">Let A=$\\\\begin{bmatrix}2& 1-3i\\\\\\\\-1-3i& 4\\\\end{bmatrix}$, $B=\\\\begin{bmatrix}…"
      ]
     },
     "metadata": {},
     "output_type": "display_data"
    },
    {
     "data": {
      "application/vnd.jupyter.widget-view+json": {
       "model_id": "cef32407ea1c481bb5f31562bed317a2",
       "version_major": 2,
       "version_minor": 0
      },
      "text/plain": [
       "HTMLMath(value='<font size=\"+1\">Verify the following properties numerically:')"
      ]
     },
     "metadata": {},
     "output_type": "display_data"
    },
    {
     "data": {
      "application/vnd.jupyter.widget-view+json": {
       "model_id": "5eaf517949dd436b96551fd6e9e37921",
       "version_major": 2,
       "version_minor": 0
      },
      "text/plain": [
       "HTMLMath(value='<font size=\"+0\">&emsp;1. $(A\\\\cdot B)\\\\cdot C $&emsp;=&emsp;$ A\\\\cdot(B\\\\cdot C)$')"
      ]
     },
     "metadata": {},
     "output_type": "display_data"
    },
    {
     "data": {
      "application/vnd.jupyter.widget-view+json": {
       "model_id": "2b6d0a5b80d44c3aa4a1f155944e8142",
       "version_major": 2,
       "version_minor": 0
      },
      "text/plain": [
       "VBox(children=(VBox(children=(HBox(children=(HTML(value=' '), Label(value='')), layout=Layout(height='40px')),…"
      ]
     },
     "metadata": {},
     "output_type": "display_data"
    },
    {
     "data": {
      "application/vnd.jupyter.widget-view+json": {
       "model_id": "ff07cf73ee844061b05be141732debb9",
       "version_major": 2,
       "version_minor": 0
      },
      "text/plain": [
       "HTMLMath(value='<font size=\"+0\">&emsp;2. $A\\\\cdot(B+C) $&emsp;=&emsp;$ (A\\\\cdot B)+(A\\\\cdot C)$')"
      ]
     },
     "metadata": {},
     "output_type": "display_data"
    },
    {
     "data": {
      "application/vnd.jupyter.widget-view+json": {
       "model_id": "b6361afff2d04b378ab1425359c65ace",
       "version_major": 2,
       "version_minor": 0
      },
      "text/plain": [
       "VBox(children=(VBox(children=(HBox(children=(HTML(value=' '), Label(value='')), layout=Layout(height='40px')),…"
      ]
     },
     "metadata": {},
     "output_type": "display_data"
    },
    {
     "data": {
      "application/vnd.jupyter.widget-view+json": {
       "model_id": "bced2018be4f40d5a56d38a0d989c054",
       "version_major": 2,
       "version_minor": 0
      },
      "text/plain": [
       "HTMLMath(value='<font size=\"+0\">&emsp;3. $c\\\\cdot(A\\\\cdot B) $&emsp;=&emsp;$ (c\\\\cdot A)\\\\cdot B $&emsp;=&emsp…"
      ]
     },
     "metadata": {},
     "output_type": "display_data"
    },
    {
     "data": {
      "application/vnd.jupyter.widget-view+json": {
       "model_id": "781e7a2912e542b78e6cfe328f0b1d80",
       "version_major": 2,
       "version_minor": 0
      },
      "text/plain": [
       "VBox(children=(VBox(children=(HBox(children=(HTML(value=' '), Label(value='')), layout=Layout(height='40px')),…"
      ]
     },
     "metadata": {},
     "output_type": "display_data"
    }
   ],
   "source": [
    "%run pyfiles/saquiz4_3  #This runs the file that has the quiz code\n",
    "createQuiz4_3()"
   ]
  },
  {
   "cell_type": "markdown",
   "metadata": {},
   "source": [
    "## Quiz 5.1 Self Assessment Quiz\n",
    "<b>Maybe used for in-class hands-on practice.</b>\n",
    "\n",
    "Show that the following set of vectors is not linearly independent,\n",
    "\n",
    "1. $\\begin{bmatrix}1\\\\1\\\\0\\end{bmatrix}$, $\\begin{bmatrix}1\\\\2\\\\-1\\end{bmatrix}$, $\\begin{bmatrix}1\\\\0\\\\1\\end{bmatrix}$\n",
    "<br><br>\n",
    "\n",
    "2. $\\begin{bmatrix}2\\\\-1\\\\1\\end{bmatrix}$, $\\begin{bmatrix}3\\\\-4\\\\-2\\end{bmatrix}$, $\\begin{bmatrix}5\\\\-10\\\\-8\\end{bmatrix}$\n"
   ]
  },
  {
   "cell_type": "code",
   "execution_count": 9,
   "metadata": {},
   "outputs": [
    {
     "name": "stderr",
     "output_type": "stream",
     "text": [
      "C:\\Users\\greyh\\Documents\\1 - Projects\\Quantum\\Mod\\overallMerge\\Merge\\pyfiles\\saquiz5_1.py:11: SyntaxWarning: invalid escape sequence '\\e'\n",
      "  q1 = prepareQuestion(\"1. $\\\\begin{bmatrix}1\\\\\\\\1\\\\\\\\0\\end{bmatrix}$, $\\\\begin{bmatrix}1\\\\\\\\2\\\\\\\\-1\\end{bmatrix}$, $\\\\begin{bmatrix}1\\\\\\\\0\\\\\\\\1\\end{bmatrix}$<br><br>\",[\"hint 1\",\"hint 2\",\"hint 3\",\"hint 4\",\"hint 5\"], \"  $\\left|\\\\begin{matrix}1&1&1\\\\\\\\1&2&0\\\\\\\\0&-1&1\\end{matrix}\\\\right|$&emsp;=&emsp;0 &emsp;&emsp;Therefore, the set of vectors are not linearly indepdendent.\")\n",
      "C:\\Users\\greyh\\Documents\\1 - Projects\\Quantum\\Mod\\overallMerge\\Merge\\pyfiles\\saquiz5_1.py:11: SyntaxWarning: invalid escape sequence '\\l'\n",
      "  q1 = prepareQuestion(\"1. $\\\\begin{bmatrix}1\\\\\\\\1\\\\\\\\0\\end{bmatrix}$, $\\\\begin{bmatrix}1\\\\\\\\2\\\\\\\\-1\\end{bmatrix}$, $\\\\begin{bmatrix}1\\\\\\\\0\\\\\\\\1\\end{bmatrix}$<br><br>\",[\"hint 1\",\"hint 2\",\"hint 3\",\"hint 4\",\"hint 5\"], \"  $\\left|\\\\begin{matrix}1&1&1\\\\\\\\1&2&0\\\\\\\\0&-1&1\\end{matrix}\\\\right|$&emsp;=&emsp;0 &emsp;&emsp;Therefore, the set of vectors are not linearly indepdendent.\")\n",
      "C:\\Users\\greyh\\Documents\\1 - Projects\\Quantum\\Mod\\overallMerge\\Merge\\pyfiles\\saquiz5_1.py:12: SyntaxWarning: invalid escape sequence '\\e'\n",
      "  q2 = prepareQuestion(\"2. $\\\\begin{bmatrix}2\\\\\\\\-1\\\\\\\\1\\end{bmatrix}$, $\\\\begin{bmatrix}3\\\\\\\\-4\\\\\\\\-2\\end{bmatrix}$, $\\\\begin{bmatrix}5\\\\\\\\-10\\\\\\\\-8\\end{bmatrix}$\",[\"hint 1\"], \"$\\left|\\\\begin{matrix}2&3&5\\\\\\\\-1&-4&-10\\\\\\\\1&-2&-8\\end{matrix}\\\\right|$&emsp;=&emsp;0 &emsp;&emsp;Therefore, the set of vectors are not linearly indepdendent.\")\n",
      "C:\\Users\\greyh\\Documents\\1 - Projects\\Quantum\\Mod\\overallMerge\\Merge\\pyfiles\\saquiz5_1.py:12: SyntaxWarning: invalid escape sequence '\\l'\n",
      "  q2 = prepareQuestion(\"2. $\\\\begin{bmatrix}2\\\\\\\\-1\\\\\\\\1\\end{bmatrix}$, $\\\\begin{bmatrix}3\\\\\\\\-4\\\\\\\\-2\\end{bmatrix}$, $\\\\begin{bmatrix}5\\\\\\\\-10\\\\\\\\-8\\end{bmatrix}$\",[\"hint 1\"], \"$\\left|\\\\begin{matrix}2&3&5\\\\\\\\-1&-4&-10\\\\\\\\1&-2&-8\\end{matrix}\\\\right|$&emsp;=&emsp;0 &emsp;&emsp;Therefore, the set of vectors are not linearly indepdendent.\")\n"
     ]
    },
    {
     "data": {
      "application/vnd.jupyter.widget-view+json": {
       "model_id": "bbb783e46fce402e96610d358f931271",
       "version_major": 2,
       "version_minor": 0
      },
      "text/plain": [
       "VBox(children=(HTML(value='<b><font size=\"+2\">Quiz 5.1 Self Assessment Quiz'), HTML(value='<b><font size=\"-1\"<…"
      ]
     },
     "metadata": {},
     "output_type": "display_data"
    },
    {
     "data": {
      "application/vnd.jupyter.widget-view+json": {
       "model_id": "6a2ebb3bb5aa4672941c4f2e121c91d2",
       "version_major": 2,
       "version_minor": 0
      },
      "text/plain": [
       "HTMLMath(value='<font size=\"+1\">Show that the following set of vectors is not linearly independent,')"
      ]
     },
     "metadata": {},
     "output_type": "display_data"
    },
    {
     "data": {
      "application/vnd.jupyter.widget-view+json": {
       "model_id": "c3880e1c915a45e78d1862a3125f9b88",
       "version_major": 2,
       "version_minor": 0
      },
      "text/plain": [
       "HTMLMath(value='<font size=\"+0\">&emsp;1. $\\\\begin{bmatrix}1\\\\\\\\1\\\\\\\\0\\\\end{bmatrix}$, $\\\\begin{bmatrix}1\\\\\\\\2\\…"
      ]
     },
     "metadata": {},
     "output_type": "display_data"
    },
    {
     "data": {
      "application/vnd.jupyter.widget-view+json": {
       "model_id": "698bd1647d7e4e9cb7537a308acce6a1",
       "version_major": 2,
       "version_minor": 0
      },
      "text/plain": [
       "VBox(children=(VBox(children=(HBox(children=(HTML(value=' '), Label(value='')), layout=Layout(height='40px')),…"
      ]
     },
     "metadata": {},
     "output_type": "display_data"
    },
    {
     "data": {
      "application/vnd.jupyter.widget-view+json": {
       "model_id": "9d9a48f8f37742f3a98405de4698cf13",
       "version_major": 2,
       "version_minor": 0
      },
      "text/plain": [
       "HTMLMath(value='<font size=\"+0\">&emsp;2. $\\\\begin{bmatrix}2\\\\\\\\-1\\\\\\\\1\\\\end{bmatrix}$, $\\\\begin{bmatrix}3\\\\\\\\-…"
      ]
     },
     "metadata": {},
     "output_type": "display_data"
    },
    {
     "data": {
      "application/vnd.jupyter.widget-view+json": {
       "model_id": "1e3290e0eb2c4c58a1ef8bb3a8257149",
       "version_major": 2,
       "version_minor": 0
      },
      "text/plain": [
       "VBox(children=(VBox(children=(HBox(children=(HTML(value=' '), Label(value='')), layout=Layout(height='40px')),…"
      ]
     },
     "metadata": {},
     "output_type": "display_data"
    }
   ],
   "source": [
    "%run pyfiles/saquiz5_1  #This runs the file that has the quiz code\n",
    "createQuiz5_1()"
   ]
  },
  {
   "cell_type": "markdown",
   "metadata": {},
   "source": [
    "## Quiz 5.2 Self Assessment Quiz\n",
    "<b>Maybe used for in-class hands-on practice.</b>\n",
    "\n",
    "1. Verify that the following are basis for $\\mathbb{C}^2$\n",
    "\n",
    "    a. $B_1$ = $\\left\\{\\begin{bmatrix}1\\\\0\\end{bmatrix}, \\begin{bmatrix}0\\\\1\\end{bmatrix}\\right\\}$\n",
    "<br><br>\n",
    "    b. $B_2$ = $\\left\\{\\begin{bmatrix}1\\\\1\\end{bmatrix}, \\begin{bmatrix}1\\\\-1\\end{bmatrix}\\right\\}$\n",
    "<br><br>\n"
   ]
  },
  {
   "cell_type": "code",
   "execution_count": 10,
   "metadata": {},
   "outputs": [
    {
     "name": "stderr",
     "output_type": "stream",
     "text": [
      "C:\\Users\\greyh\\Documents\\1 - Projects\\Quantum\\Mod\\overallMerge\\Merge\\pyfiles\\saquiz5_2.py:11: SyntaxWarning: invalid escape sequence '\\l'\n",
      "  q1 = prepareQuestion(\"a.&emsp; $B_1$ =&emsp; $\\left\\{\\\\begin{bmatrix}1\\\\\\\\0\\end{bmatrix}, \\\\begin{bmatrix}0\\\\\\\\1\\end{bmatrix}\\\\right\\}$\",[\"hint 1\",\"hint 2\",\"hint 3\",\"hint 4\",\"hint 5\"], \"$\\\\begin{bmatrix}1&0\\\\\\\\0&1\\end{bmatrix}\\\\begin{bmatrix}c_1\\\\\\\\c_2\\end{bmatrix}$&emsp;=&emsp;$\\\\begin{bmatrix}x\\\\\\\\y\\end{bmatrix}$&emsp;&emsp;&emsp;&emsp;&emsp;Because we can find the coefficients c1 and c2 for every<br>&emsp;&emsp;&emsp;&emsp;&emsp;&emsp;&emsp;&emsp;&emsp;&emsp;&emsp;&emsp;&emsp;&emsp;&emsp;&emsp;&emsp;&emsp; possible value of x and y; $B_1$ forms a basis for $\\mathbb{C}^2$ \")\n",
      "C:\\Users\\greyh\\Documents\\1 - Projects\\Quantum\\Mod\\overallMerge\\Merge\\pyfiles\\saquiz5_2.py:11: SyntaxWarning: invalid escape sequence '\\e'\n",
      "  q1 = prepareQuestion(\"a.&emsp; $B_1$ =&emsp; $\\left\\{\\\\begin{bmatrix}1\\\\\\\\0\\end{bmatrix}, \\\\begin{bmatrix}0\\\\\\\\1\\end{bmatrix}\\\\right\\}$\",[\"hint 1\",\"hint 2\",\"hint 3\",\"hint 4\",\"hint 5\"], \"$\\\\begin{bmatrix}1&0\\\\\\\\0&1\\end{bmatrix}\\\\begin{bmatrix}c_1\\\\\\\\c_2\\end{bmatrix}$&emsp;=&emsp;$\\\\begin{bmatrix}x\\\\\\\\y\\end{bmatrix}$&emsp;&emsp;&emsp;&emsp;&emsp;Because we can find the coefficients c1 and c2 for every<br>&emsp;&emsp;&emsp;&emsp;&emsp;&emsp;&emsp;&emsp;&emsp;&emsp;&emsp;&emsp;&emsp;&emsp;&emsp;&emsp;&emsp;&emsp; possible value of x and y; $B_1$ forms a basis for $\\mathbb{C}^2$ \")\n",
      "C:\\Users\\greyh\\Documents\\1 - Projects\\Quantum\\Mod\\overallMerge\\Merge\\pyfiles\\saquiz5_2.py:12: SyntaxWarning: invalid escape sequence '\\l'\n",
      "  q2 = prepareQuestion(\"b.&emsp; $B_2$ = &emsp;$\\left\\{\\\\begin{bmatrix}1\\\\\\\\1\\end{bmatrix}, \\\\begin{bmatrix}1\\\\\\\\-1\\end{bmatrix}\\\\right\\}$\",[\"hint 1\"], \"$\\left|\\\\begin{matrix}1&1\\\\\\\\1&-1\\end{matrix}\\\\right|$&emsp;=&emsp;-2. &emsp;&emsp;Therefore, the set of vectors is linearly independent, and because the vectors &emsp;&emsp;&emsp;&emsp;&emsp;&emsp;&emsp;&emsp;&emsp;&emsp;&emsp;form is invertible, $B_2$ is a basis set for $\\mathbb{C}^2$\")\n",
      "C:\\Users\\greyh\\Documents\\1 - Projects\\Quantum\\Mod\\overallMerge\\Merge\\pyfiles\\saquiz5_2.py:12: SyntaxWarning: invalid escape sequence '\\l'\n",
      "  q2 = prepareQuestion(\"b.&emsp; $B_2$ = &emsp;$\\left\\{\\\\begin{bmatrix}1\\\\\\\\1\\end{bmatrix}, \\\\begin{bmatrix}1\\\\\\\\-1\\end{bmatrix}\\\\right\\}$\",[\"hint 1\"], \"$\\left|\\\\begin{matrix}1&1\\\\\\\\1&-1\\end{matrix}\\\\right|$&emsp;=&emsp;-2. &emsp;&emsp;Therefore, the set of vectors is linearly independent, and because the vectors &emsp;&emsp;&emsp;&emsp;&emsp;&emsp;&emsp;&emsp;&emsp;&emsp;&emsp;form is invertible, $B_2$ is a basis set for $\\mathbb{C}^2$\")\n",
      "C:\\Users\\greyh\\Documents\\1 - Projects\\Quantum\\Mod\\overallMerge\\Merge\\pyfiles\\saquiz5_2.py:21: SyntaxWarning: invalid escape sequence '\\m'\n",
      "  display(widgets.HTMLMath(value=\"<font size=\\\"+1\\\"> Verify that the following are basis for $\\mathbb{C}^2$\"))\n"
     ]
    },
    {
     "data": {
      "application/vnd.jupyter.widget-view+json": {
       "model_id": "d05edccb984b42dd9c231f0d35043154",
       "version_major": 2,
       "version_minor": 0
      },
      "text/plain": [
       "VBox(children=(HTML(value='<b><font size=\"+2\">Quiz 5.2 Self Assessment Quiz'), HTML(value='<b><font size=\"-1\"<…"
      ]
     },
     "metadata": {},
     "output_type": "display_data"
    },
    {
     "data": {
      "application/vnd.jupyter.widget-view+json": {
       "model_id": "e24f39d1bf914431a27d25c1b25f60a8",
       "version_major": 2,
       "version_minor": 0
      },
      "text/plain": [
       "HTMLMath(value='<font size=\"+1\"> Verify that the following are basis for $\\\\mathbb{C}^2$')"
      ]
     },
     "metadata": {},
     "output_type": "display_data"
    },
    {
     "data": {
      "application/vnd.jupyter.widget-view+json": {
       "model_id": "410d72486775429eb9ddedc76cb0d383",
       "version_major": 2,
       "version_minor": 0
      },
      "text/plain": [
       "HTMLMath(value='<font size=\"+0\">&emsp;a.&emsp; $B_1$ =&emsp; $\\\\left\\\\{\\\\begin{bmatrix}1\\\\\\\\0\\\\end{bmatrix}, \\…"
      ]
     },
     "metadata": {},
     "output_type": "display_data"
    },
    {
     "data": {
      "application/vnd.jupyter.widget-view+json": {
       "model_id": "ea12282ae7e44fa7bd0dc0d2e4facb6f",
       "version_major": 2,
       "version_minor": 0
      },
      "text/plain": [
       "VBox(children=(VBox(children=(HBox(children=(HTML(value=' '), Label(value='')), layout=Layout(height='40px')),…"
      ]
     },
     "metadata": {},
     "output_type": "display_data"
    },
    {
     "data": {
      "application/vnd.jupyter.widget-view+json": {
       "model_id": "27a0783b32d140acaf9baa50e0e78d4a",
       "version_major": 2,
       "version_minor": 0
      },
      "text/plain": [
       "HTMLMath(value='<font size=\"+0\">&emsp;b.&emsp; $B_2$ = &emsp;$\\\\left\\\\{\\\\begin{bmatrix}1\\\\\\\\1\\\\end{bmatrix}, \\…"
      ]
     },
     "metadata": {},
     "output_type": "display_data"
    },
    {
     "data": {
      "application/vnd.jupyter.widget-view+json": {
       "model_id": "abb76d5d1d554607964a347853a6ea65",
       "version_major": 2,
       "version_minor": 0
      },
      "text/plain": [
       "VBox(children=(VBox(children=(HBox(children=(HTML(value=' '), Label(value='')), layout=Layout(height='40px')),…"
      ]
     },
     "metadata": {},
     "output_type": "display_data"
    }
   ],
   "source": [
    "%run pyfiles/saquiz5_2  #This runs the file that has the quiz code\n",
    "createQuiz5_2()"
   ]
  },
  {
   "cell_type": "markdown",
   "metadata": {},
   "source": [
    "## Quiz 5.3 Self Assessment Quiz\n",
    "<b>Maybe used for in-class hands-on practice.</b>\n",
    "\n",
    "1. Represent the following vectors with respect to Hadamard basis,\n",
    "\n",
    "    a. $\\begin{bmatrix}\\frac{\\sqrt{2}}{2}\\\\\\frac{\\sqrt{2}}{2}\\end{bmatrix}$\n",
    "\n",
    "    b. $\\begin{bmatrix}\\frac{i}{\\sqrt{3}}\\\\\\frac{\\sqrt{2}}{\\sqrt{3}}\\end{bmatrix}$\n",
    "<br><br>\n",
    "\n",
    "2. Prove that Hadamard matrix is its own inverse.\n"
   ]
  },
  {
   "cell_type": "code",
   "execution_count": 1,
   "metadata": {},
   "outputs": [
    {
     "name": "stderr",
     "output_type": "stream",
     "text": [
      "C:\\Users\\greyh\\Documents\\1 - Projects\\Quantum\\Mod\\overallMerge\\Merge\\pyfiles\\saquiz5_3.py:11: SyntaxWarning: invalid escape sequence '\\s'\n",
      "  q1 = prepareQuestion(\"a. $\\\\begin{bmatrix}\\\\frac{\\sqrt{2}}{2}\\\\\\\\\\\\frac{\\sqrt{2}}{2}\\end{bmatrix}$\",[\"hint 1\",\"hint 2\",\"hint 3\",\"hint 4\",\"hint 5\"], \"$\\\\frac{1}{\\sqrt{2}}$&emsp;$\\\\begin{bmatrix}1&1\\\\\\\\1&-1\\end{bmatrix}$&emsp;$\\cdot$&emsp;$\\\\begin{bmatrix}\\\\frac{\\sqrt{2}}{2}\\\\\\\\\\\\frac{\\sqrt{2}}{2}\\end{bmatrix}$&emsp;=&emsp;$\\\\begin{bmatrix}1\\\\\\\\0\\end{bmatrix}$\")\n",
      "C:\\Users\\greyh\\Documents\\1 - Projects\\Quantum\\Mod\\overallMerge\\Merge\\pyfiles\\saquiz5_3.py:11: SyntaxWarning: invalid escape sequence '\\s'\n",
      "  q1 = prepareQuestion(\"a. $\\\\begin{bmatrix}\\\\frac{\\sqrt{2}}{2}\\\\\\\\\\\\frac{\\sqrt{2}}{2}\\end{bmatrix}$\",[\"hint 1\",\"hint 2\",\"hint 3\",\"hint 4\",\"hint 5\"], \"$\\\\frac{1}{\\sqrt{2}}$&emsp;$\\\\begin{bmatrix}1&1\\\\\\\\1&-1\\end{bmatrix}$&emsp;$\\cdot$&emsp;$\\\\begin{bmatrix}\\\\frac{\\sqrt{2}}{2}\\\\\\\\\\\\frac{\\sqrt{2}}{2}\\end{bmatrix}$&emsp;=&emsp;$\\\\begin{bmatrix}1\\\\\\\\0\\end{bmatrix}$\")\n",
      "C:\\Users\\greyh\\Documents\\1 - Projects\\Quantum\\Mod\\overallMerge\\Merge\\pyfiles\\saquiz5_3.py:12: SyntaxWarning: invalid escape sequence '\\s'\n",
      "  q2 = prepareQuestion(\"b. $\\\\begin{bmatrix}\\\\frac{i}{\\sqrt{3}}\\\\\\\\\\\\frac{\\sqrt{2}}{\\sqrt{3}}\\end{bmatrix}$\",[\"hint 1\"], \"$\\\\frac{1}{\\sqrt{2}}\\\\begin{bmatrix}1&1\\\\\\\\1&-1\\end{bmatrix}$&emsp;$\\cdot$&emsp;$\\\\begin{bmatrix}\\\\frac{i}{\\sqrt{3}}\\\\\\\\\\\\frac{\\sqrt{2}}{\\sqrt{3}}\\end{bmatrix}$&emsp;=&emsp;$\\\\begin{bmatrix}\\\\frac{i}{\\sqrt{6}}+\\\\frac{1}{\\sqrt{3}}\\\\\\\\\\\\frac{i}{\\sqrt{6}}-\\\\frac{1}{\\sqrt{3}}\\end{bmatrix}$\")\n",
      "C:\\Users\\greyh\\Documents\\1 - Projects\\Quantum\\Mod\\overallMerge\\Merge\\pyfiles\\saquiz5_3.py:12: SyntaxWarning: invalid escape sequence '\\s'\n",
      "  q2 = prepareQuestion(\"b. $\\\\begin{bmatrix}\\\\frac{i}{\\sqrt{3}}\\\\\\\\\\\\frac{\\sqrt{2}}{\\sqrt{3}}\\end{bmatrix}$\",[\"hint 1\"], \"$\\\\frac{1}{\\sqrt{2}}\\\\begin{bmatrix}1&1\\\\\\\\1&-1\\end{bmatrix}$&emsp;$\\cdot$&emsp;$\\\\begin{bmatrix}\\\\frac{i}{\\sqrt{3}}\\\\\\\\\\\\frac{\\sqrt{2}}{\\sqrt{3}}\\end{bmatrix}$&emsp;=&emsp;$\\\\begin{bmatrix}\\\\frac{i}{\\sqrt{6}}+\\\\frac{1}{\\sqrt{3}}\\\\\\\\\\\\frac{i}{\\sqrt{6}}-\\\\frac{1}{\\sqrt{3}}\\end{bmatrix}$\")\n",
      "C:\\Users\\greyh\\Documents\\1 - Projects\\Quantum\\Mod\\overallMerge\\Merge\\pyfiles\\saquiz5_3.py:13: SyntaxWarning: invalid escape sequence '\\s'\n",
      "  q3 = prepareQuestion(\"2. Prove that Hadamard matrix is its own inverse.\",[\"hint 1\"], \"$\\\\frac{1}{\\sqrt{2}}$&emsp;$\\\\begin{bmatrix}1&1\\\\\\\\1&-1\\end{bmatrix}$&emsp;$\\cdot$&emsp;$\\\\frac{1}{\\sqrt{2}}$&emsp;$\\\\begin{bmatrix}1&1\\\\\\\\1&-1\\end{bmatrix}$&emsp;=&emsp;$\\\\begin{bmatrix}1&0\\\\\\\\0&1\\end{bmatrix}$\")\n"
     ]
    },
    {
     "data": {
      "application/vnd.jupyter.widget-view+json": {
       "model_id": "824bda7ea453422b9fce9666fa254e58",
       "version_major": 2,
       "version_minor": 0
      },
      "text/plain": [
       "VBox(children=(HTML(value='<b><font size=\"+2\">Quiz 5.3 Self Assessment Quiz'), HTML(value='<b><font size=\"-1\"<…"
      ]
     },
     "metadata": {},
     "output_type": "display_data"
    },
    {
     "data": {
      "application/vnd.jupyter.widget-view+json": {
       "model_id": "16ede7f7207a40bea8f620c33387fbab",
       "version_major": 2,
       "version_minor": 0
      },
      "text/plain": [
       "HTMLMath(value='<font size=\"+1\">1. Represent the following vectors with respect to Hadamard basis,')"
      ]
     },
     "metadata": {},
     "output_type": "display_data"
    },
    {
     "data": {
      "application/vnd.jupyter.widget-view+json": {
       "model_id": "09a46fe7d2bd4970a8c31138a809a424",
       "version_major": 2,
       "version_minor": 0
      },
      "text/plain": [
       "HTMLMath(value='<font size=\"+0\">&emsp;a. $\\\\begin{bmatrix}\\\\frac{\\\\sqrt{2}}{2}\\\\\\\\\\\\frac{\\\\sqrt{2}}{2}\\\\end{bm…"
      ]
     },
     "metadata": {},
     "output_type": "display_data"
    },
    {
     "data": {
      "application/vnd.jupyter.widget-view+json": {
       "model_id": "6a2fea923117404297afb7198379303c",
       "version_major": 2,
       "version_minor": 0
      },
      "text/plain": [
       "VBox(children=(VBox(children=(HBox(children=(HTML(value=' '), Label(value='')), layout=Layout(height='40px')),…"
      ]
     },
     "metadata": {},
     "output_type": "display_data"
    },
    {
     "data": {
      "application/vnd.jupyter.widget-view+json": {
       "model_id": "42f5df2135054fe0b72625a3a4729cf3",
       "version_major": 2,
       "version_minor": 0
      },
      "text/plain": [
       "HTMLMath(value='<font size=\"+0\">&emsp;b. $\\\\begin{bmatrix}\\\\frac{i}{\\\\sqrt{3}}\\\\\\\\\\\\frac{\\\\sqrt{2}}{\\\\sqrt{3}}…"
      ]
     },
     "metadata": {},
     "output_type": "display_data"
    },
    {
     "data": {
      "application/vnd.jupyter.widget-view+json": {
       "model_id": "60ea64aa6d6546c19b25124212387067",
       "version_major": 2,
       "version_minor": 0
      },
      "text/plain": [
       "VBox(children=(VBox(children=(HBox(children=(HTML(value=' '), Label(value='')), layout=Layout(height='40px')),…"
      ]
     },
     "metadata": {},
     "output_type": "display_data"
    },
    {
     "data": {
      "application/vnd.jupyter.widget-view+json": {
       "model_id": "ddcbfc434527422cb3e50e78638ee48d",
       "version_major": 2,
       "version_minor": 0
      },
      "text/plain": [
       "HTMLMath(value='<font size=\"+0\">&emsp;2. Prove that Hadamard matrix is its own inverse.')"
      ]
     },
     "metadata": {},
     "output_type": "display_data"
    },
    {
     "data": {
      "application/vnd.jupyter.widget-view+json": {
       "model_id": "98dff45381a14f939e1209ad84594a50",
       "version_major": 2,
       "version_minor": 0
      },
      "text/plain": [
       "VBox(children=(VBox(children=(HBox(children=(HTML(value=' '), Label(value='')), layout=Layout(height='40px')),…"
      ]
     },
     "metadata": {},
     "output_type": "display_data"
    }
   ],
   "source": [
    "%run pyfiles/saquiz5_3  #This runs the file that has the quiz code\n",
    "createQuiz5_3()"
   ]
  },
  {
   "cell_type": "markdown",
   "metadata": {},
   "source": [
    "## Quiz 6.1 Self Assessment Quiz\n",
    "<b>Maybe used for in-class hands-on practice.</b>\n",
    "\n",
    "1. Compute the inner product of the following.\n",
    "\n",
    "    a. $V_1=\\begin{bmatrix}3\\\\4\\\\-10i\\end{bmatrix}$ and $V_2=\\begin{bmatrix}3-2i\\\\0\\\\1+i\\end{bmatrix}$\n",
    "\n",
    "    b. $V_1=\\begin{bmatrix}-3\\\\-4\\\\10i\\end{bmatrix}$ and $V_2=\\begin{bmatrix}-3+2i\\\\0\\\\-1-i\\end{bmatrix}$\n",
    "\n",
    "    c. $A=\\begin{bmatrix}-2i& 0& 5+4i\\\\ 1& -1&-i-1\\\\ 0& 4-5i& 1\\end{bmatrix}$ and $B=\\begin{bmatrix}4-2i& 1& -5\\\\ i& -i+2&1\\\\ 1& 0& 3+4i\\end{bmatrix}$\n",
    "<br><br>\n",
    "\n",
    "2. Prove the following properties\n",
    "\n",
    "    a. $\\left<V_1,c\\cdot V_2\\right>=\\overline{c}\\left<V_1,V_2\\right>$\n",
    "\n",
    "    b. $\\left<V_1,V_2\\right>=\\overline{\\left<V_2,V_1\\right>}$"
   ]
  },
  {
   "cell_type": "code",
   "execution_count": 1,
   "metadata": {},
   "outputs": [
    {
     "name": "stderr",
     "output_type": "stream",
     "text": [
      "C:\\Users\\greyh\\Documents\\1 - Projects\\Quantum\\Mod\\overallMerge\\Merge\\pyfiles\\saquiz6_1.py:22: SyntaxWarning: invalid escape sequence '\\l'\n",
      "  q1 = prepareQuestion(\"a. $\\left&#60;V_1,c\\cdot V_2\\\\right&#62;=\\overline{c}\\left&#60;V_1,V_2\\\\right&#62;$\",[\"hint 1\",\"hint 2\",\"hint 3\",\"hint 4\",\"hint 5\"], \"<font size=\\\"-1\\\"><b> LHS = </b>&emsp;$\\left&#60;V_1,c\\cdot V_2\\\\right&#62;$&emsp;=&emsp;$V_1^\\dagger c\\cdot V_2$&emsp;=&emsp;$ c\\cdot V_1^\\dagger\\cdot V_2$&emsp;=&emsp;$ (\\overline{c}\\cdot V_1)^\\dagger\\cdot V_2$&emsp;=&emsp;$ \\left&#60;\\overline{c}V_1, V_2\\\\right&#62;$&emsp;=&emsp;$ \\overline{c}\\left&#60;V_1, V_2\\\\right&#62;$&emsp;<b> = RHS</b>.\")\n",
      "C:\\Users\\greyh\\Documents\\1 - Projects\\Quantum\\Mod\\overallMerge\\Merge\\pyfiles\\saquiz6_1.py:22: SyntaxWarning: invalid escape sequence '\\l'\n",
      "  q1 = prepareQuestion(\"a. $\\left&#60;V_1,c\\cdot V_2\\\\right&#62;=\\overline{c}\\left&#60;V_1,V_2\\\\right&#62;$\",[\"hint 1\",\"hint 2\",\"hint 3\",\"hint 4\",\"hint 5\"], \"<font size=\\\"-1\\\"><b> LHS = </b>&emsp;$\\left&#60;V_1,c\\cdot V_2\\\\right&#62;$&emsp;=&emsp;$V_1^\\dagger c\\cdot V_2$&emsp;=&emsp;$ c\\cdot V_1^\\dagger\\cdot V_2$&emsp;=&emsp;$ (\\overline{c}\\cdot V_1)^\\dagger\\cdot V_2$&emsp;=&emsp;$ \\left&#60;\\overline{c}V_1, V_2\\\\right&#62;$&emsp;=&emsp;$ \\overline{c}\\left&#60;V_1, V_2\\\\right&#62;$&emsp;<b> = RHS</b>.\")\n",
      "C:\\Users\\greyh\\Documents\\1 - Projects\\Quantum\\Mod\\overallMerge\\Merge\\pyfiles\\saquiz6_1.py:23: SyntaxWarning: invalid escape sequence '\\l'\n",
      "  q2 = prepareQuestion(\"b. $\\left&#60;V_1,V_2\\\\right&#62;=\\overline{\\left&#60;V_2,V_1\\\\right&#62;}$\",[\"hint 1\"], \"<b>LHS = </b>$\\left&#60;V_1,V_2\\\\right&#62;=V_1^\\dagger\\cdot V_2=(V_2^\\dagger\\cdot V_1)^\\dagger=(\\left&#60;V_2,V_1\\\\right&#62;)^\\dagger=\\overline{\\left&#60;V_2,V_1\\\\right&#62;}$<b> = RHS</b>\")\n",
      "C:\\Users\\greyh\\Documents\\1 - Projects\\Quantum\\Mod\\overallMerge\\Merge\\pyfiles\\saquiz6_1.py:23: SyntaxWarning: invalid escape sequence '\\l'\n",
      "  q2 = prepareQuestion(\"b. $\\left&#60;V_1,V_2\\\\right&#62;=\\overline{\\left&#60;V_2,V_1\\\\right&#62;}$\",[\"hint 1\"], \"<b>LHS = </b>$\\left&#60;V_1,V_2\\\\right&#62;=V_1^\\dagger\\cdot V_2=(V_2^\\dagger\\cdot V_1)^\\dagger=(\\left&#60;V_2,V_1\\\\right&#62;)^\\dagger=\\overline{\\left&#60;V_2,V_1\\\\right&#62;}$<b> = RHS</b>\")\n",
      "C:\\Users\\greyh\\Documents\\1 - Projects\\Quantum\\Mod\\overallMerge\\Merge\\pyfiles\\saquiz6_1.py:39: SyntaxWarning: invalid escape sequence '\\e'\n",
      "  qlist6_1.append(newfillblank(\"a. $V_1=\\\\begin{bmatrix}3\\\\\\\\4\\\\\\\\-10i\\end{bmatrix}$ and $V_2=\\\\begin{bmatrix}3-2i\\\\\\\\0\\\\\\\\1+i\\end{bmatrix}$\",0,-1+4j,strInputLayout2))\n",
      "C:\\Users\\greyh\\Documents\\1 - Projects\\Quantum\\Mod\\overallMerge\\Merge\\pyfiles\\saquiz6_1.py:40: SyntaxWarning: invalid escape sequence '\\e'\n",
      "  qlist6_1.append(newfillblank(\"b. $V_1=\\\\begin{bmatrix}-3\\\\\\\\-4\\\\\\\\10i\\end{bmatrix}$ and $V_2=\\\\begin{bmatrix}-3+2i\\\\\\\\0\\\\\\\\-1-i\\end{bmatrix}$\",0,19-16j,strInputLayout2))\n",
      "C:\\Users\\greyh\\Documents\\1 - Projects\\Quantum\\Mod\\overallMerge\\Merge\\pyfiles\\saquiz6_1.py:41: SyntaxWarning: invalid escape sequence '\\e'\n",
      "  qlist6_1.append(newfillblank(\"c. A&emsp;=&emsp;$\\\\begin{bmatrix}-2i& 0& 5+4i\\\\\\\\ 1& -1&-i-1\\\\\\\\ 0& 4-5i& 1\\end{bmatrix}$ and B&emsp;=&emsp;$\\\\begin{bmatrix}4-2i& 1& -5\\\\\\\\ i& -i+2&1\\\\\\\\ 1& 0& 3+4i\\end{bmatrix}$\",0,-21-5j,strInputLayout2))\n"
     ]
    },
    {
     "data": {
      "application/vnd.jupyter.widget-view+json": {
       "model_id": "4c04c88e93554c9597a54e1d38ebf025",
       "version_major": 2,
       "version_minor": 0
      },
      "text/plain": [
       "VBox(children=(HTML(value='<b><font size=\"+2\">Quiz 6.1 Self Assessment Quiz'), HTML(value='<b><font size=\"-1\"<…"
      ]
     },
     "metadata": {},
     "output_type": "display_data"
    },
    {
     "data": {
      "application/vnd.jupyter.widget-view+json": {
       "model_id": "a42e9f0ef7f54e1c987992df11998ea6",
       "version_major": 2,
       "version_minor": 0
      },
      "text/plain": [
       "HTMLMath(value='<font size=\"+1\">1. Compute the inner product of the following.')"
      ]
     },
     "metadata": {},
     "output_type": "display_data"
    },
    {
     "data": {
      "application/vnd.jupyter.widget-view+json": {
       "model_id": "a6a8a62caa2f476589dd9fd6b40a9061",
       "version_major": 2,
       "version_minor": 0
      },
      "text/plain": [
       "HTMLMath(value='<font size=\"+0\">a. $V_1=\\\\begin{bmatrix}3\\\\\\\\4\\\\\\\\-10i\\\\end{bmatrix}$ and $V_2=\\\\begin{bmatrix…"
      ]
     },
     "metadata": {},
     "output_type": "display_data"
    },
    {
     "data": {
      "application/vnd.jupyter.widget-view+json": {
       "model_id": "5bf08d09d83c40d0acbfedd8c2ab431e",
       "version_major": 2,
       "version_minor": 0
      },
      "text/plain": [
       "HBox(children=(Label(value='', layout=Layout(width='40px')), Text(value='', layout=Layout(width='130px'), plac…"
      ]
     },
     "metadata": {},
     "output_type": "display_data"
    },
    {
     "data": {
      "application/vnd.jupyter.widget-view+json": {
       "model_id": "2736f76d3a2b455d870a4e7632647b96",
       "version_major": 2,
       "version_minor": 0
      },
      "text/plain": [
       "HTMLMath(value='<font size=\"+0\">b. $V_1=\\\\begin{bmatrix}-3\\\\\\\\-4\\\\\\\\10i\\\\end{bmatrix}$ and $V_2=\\\\begin{bmatri…"
      ]
     },
     "metadata": {},
     "output_type": "display_data"
    },
    {
     "data": {
      "application/vnd.jupyter.widget-view+json": {
       "model_id": "ee6fd989877840788b469c90aa5df24a",
       "version_major": 2,
       "version_minor": 0
      },
      "text/plain": [
       "HBox(children=(Label(value='', layout=Layout(width='40px')), Text(value='', layout=Layout(width='130px'), plac…"
      ]
     },
     "metadata": {},
     "output_type": "display_data"
    },
    {
     "data": {
      "application/vnd.jupyter.widget-view+json": {
       "model_id": "5046aff23e7544ad83f7332880198a53",
       "version_major": 2,
       "version_minor": 0
      },
      "text/plain": [
       "HTMLMath(value='<font size=\"+0\">c. A&emsp;=&emsp;$\\\\begin{bmatrix}-2i& 0& 5+4i\\\\\\\\ 1& -1&-i-1\\\\\\\\ 0& 4-5i& 1\\\\…"
      ]
     },
     "metadata": {},
     "output_type": "display_data"
    },
    {
     "data": {
      "application/vnd.jupyter.widget-view+json": {
       "model_id": "7c8f5ab596fb48bf80944bad1fc1f65f",
       "version_major": 2,
       "version_minor": 0
      },
      "text/plain": [
       "HBox(children=(Label(value='', layout=Layout(width='40px')), Text(value='', layout=Layout(width='130px'), plac…"
      ]
     },
     "metadata": {},
     "output_type": "display_data"
    },
    {
     "data": {
      "application/vnd.jupyter.widget-view+json": {
       "model_id": "5eb5004e7fcc4dafa9bdf418fd0f10f1",
       "version_major": 2,
       "version_minor": 0
      },
      "text/plain": [
       "VBox(children=(Button(button_style='success', description='Check Answers', icon='check', style=ButtonStyle(fon…"
      ]
     },
     "metadata": {},
     "output_type": "display_data"
    },
    {
     "data": {
      "application/vnd.jupyter.widget-view+json": {
       "model_id": "e9391a078af0425da411d327ba166578",
       "version_major": 2,
       "version_minor": 0
      },
      "text/plain": [
       "HTMLMath(value='<font size=\"+0\">&emsp;a. $\\\\left&#60;V_1,c\\\\cdot V_2\\\\right&#62;=\\\\overline{c}\\\\left&#60;V_1,V…"
      ]
     },
     "metadata": {},
     "output_type": "display_data"
    },
    {
     "data": {
      "application/vnd.jupyter.widget-view+json": {
       "model_id": "cdfb8c1d19d44fd1820e4bb5a2ec9247",
       "version_major": 2,
       "version_minor": 0
      },
      "text/plain": [
       "VBox(children=(VBox(children=(HBox(children=(HTML(value=' '), Label(value='')), layout=Layout(height='40px')),…"
      ]
     },
     "metadata": {},
     "output_type": "display_data"
    },
    {
     "data": {
      "application/vnd.jupyter.widget-view+json": {
       "model_id": "037b4dfe69ff42e798c5e93329bf97d4",
       "version_major": 2,
       "version_minor": 0
      },
      "text/plain": [
       "HTMLMath(value='<font size=\"+0\">&emsp;b. $\\\\left&#60;V_1,V_2\\\\right&#62;=\\\\overline{\\\\left&#60;V_2,V_1\\\\right&…"
      ]
     },
     "metadata": {},
     "output_type": "display_data"
    },
    {
     "data": {
      "application/vnd.jupyter.widget-view+json": {
       "model_id": "effb1698bede4b959658a2bf29fe5f0f",
       "version_major": 2,
       "version_minor": 0
      },
      "text/plain": [
       "VBox(children=(VBox(children=(HBox(children=(HTML(value=' '), Label(value='')), layout=Layout(height='40px')),…"
      ]
     },
     "metadata": {},
     "output_type": "display_data"
    }
   ],
   "source": [
    "%run pyfiles/saquiz6_1  #This runs the file that has the quiz code\n",
    "createQuiz6_1()"
   ]
  },
  {
   "cell_type": "markdown",
   "metadata": {},
   "source": [
    "## Quiz 6.2 Self Assessment Quiz\n",
    "<b>Maybe used for in-class hands-on practice.</b>\n",
    "\n",
    "Given $V_1=\\begin{bmatrix}3\\\\4\\\\-10i\\end{bmatrix} \\text{ and } V_2=\\begin{bmatrix}8i\\\\0\\\\1\\end{bmatrix}$, verify the following numerically:\n",
    "1. $\\rvert V_1+V_2\\rvert\\leq\\rvert V_1\\rvert+\\rvert V_2\\rvert$</li>\n",
    "2. $\\rvert c\\cdot V_1\\rvert=\\rvert c\\rvert\\times\\rvert V_1\\rvert$. Let $c=5-5i$.\n",
    "</ol>"
   ]
  },
  {
   "cell_type": "code",
   "execution_count": 2,
   "metadata": {},
   "outputs": [
    {
     "name": "stderr",
     "output_type": "stream",
     "text": [
      "C:\\Users\\greyh\\Documents\\1 - Projects\\Quantum\\Mod\\overallMerge\\Merge\\pyfiles\\saquiz6_2.py:12: SyntaxWarning: invalid escape sequence '\\l'\n",
      "  q1 = prepareQuestion(\"1. $\\\\rvert V_1+V_2\\\\rvert\\leq\\\\rvert V_1\\\\rvert+\\\\rvert V_2\\\\rvert$\",[\"hint 1\",\"hint 2\",\"hint 3\",\"hint 4\",\"hint 5\"], \" $|V_1+V_2|$&emsp;=&emsp;$\\sqrt{\\left&#60;V,V\\\\right&#62;}$&emsp;=&emsp;$\\sqrt{190}$&emsp;$\\leq$&emsp;  $|V_1|+|V_2|$&emsp;=&emsp;$125+65$&emsp;=&emsp;$190$\")\n",
      "C:\\Users\\greyh\\Documents\\1 - Projects\\Quantum\\Mod\\overallMerge\\Merge\\pyfiles\\saquiz6_2.py:12: SyntaxWarning: invalid escape sequence '\\s'\n",
      "  q1 = prepareQuestion(\"1. $\\\\rvert V_1+V_2\\\\rvert\\leq\\\\rvert V_1\\\\rvert+\\\\rvert V_2\\\\rvert$\",[\"hint 1\",\"hint 2\",\"hint 3\",\"hint 4\",\"hint 5\"], \" $|V_1+V_2|$&emsp;=&emsp;$\\sqrt{\\left&#60;V,V\\\\right&#62;}$&emsp;=&emsp;$\\sqrt{190}$&emsp;$\\leq$&emsp;  $|V_1|+|V_2|$&emsp;=&emsp;$125+65$&emsp;=&emsp;$190$\")\n",
      "C:\\Users\\greyh\\Documents\\1 - Projects\\Quantum\\Mod\\overallMerge\\Merge\\pyfiles\\saquiz6_2.py:13: SyntaxWarning: invalid escape sequence '\\c'\n",
      "  q2 = prepareQuestion(\"2. $\\\\rvert c\\cdot V_1\\\\rvert=\\\\rvert c\\\\rvert\\\\times\\\\rvert V_1\\\\rvert$. Let $c=5-5i$.\",[\"hint 1\"], \"<font size=\\\"-1\\\"><b>LHS:&emsp;</b>$|c\\cdot V_1|=\\left|(5-5i)\\cdot\\\\begin{bmatrix}3\\\\\\\\4\\\\\\\\-10i\\end{bmatrix}\\\\right|=\\sqrt{6250}$ <b>&emsp;RHS:&emsp;</b>$|c|\\\\times|V_1|=\\sqrt{50}\\cdot\\sqrt{125}=\\sqrt{6250}$\")\n",
      "C:\\Users\\greyh\\Documents\\1 - Projects\\Quantum\\Mod\\overallMerge\\Merge\\pyfiles\\saquiz6_2.py:13: SyntaxWarning: invalid escape sequence '\\c'\n",
      "  q2 = prepareQuestion(\"2. $\\\\rvert c\\cdot V_1\\\\rvert=\\\\rvert c\\\\rvert\\\\times\\\\rvert V_1\\\\rvert$. Let $c=5-5i$.\",[\"hint 1\"], \"<font size=\\\"-1\\\"><b>LHS:&emsp;</b>$|c\\cdot V_1|=\\left|(5-5i)\\cdot\\\\begin{bmatrix}3\\\\\\\\4\\\\\\\\-10i\\end{bmatrix}\\\\right|=\\sqrt{6250}$ <b>&emsp;RHS:&emsp;</b>$|c|\\\\times|V_1|=\\sqrt{50}\\cdot\\sqrt{125}=\\sqrt{6250}$\")\n",
      "C:\\Users\\greyh\\Documents\\1 - Projects\\Quantum\\Mod\\overallMerge\\Merge\\pyfiles\\saquiz6_2.py:22: SyntaxWarning: invalid escape sequence '\\e'\n",
      "  display(widgets.HTMLMath(value=\"<font size=\\\"+1\\\">Given $V_1=\\\\begin{bmatrix}3\\\\\\\\4\\\\\\\\-10i\\end{bmatrix} \\mbox{ and } V_2=\\\\begin{bmatrix}8i\\\\\\\\0\\\\\\\\1\\end{bmatrix}$, verify the following numerically:\"))\n"
     ]
    },
    {
     "data": {
      "application/vnd.jupyter.widget-view+json": {
       "model_id": "d21ffc80db144683a054946901687fda",
       "version_major": 2,
       "version_minor": 0
      },
      "text/plain": [
       "VBox(children=(HTML(value='<b><font size=\"+2\">Quiz 6.2 Self Assessment Quiz'), HTML(value='<b><font size=\"-1\"<…"
      ]
     },
     "metadata": {},
     "output_type": "display_data"
    },
    {
     "data": {
      "application/vnd.jupyter.widget-view+json": {
       "model_id": "377134613d28428683e1b6207fdf4cd7",
       "version_major": 2,
       "version_minor": 0
      },
      "text/plain": [
       "HTMLMath(value='<font size=\"+1\">Given $V_1=\\\\begin{bmatrix}3\\\\\\\\4\\\\\\\\-10i\\\\end{bmatrix} \\\\mbox{ and } V_2=\\\\be…"
      ]
     },
     "metadata": {},
     "output_type": "display_data"
    },
    {
     "data": {
      "application/vnd.jupyter.widget-view+json": {
       "model_id": "8e7762b0927a46df9c1f75acbc0758ac",
       "version_major": 2,
       "version_minor": 0
      },
      "text/plain": [
       "HTMLMath(value='<font size=\"+0\">&emsp;1. $\\\\rvert V_1+V_2\\\\rvert\\\\leq\\\\rvert V_1\\\\rvert+\\\\rvert V_2\\\\rvert$')"
      ]
     },
     "metadata": {},
     "output_type": "display_data"
    },
    {
     "data": {
      "application/vnd.jupyter.widget-view+json": {
       "model_id": "7108b6d75fc2496089d2ac78930553f1",
       "version_major": 2,
       "version_minor": 0
      },
      "text/plain": [
       "VBox(children=(VBox(children=(HBox(children=(HTML(value=' '), Label(value='')), layout=Layout(height='40px')),…"
      ]
     },
     "metadata": {},
     "output_type": "display_data"
    },
    {
     "data": {
      "application/vnd.jupyter.widget-view+json": {
       "model_id": "d1b98983ab22493fb84d72bd42e9e10b",
       "version_major": 2,
       "version_minor": 0
      },
      "text/plain": [
       "HTMLMath(value='<font size=\"+0\">&emsp;2. $\\\\rvert c\\\\cdot V_1\\\\rvert=\\\\rvert c\\\\rvert\\\\times\\\\rvert V_1\\\\rvert…"
      ]
     },
     "metadata": {},
     "output_type": "display_data"
    },
    {
     "data": {
      "application/vnd.jupyter.widget-view+json": {
       "model_id": "fd1c8d4ff7e3443a817e64be6a6f7000",
       "version_major": 2,
       "version_minor": 0
      },
      "text/plain": [
       "VBox(children=(VBox(children=(HBox(children=(HTML(value=' '), Label(value='')), layout=Layout(height='40px')),…"
      ]
     },
     "metadata": {},
     "output_type": "display_data"
    }
   ],
   "source": [
    "%run pyfiles/saquiz6_2  #This runs the file that has the quiz code\n",
    "createQuiz6_2()"
   ]
  },
  {
   "cell_type": "markdown",
   "metadata": {},
   "source": [
    "## Quiz 7.1 Self Assessment Quiz\n",
    "\n",
    "1. Compute the eigenvectors and eigenvalues associated with the following matrices.\n",
    "\n",
    "    a. $\\begin{bmatrix}2&-4\\\\-1&-1\\end{bmatrix}$\n",
    "\n",
    "    b. $\\begin{bmatrix}3&-2\\\\4&-1\\end{bmatrix}$\n",
    "<br><br>\n",
    "\n",
    "2. Verify that the following matrices are Hermitian.\n",
    "\n",
    "    a. $\\begin{bmatrix}2&-i\\\\i&1\\end{bmatrix}$\n",
    "\n",
    "    b. $\\begin{bmatrix}1&1+i&2i\\\\1-i&5&-3\\\\-2i&-3&0\\end{bmatrix}$\n",
    "<br>"
   ]
  },
  {
   "cell_type": "code",
   "execution_count": 3,
   "metadata": {},
   "outputs": [
    {
     "name": "stderr",
     "output_type": "stream",
     "text": [
      "C:\\Users\\greyh\\Documents\\1 - Projects\\Quantum\\Mod\\overallMerge\\Merge\\pyfiles\\saquiz7_1.py:14: SyntaxWarning: invalid escape sequence '\\e'\n",
      "  q1 = prepareQuestion(\"a. $\\\\begin{bmatrix}2&-4\\\\\\\\-1&-1\\end{bmatrix}$\",[\"hint 1\",\"hint 2\",\"hint 3\",\"hint 4\",\"hint 5\"], \"<b>Eigenvalues = &emsp;</b>$\\lambda=-2$ and $\\lambda=3$&emsp;&emsp;<b>Eigenvectors =&emsp; </b> $\\\\begin{bmatrix}1\\\\\\\\1\\end{bmatrix}$ and $\\\\begin{bmatrix}-4\\\\\\\\1\\end{bmatrix}$\")\n",
      "C:\\Users\\greyh\\Documents\\1 - Projects\\Quantum\\Mod\\overallMerge\\Merge\\pyfiles\\saquiz7_1.py:14: SyntaxWarning: invalid escape sequence '\\l'\n",
      "  q1 = prepareQuestion(\"a. $\\\\begin{bmatrix}2&-4\\\\\\\\-1&-1\\end{bmatrix}$\",[\"hint 1\",\"hint 2\",\"hint 3\",\"hint 4\",\"hint 5\"], \"<b>Eigenvalues = &emsp;</b>$\\lambda=-2$ and $\\lambda=3$&emsp;&emsp;<b>Eigenvectors =&emsp; </b> $\\\\begin{bmatrix}1\\\\\\\\1\\end{bmatrix}$ and $\\\\begin{bmatrix}-4\\\\\\\\1\\end{bmatrix}$\")\n",
      "C:\\Users\\greyh\\Documents\\1 - Projects\\Quantum\\Mod\\overallMerge\\Merge\\pyfiles\\saquiz7_1.py:15: SyntaxWarning: invalid escape sequence '\\e'\n",
      "  q2 = prepareQuestion(\"b. $\\\\begin{bmatrix}3&-2\\\\\\\\4&-1\\end{bmatrix}$\",[\"hint 1\"], \"<b>Eigenvalues = &emsp;</b>$\\lambda=1+2i$ and $\\lambda=1-2i$&emsp;&emsp;<b>Eigenvectors =&emsp; </b> $\\\\begin{bmatrix}\\\\frac{1}{2}+i\\\\frac{1}{2}\\\\\\\\1\\end{bmatrix}$ and $\\\\begin{bmatrix}\\\\frac{1}{2}-i\\\\frac{1}{2}\\\\\\\\1\\end{bmatrix}$\")\n",
      "C:\\Users\\greyh\\Documents\\1 - Projects\\Quantum\\Mod\\overallMerge\\Merge\\pyfiles\\saquiz7_1.py:15: SyntaxWarning: invalid escape sequence '\\l'\n",
      "  q2 = prepareQuestion(\"b. $\\\\begin{bmatrix}3&-2\\\\\\\\4&-1\\end{bmatrix}$\",[\"hint 1\"], \"<b>Eigenvalues = &emsp;</b>$\\lambda=1+2i$ and $\\lambda=1-2i$&emsp;&emsp;<b>Eigenvectors =&emsp; </b> $\\\\begin{bmatrix}\\\\frac{1}{2}+i\\\\frac{1}{2}\\\\\\\\1\\end{bmatrix}$ and $\\\\begin{bmatrix}\\\\frac{1}{2}-i\\\\frac{1}{2}\\\\\\\\1\\end{bmatrix}$\")\n",
      "C:\\Users\\greyh\\Documents\\1 - Projects\\Quantum\\Mod\\overallMerge\\Merge\\pyfiles\\saquiz7_1.py:16: SyntaxWarning: invalid escape sequence '\\e'\n",
      "  q3 = prepareQuestion(\"a. $A$&emsp;=&emsp;$\\\\begin{bmatrix}2&-i\\\\\\\\i&1\\end{bmatrix}$\",[\"hint 1\",\"hint 2\",\"hint 3\",\"hint 4\",\"hint 5\"], \"$A^\\dagger$&emsp;=&emsp;$\\\\begin{bmatrix}2&-i\\\\\\\\i&1\\end{bmatrix}=A$\")\n",
      "C:\\Users\\greyh\\Documents\\1 - Projects\\Quantum\\Mod\\overallMerge\\Merge\\pyfiles\\saquiz7_1.py:16: SyntaxWarning: invalid escape sequence '\\d'\n",
      "  q3 = prepareQuestion(\"a. $A$&emsp;=&emsp;$\\\\begin{bmatrix}2&-i\\\\\\\\i&1\\end{bmatrix}$\",[\"hint 1\",\"hint 2\",\"hint 3\",\"hint 4\",\"hint 5\"], \"$A^\\dagger$&emsp;=&emsp;$\\\\begin{bmatrix}2&-i\\\\\\\\i&1\\end{bmatrix}=A$\")\n",
      "C:\\Users\\greyh\\Documents\\1 - Projects\\Quantum\\Mod\\overallMerge\\Merge\\pyfiles\\saquiz7_1.py:17: SyntaxWarning: invalid escape sequence '\\e'\n",
      "  q4 = prepareQuestion(\"b. $B$&emsp;=&emsp;$\\\\begin{bmatrix}1&1+i&2i\\\\\\\\1-i&5&-3\\\\\\\\-2i&-3&0\\end{bmatrix}$\",[\"hint 1\"], \"$B^\\dagger$&emsp;=&emsp;$\\\\begin{bmatrix}1&1+i&2i\\\\\\\\1-i&5&-3\\\\\\\\-2i&-3&0\\end{bmatrix}=B$\")\n",
      "C:\\Users\\greyh\\Documents\\1 - Projects\\Quantum\\Mod\\overallMerge\\Merge\\pyfiles\\saquiz7_1.py:17: SyntaxWarning: invalid escape sequence '\\d'\n",
      "  q4 = prepareQuestion(\"b. $B$&emsp;=&emsp;$\\\\begin{bmatrix}1&1+i&2i\\\\\\\\1-i&5&-3\\\\\\\\-2i&-3&0\\end{bmatrix}$\",[\"hint 1\"], \"$B^\\dagger$&emsp;=&emsp;$\\\\begin{bmatrix}1&1+i&2i\\\\\\\\1-i&5&-3\\\\\\\\-2i&-3&0\\end{bmatrix}=B$\")\n"
     ]
    },
    {
     "data": {
      "application/vnd.jupyter.widget-view+json": {
       "model_id": "47405184720c42529af7640b8ec51b7b",
       "version_major": 2,
       "version_minor": 0
      },
      "text/plain": [
       "VBox(children=(HTML(value='<b><font size=\"+2\">Quiz 7.1 Self Assessment Quiz'),), layout=Layout(display='flex_f…"
      ]
     },
     "metadata": {},
     "output_type": "display_data"
    },
    {
     "data": {
      "application/vnd.jupyter.widget-view+json": {
       "model_id": "35226247fb5740e19b68d15bd6fd193b",
       "version_major": 2,
       "version_minor": 0
      },
      "text/plain": [
       "HTMLMath(value='<font size=\"+1\">1. Compute the eigenvectors and eigenvalues associated with the following matr…"
      ]
     },
     "metadata": {},
     "output_type": "display_data"
    },
    {
     "data": {
      "application/vnd.jupyter.widget-view+json": {
       "model_id": "8d3a2881edd44b04b78cc3416867f51d",
       "version_major": 2,
       "version_minor": 0
      },
      "text/plain": [
       "HTMLMath(value='<font size=\"+0\">&emsp;a. $\\\\begin{bmatrix}2&-4\\\\\\\\-1&-1\\\\end{bmatrix}$')"
      ]
     },
     "metadata": {},
     "output_type": "display_data"
    },
    {
     "data": {
      "application/vnd.jupyter.widget-view+json": {
       "model_id": "98f62cf47fcf477daef96954f86590f5",
       "version_major": 2,
       "version_minor": 0
      },
      "text/plain": [
       "VBox(children=(VBox(children=(HBox(children=(HTML(value=' '), Label(value='')), layout=Layout(height='40px')),…"
      ]
     },
     "metadata": {},
     "output_type": "display_data"
    },
    {
     "data": {
      "application/vnd.jupyter.widget-view+json": {
       "model_id": "0751b82eba90494292659a77e05cbe24",
       "version_major": 2,
       "version_minor": 0
      },
      "text/plain": [
       "HTMLMath(value='<font size=\"+0\">&emsp;b. $\\\\begin{bmatrix}3&-2\\\\\\\\4&-1\\\\end{bmatrix}$')"
      ]
     },
     "metadata": {},
     "output_type": "display_data"
    },
    {
     "data": {
      "application/vnd.jupyter.widget-view+json": {
       "model_id": "4e335105e79c45acbb463d3196c7377f",
       "version_major": 2,
       "version_minor": 0
      },
      "text/plain": [
       "VBox(children=(VBox(children=(HBox(children=(HTML(value=' '), Label(value='')), layout=Layout(height='40px')),…"
      ]
     },
     "metadata": {},
     "output_type": "display_data"
    },
    {
     "data": {
      "application/vnd.jupyter.widget-view+json": {
       "model_id": "42d3c21cd37f4116a153b9e93f2b05cf",
       "version_major": 2,
       "version_minor": 0
      },
      "text/plain": [
       "HTMLMath(value='<font size=\"+1\">2. Verify that the following matrices are Hermitian.')"
      ]
     },
     "metadata": {},
     "output_type": "display_data"
    },
    {
     "data": {
      "application/vnd.jupyter.widget-view+json": {
       "model_id": "34123cef8bb047c38cf7fdf793b1a554",
       "version_major": 2,
       "version_minor": 0
      },
      "text/plain": [
       "HTMLMath(value='<font size=\"+0\">&emsp;a. $A$&emsp;=&emsp;$\\\\begin{bmatrix}2&-i\\\\\\\\i&1\\\\end{bmatrix}$')"
      ]
     },
     "metadata": {},
     "output_type": "display_data"
    },
    {
     "data": {
      "application/vnd.jupyter.widget-view+json": {
       "model_id": "a59aa72a76ce4802b414253142dc186e",
       "version_major": 2,
       "version_minor": 0
      },
      "text/plain": [
       "VBox(children=(VBox(children=(HBox(children=(HTML(value=' '), Label(value='')), layout=Layout(height='40px')),…"
      ]
     },
     "metadata": {},
     "output_type": "display_data"
    },
    {
     "data": {
      "application/vnd.jupyter.widget-view+json": {
       "model_id": "fcd50e7ec8ed41559d506579fdcb2dab",
       "version_major": 2,
       "version_minor": 0
      },
      "text/plain": [
       "HTMLMath(value='<font size=\"+0\">&emsp;b. $B$&emsp;=&emsp;$\\\\begin{bmatrix}1&1+i&2i\\\\\\\\1-i&5&-3\\\\\\\\-2i&-3&0\\\\en…"
      ]
     },
     "metadata": {},
     "output_type": "display_data"
    },
    {
     "data": {
      "application/vnd.jupyter.widget-view+json": {
       "model_id": "eaa94d0f8c4046ab9ef3a629de9ace7f",
       "version_major": 2,
       "version_minor": 0
      },
      "text/plain": [
       "VBox(children=(VBox(children=(HBox(children=(HTML(value=' '), Label(value='')), layout=Layout(height='40px')),…"
      ]
     },
     "metadata": {},
     "output_type": "display_data"
    }
   ],
   "source": [
    "%run pyfiles/saquiz7_1  #This runs the file that has the quiz code\n",
    "createQuiz7_1()"
   ]
  },
  {
   "cell_type": "markdown",
   "metadata": {},
   "source": [
    "## Quiz 7.2 Self Assessment Quiz\n",
    "\n",
    "1. Verify that the following matrices are unitary,\n",
    "\n",
    "    a. $\\frac{1}{2}\\begin{bmatrix}1+i& 1+i\\\\1-i&-1+i\\end{bmatrix}$\n",
    "<br><br>\n",
    "    b. $\\begin{bmatrix}cos\\theta&-sin\\theta&0\\\\sin\\theta&cos\\theta&0\\\\0&0&1\\end{bmatrix}$\n",
    "<br><br>\n",
    "2. Prove the following. For a unitary matrix $U$,\n",
    "$\\left<UV,UV'\\right>=\\left<V,V'\\right>$"
   ]
  },
  {
   "cell_type": "code",
   "execution_count": 4,
   "metadata": {},
   "outputs": [
    {
     "name": "stderr",
     "output_type": "stream",
     "text": [
      "C:\\Users\\greyh\\Documents\\1 - Projects\\Quantum\\Mod\\overallMerge\\Merge\\pyfiles\\saquiz7_2.py:12: SyntaxWarning: invalid escape sequence '\\e'\n",
      "  q1 = prepareQuestion(\"a. $\\\\frac{1}{2}\\\\begin{bmatrix}1+i& 1+i\\\\\\\\1-i&-1+i\\end{bmatrix}$\",[\"hint 1\",\"hint 2\",\"hint 3\",\"hint 4\",\"hint 5\"], \" $A^\\dagger\\cdot A$&emsp;=&emsp;$\\\\frac{1}{2}\\\\begin{bmatrix}1-i&1+i\\\\\\\\1-i&-1-i\\end{bmatrix}$&emsp;$\\cdot$&emsp;$\\\\frac{1}{2}\\\\begin{bmatrix}1+i& 1+i\\\\\\\\1-i&-1+i\\end{bmatrix}$&emsp;=&emsp;$\\\\begin{bmatrix}1&0\\\\\\\\0&1\\end{bmatrix}$\")\n",
      "C:\\Users\\greyh\\Documents\\1 - Projects\\Quantum\\Mod\\overallMerge\\Merge\\pyfiles\\saquiz7_2.py:12: SyntaxWarning: invalid escape sequence '\\d'\n",
      "  q1 = prepareQuestion(\"a. $\\\\frac{1}{2}\\\\begin{bmatrix}1+i& 1+i\\\\\\\\1-i&-1+i\\end{bmatrix}$\",[\"hint 1\",\"hint 2\",\"hint 3\",\"hint 4\",\"hint 5\"], \" $A^\\dagger\\cdot A$&emsp;=&emsp;$\\\\frac{1}{2}\\\\begin{bmatrix}1-i&1+i\\\\\\\\1-i&-1-i\\end{bmatrix}$&emsp;$\\cdot$&emsp;$\\\\frac{1}{2}\\\\begin{bmatrix}1+i& 1+i\\\\\\\\1-i&-1+i\\end{bmatrix}$&emsp;=&emsp;$\\\\begin{bmatrix}1&0\\\\\\\\0&1\\end{bmatrix}$\")\n",
      "C:\\Users\\greyh\\Documents\\1 - Projects\\Quantum\\Mod\\overallMerge\\Merge\\pyfiles\\saquiz7_2.py:13: SyntaxWarning: invalid escape sequence '\\e'\n",
      "  q2 = prepareQuestion(\"b. $\\\\begin{bmatrix}cos\\\\theta&-sin\\\\theta&0\\\\\\\\sin\\\\theta&cos\\\\theta&0\\\\\\\\0&0&1\\end{bmatrix}$\",[\"hint 1\"], \"$B^\\dagger\\cdot B$&emsp;=&emsp;$\\\\begin{bmatrix}cos\\\\theta& sin\\\\theta& 0\\\\\\\\-sin\\\\theta& cos\\\\theta& 0\\\\\\\\0&0&1\\end{bmatrix}$&emsp;$\\cdot$&emsp;$\\\\begin{bmatrix}cos\\\\theta&-sin\\\\theta&0\\\\\\\\sin\\\\theta&cos\\\\theta&0\\\\\\\\0&0&1\\end{bmatrix}$&emsp;=&emsp;$\\\\begin{bmatrix}1&0&0\\\\\\\\0&1&0\\\\\\\\0&0&1\\end{bmatrix}$\")\n",
      "C:\\Users\\greyh\\Documents\\1 - Projects\\Quantum\\Mod\\overallMerge\\Merge\\pyfiles\\saquiz7_2.py:13: SyntaxWarning: invalid escape sequence '\\d'\n",
      "  q2 = prepareQuestion(\"b. $\\\\begin{bmatrix}cos\\\\theta&-sin\\\\theta&0\\\\\\\\sin\\\\theta&cos\\\\theta&0\\\\\\\\0&0&1\\end{bmatrix}$\",[\"hint 1\"], \"$B^\\dagger\\cdot B$&emsp;=&emsp;$\\\\begin{bmatrix}cos\\\\theta& sin\\\\theta& 0\\\\\\\\-sin\\\\theta& cos\\\\theta& 0\\\\\\\\0&0&1\\end{bmatrix}$&emsp;$\\cdot$&emsp;$\\\\begin{bmatrix}cos\\\\theta&-sin\\\\theta&0\\\\\\\\sin\\\\theta&cos\\\\theta&0\\\\\\\\0&0&1\\end{bmatrix}$&emsp;=&emsp;$\\\\begin{bmatrix}1&0&0\\\\\\\\0&1&0\\\\\\\\0&0&1\\end{bmatrix}$\")\n",
      "C:\\Users\\greyh\\Documents\\1 - Projects\\Quantum\\Mod\\overallMerge\\Merge\\pyfiles\\saquiz7_2.py:14: SyntaxWarning: invalid escape sequence '\\l'\n",
      "  q3 = prepareQuestion(\"$\\left&#60;UV,UV'\\\\right&#62;$&emsp;=&emsp;$\\left&#60;V,V'\\\\right&#62;$\",[\"hint 1\",\"hint 2\",\"hint 3\",\"hint 4\",\"hint 5\"], \"Thats a goooood question lol\")\n"
     ]
    },
    {
     "data": {
      "application/vnd.jupyter.widget-view+json": {
       "model_id": "ef5a417696ff4465887cebfe7ac0214a",
       "version_major": 2,
       "version_minor": 0
      },
      "text/plain": [
       "VBox(children=(HTML(value='<b><font size=\"+2\">Quiz 7.2 Self Assessment Quiz'),), layout=Layout(display='flex_f…"
      ]
     },
     "metadata": {},
     "output_type": "display_data"
    },
    {
     "data": {
      "application/vnd.jupyter.widget-view+json": {
       "model_id": "36e291cca30846a99cd78c956a7dd46e",
       "version_major": 2,
       "version_minor": 0
      },
      "text/plain": [
       "HTMLMath(value='<font size=\"+1\">1. Verify that the following matrices are unitary,')"
      ]
     },
     "metadata": {},
     "output_type": "display_data"
    },
    {
     "data": {
      "application/vnd.jupyter.widget-view+json": {
       "model_id": "a80aa699dedd4a4f86d3a4abefab6bdd",
       "version_major": 2,
       "version_minor": 0
      },
      "text/plain": [
       "HTMLMath(value='<font size=\"+0\">&emsp;a. $\\\\frac{1}{2}\\\\begin{bmatrix}1+i& 1+i\\\\\\\\1-i&-1+i\\\\end{bmatrix}$')"
      ]
     },
     "metadata": {},
     "output_type": "display_data"
    },
    {
     "data": {
      "application/vnd.jupyter.widget-view+json": {
       "model_id": "90fb6583d2c34913941fb52d5b256585",
       "version_major": 2,
       "version_minor": 0
      },
      "text/plain": [
       "VBox(children=(VBox(children=(HBox(children=(HTML(value=' '), Label(value='')), layout=Layout(height='40px')),…"
      ]
     },
     "metadata": {},
     "output_type": "display_data"
    },
    {
     "data": {
      "application/vnd.jupyter.widget-view+json": {
       "model_id": "4e703ef4665a4b98bcb2344618ff2df8",
       "version_major": 2,
       "version_minor": 0
      },
      "text/plain": [
       "HTMLMath(value='<font size=\"+0\">&emsp;b. $\\\\begin{bmatrix}cos\\\\theta&-sin\\\\theta&0\\\\\\\\sin\\\\theta&cos\\\\theta&0\\…"
      ]
     },
     "metadata": {},
     "output_type": "display_data"
    },
    {
     "data": {
      "application/vnd.jupyter.widget-view+json": {
       "model_id": "91a546033ca6458893e2fd73b72eb09e",
       "version_major": 2,
       "version_minor": 0
      },
      "text/plain": [
       "VBox(children=(VBox(children=(HBox(children=(HTML(value=' '), Label(value='')), layout=Layout(height='40px')),…"
      ]
     },
     "metadata": {},
     "output_type": "display_data"
    },
    {
     "data": {
      "application/vnd.jupyter.widget-view+json": {
       "model_id": "89b09f4abee74ad293cb86f22f99081a",
       "version_major": 2,
       "version_minor": 0
      },
      "text/plain": [
       "HTMLMath(value='<font size=\"+1\">2. Prove the following. For a unitary matrix $U$,')"
      ]
     },
     "metadata": {},
     "output_type": "display_data"
    },
    {
     "data": {
      "application/vnd.jupyter.widget-view+json": {
       "model_id": "0217d819652a4c1a861b2670f038c1c1",
       "version_major": 2,
       "version_minor": 0
      },
      "text/plain": [
       "HTMLMath(value='<font size=\"+0\">&emsp;$\\\\left&#60;UV,UV\\'\\\\right&#62;$&emsp;=&emsp;$\\\\left&#60;V,V\\'\\\\right&#6…"
      ]
     },
     "metadata": {},
     "output_type": "display_data"
    },
    {
     "data": {
      "application/vnd.jupyter.widget-view+json": {
       "model_id": "4db5480e0f1e4d268ea6951e009fd544",
       "version_major": 2,
       "version_minor": 0
      },
      "text/plain": [
       "VBox(children=(VBox(children=(HBox(children=(HTML(value=' '), Label(value='')), layout=Layout(height='40px')),…"
      ]
     },
     "metadata": {},
     "output_type": "display_data"
    }
   ],
   "source": [
    "%run pyfiles/saquiz7_2  #This runs the file that has the quiz code\n",
    "createQuiz7_2()"
   ]
  },
  {
   "cell_type": "markdown",
   "metadata": {},
   "source": [
    "## Quiz 8.1 Self Assessment Quiz\n",
    "\n",
    "Calculate the tensor product for the following,\n",
    "\n",
    "1. $\\begin{bmatrix}5\\\\4\\\\10\\end{bmatrix}\\otimes\\begin{bmatrix}-1\\\\2\\end{bmatrix}$\n",
    "<br><br>\n",
    "\n",
    "2. $\\begin{bmatrix}2+3i\\\\10-4i\\end{bmatrix}\\otimes\\begin{bmatrix}4\\\\-1+i\\end{bmatrix}$"
   ]
  },
  {
   "cell_type": "code",
   "execution_count": 5,
   "metadata": {},
   "outputs": [
    {
     "name": "stderr",
     "output_type": "stream",
     "text": [
      "C:\\Users\\greyh\\Documents\\1 - Projects\\Quantum\\Mod\\overallMerge\\Merge\\pyfiles\\saquiz8_1.py:18: SyntaxWarning: invalid escape sequence '\\e'\n",
      "  q1 = prepareQuestion(\"1. $\\\\begin{bmatrix}5\\\\\\\\4\\\\\\\\10\\end{bmatrix}\\otimes\\\\begin{bmatrix}-1\\\\\\\\2\\end{bmatrix}$\",[\"hint 1\",\"hint 2\",\"hint 3\",\"hint 4\",\"hint 5\"], \" <font size=\\\"-1\\\">$\\\\begin{bmatrix}5\\\\\\\\4\\\\\\\\10\\end{bmatrix}\\otimes\\\\begin{bmatrix}-1\\\\\\\\2\\end{bmatrix}$&emsp;=&emsp;$\\\\begin{bmatrix}5\\cdot\\\\begin{bmatrix}-1\\\\\\\\2\\end{bmatrix}\\\\\\\\4\\cdot\\\\begin{bmatrix}-1\\\\\\\\2\\end{bmatrix}\\\\\\\\10\\cdot\\\\begin{bmatrix}-1\\\\\\\\2\\end{bmatrix}\\end{bmatrix}$&emsp;=&emsp;$\\\\begin{bmatrix}-5\\\\\\\\10\\\\\\\\-4\\\\\\\\8\\\\\\\\-10\\\\\\\\20\\end{bmatrix}$\")\n",
      "C:\\Users\\greyh\\Documents\\1 - Projects\\Quantum\\Mod\\overallMerge\\Merge\\pyfiles\\saquiz8_1.py:18: SyntaxWarning: invalid escape sequence '\\e'\n",
      "  q1 = prepareQuestion(\"1. $\\\\begin{bmatrix}5\\\\\\\\4\\\\\\\\10\\end{bmatrix}\\otimes\\\\begin{bmatrix}-1\\\\\\\\2\\end{bmatrix}$\",[\"hint 1\",\"hint 2\",\"hint 3\",\"hint 4\",\"hint 5\"], \" <font size=\\\"-1\\\">$\\\\begin{bmatrix}5\\\\\\\\4\\\\\\\\10\\end{bmatrix}\\otimes\\\\begin{bmatrix}-1\\\\\\\\2\\end{bmatrix}$&emsp;=&emsp;$\\\\begin{bmatrix}5\\cdot\\\\begin{bmatrix}-1\\\\\\\\2\\end{bmatrix}\\\\\\\\4\\cdot\\\\begin{bmatrix}-1\\\\\\\\2\\end{bmatrix}\\\\\\\\10\\cdot\\\\begin{bmatrix}-1\\\\\\\\2\\end{bmatrix}\\end{bmatrix}$&emsp;=&emsp;$\\\\begin{bmatrix}-5\\\\\\\\10\\\\\\\\-4\\\\\\\\8\\\\\\\\-10\\\\\\\\20\\end{bmatrix}$\")\n",
      "C:\\Users\\greyh\\Documents\\1 - Projects\\Quantum\\Mod\\overallMerge\\Merge\\pyfiles\\saquiz8_1.py:19: SyntaxWarning: invalid escape sequence '\\e'\n",
      "  q2 = prepareQuestion(\"2. $\\\\begin{bmatrix}2+3i\\\\\\\\10-4i\\end{bmatrix}\\otimes\\\\begin{bmatrix}4\\\\\\\\-1+i\\end{bmatrix}$\",[\"hint 1\"], \"<font size=\\\"-1\\\">$\\\\begin{bmatrix}2+3i\\\\\\\\10-4i\\end{bmatrix}\\otimes\\\\begin{bmatrix}4\\\\\\\\-1+i\\end{bmatrix}$&emsp;=&emsp;$\\\\begin{bmatrix}(2+3i)\\cdot\\\\begin{bmatrix}4\\\\\\\\-1+i\\end{bmatrix}\\\\\\\\(10-4i)\\cdot\\\\begin{bmatrix}4\\\\\\\\-1+i\\end{bmatrix}\\end{bmatrix}$&emsp;=&emsp;$\\\\begin{bmatrix}8+12i\\\\\\\\-5-i\\\\\\\\40-16i\\\\\\\\-6+14i\\end{bmatrix}$\")\n",
      "C:\\Users\\greyh\\Documents\\1 - Projects\\Quantum\\Mod\\overallMerge\\Merge\\pyfiles\\saquiz8_1.py:19: SyntaxWarning: invalid escape sequence '\\e'\n",
      "  q2 = prepareQuestion(\"2. $\\\\begin{bmatrix}2+3i\\\\\\\\10-4i\\end{bmatrix}\\otimes\\\\begin{bmatrix}4\\\\\\\\-1+i\\end{bmatrix}$\",[\"hint 1\"], \"<font size=\\\"-1\\\">$\\\\begin{bmatrix}2+3i\\\\\\\\10-4i\\end{bmatrix}\\otimes\\\\begin{bmatrix}4\\\\\\\\-1+i\\end{bmatrix}$&emsp;=&emsp;$\\\\begin{bmatrix}(2+3i)\\cdot\\\\begin{bmatrix}4\\\\\\\\-1+i\\end{bmatrix}\\\\\\\\(10-4i)\\cdot\\\\begin{bmatrix}4\\\\\\\\-1+i\\end{bmatrix}\\end{bmatrix}$&emsp;=&emsp;$\\\\begin{bmatrix}8+12i\\\\\\\\-5-i\\\\\\\\40-16i\\\\\\\\-6+14i\\end{bmatrix}$\")\n"
     ]
    },
    {
     "data": {
      "application/vnd.jupyter.widget-view+json": {
       "model_id": "c9cde27d5fa8402484924ffaf3bf0ab9",
       "version_major": 2,
       "version_minor": 0
      },
      "text/plain": [
       "VBox(children=(HTML(value='<b><font size=\"+2\">Quiz 8.1 Self Assessment Quiz'),), layout=Layout(display='flex_f…"
      ]
     },
     "metadata": {},
     "output_type": "display_data"
    },
    {
     "data": {
      "application/vnd.jupyter.widget-view+json": {
       "model_id": "03988e90089f439c897d10e8ffdca2a3",
       "version_major": 2,
       "version_minor": 0
      },
      "text/plain": [
       "HTMLMath(value='<font size=\"+1\">Calculate the tensor product for the following,')"
      ]
     },
     "metadata": {},
     "output_type": "display_data"
    },
    {
     "data": {
      "application/vnd.jupyter.widget-view+json": {
       "model_id": "0a09872c1d8f45188864c5e5934fe9e7",
       "version_major": 2,
       "version_minor": 0
      },
      "text/plain": [
       "HTMLMath(value='<font size=\"+0\">&emsp;1. $\\\\begin{bmatrix}5\\\\\\\\4\\\\\\\\10\\\\end{bmatrix}\\\\otimes\\\\begin{bmatrix}-1…"
      ]
     },
     "metadata": {},
     "output_type": "display_data"
    },
    {
     "data": {
      "application/vnd.jupyter.widget-view+json": {
       "model_id": "93d429d081fc4d46acdfcf652e3947f3",
       "version_major": 2,
       "version_minor": 0
      },
      "text/plain": [
       "VBox(children=(VBox(children=(HBox(children=(HTML(value=' '), Label(value='')), layout=Layout(height='40px')),…"
      ]
     },
     "metadata": {},
     "output_type": "display_data"
    },
    {
     "data": {
      "application/vnd.jupyter.widget-view+json": {
       "model_id": "ce20c75e8ac449638f8bdfa4fac09ada",
       "version_major": 2,
       "version_minor": 0
      },
      "text/plain": [
       "HTMLMath(value='<font size=\"+0\">&emsp;2. $\\\\begin{bmatrix}2+3i\\\\\\\\10-4i\\\\end{bmatrix}\\\\otimes\\\\begin{bmatrix}4…"
      ]
     },
     "metadata": {},
     "output_type": "display_data"
    },
    {
     "data": {
      "application/vnd.jupyter.widget-view+json": {
       "model_id": "e8cfa005b8a047b48f9b1eeb2d358a26",
       "version_major": 2,
       "version_minor": 0
      },
      "text/plain": [
       "VBox(children=(VBox(children=(HBox(children=(HTML(value=' '), Label(value='')), layout=Layout(height='40px')),…"
      ]
     },
     "metadata": {},
     "output_type": "display_data"
    }
   ],
   "source": [
    "%run pyfiles/saquiz8_1  #This runs the file that has the quiz code\n",
    "createQuiz8_1()"
   ]
  }
 ],
 "metadata": {
  "celltoolbar": "Slideshow",
  "kernelspec": {
   "display_name": "Python 3 (ipykernel)",
   "language": "python",
   "name": "python3"
  },
  "language_info": {
   "codemirror_mode": {
    "name": "ipython",
    "version": 3
   },
   "file_extension": ".py",
   "mimetype": "text/x-python",
   "name": "python",
   "nbconvert_exporter": "python",
   "pygments_lexer": "ipython3",
   "version": "3.12.3"
  }
 },
 "nbformat": 4,
 "nbformat_minor": 4
}
